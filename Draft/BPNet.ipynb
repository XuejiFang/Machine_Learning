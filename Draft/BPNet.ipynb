{
 "cells": [
  {
   "cell_type": "markdown",
   "id": "89d7f113-d76b-42a3-ad3b-74ca3d86c74c",
   "metadata": {},
   "source": [
    "## 1. 数据与预处理"
   ]
  },
  {
   "cell_type": "code",
   "execution_count": 1,
   "id": "97aaa8a8-937c-4076-a4ff-dfb04347102c",
   "metadata": {},
   "outputs": [],
   "source": [
    "import torch\n",
    "import torch.nn as nn\n",
    "import torch.optim as optim\n",
    "import torchvision\n",
    "import torchvision.transforms as transforms\n",
    "import numpy as np\n",
    "import matplotlib.pyplot as plt"
   ]
  },
  {
   "cell_type": "code",
   "execution_count": 2,
   "id": "3b79ec8c-bbca-4546-9c30-ca0a5f166fb3",
   "metadata": {},
   "outputs": [],
   "source": [
    "# 设置超参数\n",
    "num_epochs = 5\n",
    "batch_size = 512\n",
    "learning_rate = 0.001"
   ]
  },
  {
   "cell_type": "code",
   "execution_count": 3,
   "id": "019a849f-8e1c-43d3-b75e-45ecddc9b696",
   "metadata": {},
   "outputs": [
    {
     "name": "stdout",
     "output_type": "stream",
     "text": [
      "cuda\n"
     ]
    }
   ],
   "source": [
    "device = torch.device(\"cuda\" if torch.cuda.is_available() else \"cpu\")\n",
    "print(device)"
   ]
  },
  {
   "cell_type": "code",
   "execution_count": 4,
   "id": "464890eb-b6f2-4621-a60f-784c88c3e03d",
   "metadata": {},
   "outputs": [],
   "source": [
    "# 加载MNIST数据集\n",
    "train_dataset = torchvision.datasets.MNIST(\n",
    "    root = './data/', train = True, transform=transforms.ToTensor(), download=False)\n",
    "test_dataset = torchvision.datasets.MNIST(\n",
    "    root = './data/', train = False, transform=transforms.ToTensor(), download=False)"
   ]
  },
  {
   "cell_type": "code",
   "execution_count": 5,
   "id": "c6640c2e-6836-4b2f-997b-a35f6e07d325",
   "metadata": {},
   "outputs": [
    {
     "data": {
      "text/plain": [
       "<matplotlib.image.AxesImage at 0x7f0cc7b5e6a0>"
      ]
     },
     "execution_count": 5,
     "metadata": {},
     "output_type": "execute_result"
    },
    {
     "data": {
      "image/png": "[encoded data removed]",
      "text/plain": [
       "<Figure size 432x288 with 1 Axes>"
      ]
     },
     "metadata": {
      "needs_background": "light"
     },
     "output_type": "display_data"
    }
   ],
   "source": [
    "import matplotlib.pyplot as plt\n",
    "plt.imshow(train_dataset.data[0])"
   ]
  },
  {
   "cell_type": "code",
   "execution_count": 6,
   "id": "e86f2354-7244-4acb-b97d-9dc07c3c689d",
   "metadata": {},
   "outputs": [],
   "source": [
    "# 配置Data loader，一次训练载入一个batch_size的数据集\n",
    "train_loader = torch.utils.data.DataLoader(\n",
    "    dataset = train_dataset, batch_size=batch_size, shuffle=True)\n",
    "test_loader = torch.utils.data.DataLoader(\n",
    "    dataset = test_dataset, batch_size = batch_size, shuffle = False)"
   ]
  },
  {
   "cell_type": "markdown",
   "id": "278f614f-7658-4488-be43-27a8c77a2f68",
   "metadata": {},
   "source": [
    "## 2. 神经网络搭建"
   ]
  },
  {
   "cell_type": "code",
   "execution_count": 7,
   "id": "f00b7d66-0956-490a-9b12-b2ca6a9ab228",
   "metadata": {},
   "outputs": [],
   "source": [
    "class BPNet(nn.Module):\n",
    "    def __init__(self, num_classes = 10):\n",
    "        super(BPNet, self).__init__()\n",
    "        self.fc1 = nn.Linear(28*28, 256)\n",
    "        self.fc2 = nn.Linear(256, 128)\n",
    "        self.fc3 = nn.Linear(128, 10)\n",
    "        self.relu = nn.ReLU()\n",
    "    \n",
    "    def forward(self, x):\n",
    "        x = x.view(-1, 28*28)\n",
    "        \n",
    "        x = self.fc1(x)\n",
    "        x = self.relu(x)\n",
    "        \n",
    "        x = self.fc2(x)\n",
    "        x = self.relu(x)\n",
    "        \n",
    "        x = self.fc3(x)\n",
    "        \n",
    "        return x"
   ]
  },
  {
   "cell_type": "code",
   "execution_count": 11,
   "id": "f1b24c28-8d7a-4585-9460-cd40b75e49cc",
   "metadata": {},
   "outputs": [],
   "source": [
    "model = BPNet().to(device)"
   ]
  },
  {
   "cell_type": "markdown",
   "id": "d01fdc40-27fa-4d7d-8df6-1ced9e3237c7",
   "metadata": {},
   "source": [
    "## 3. 定义损失函数和优化器"
   ]
  },
  {
   "cell_type": "code",
   "execution_count": 12,
   "id": "8936367f-7537-4119-94d4-e00397894ff9",
   "metadata": {},
   "outputs": [],
   "source": [
    "criterion = nn.CrossEntropyLoss()\n",
    "optimizer = optim.SGD(model.parameters(), lr=learning_rate)"
   ]
  },
  {
   "cell_type": "markdown",
   "id": "845634c8-b01f-4699-ab98-8d984b295f9b",
   "metadata": {},
   "source": [
    "## 4. 模型训练与测试"
   ]
  },
  {
   "cell_type": "markdown",
   "id": "23ecb35d-7d52-43ac-be16-8ac45e43ac86",
   "metadata": {},
   "source": [
    "### 4.1. 模型训练"
   ]
  },
  {
   "cell_type": "code",
   "execution_count": 13,
   "id": "14f26771-3a63-4bf6-a2e7-3f37b71b1527",
   "metadata": {},
   "outputs": [
    {
     "name": "stdout",
     "output_type": "stream",
     "text": [
      "Epoch [1/5], Step [100/118], Loss:  2.2952\n",
      "Epoch [2/5], Step [100/118], Loss:  2.2906\n",
      "Epoch [3/5], Step [100/118], Loss:  2.2852\n",
      "Epoch [4/5], Step [100/118], Loss:  2.2821\n",
      "Epoch [5/5], Step [100/118], Loss:  2.2788\n"
     ]
    }
   ],
   "source": [
    "total_step = len(train_loader)\n",
    "Loss = []\n",
    "# 每一次迭代\n",
    "for epoch in range(num_epochs):\n",
    "    # 每一批次数据集\n",
    "    for i, (images, labels) in enumerate(train_loader):\n",
    "        images = images.to(device); labels = labels.to(device)\n",
    "        \n",
    "        # 前向传播\n",
    "        outputs = model(images)\n",
    "        loss = criterion(outputs, labels)\n",
    "        \n",
    "        # 反向优化\n",
    "        optimizer.zero_grad()\n",
    "        loss.backward()\n",
    "        optimizer.step()\n",
    "        \n",
    "        if (i + 1) % 100 == 0:\n",
    "            \n",
    "            print(\"Epoch [{}/{}], Step [{}/{}], Loss: {: .4f}\".format(\n",
    "                epoch+1, num_epochs, i+1, total_step, loss.item())\n",
    "            )\n",
    "        Loss.append(loss.item())"
   ]
  },
  {
   "cell_type": "markdown",
   "id": "6411c710-8108-4f4e-aa27-751b68c78dcd",
   "metadata": {},
   "source": [
    "### 4.2. 测试模型效果"
   ]
  },
  {
   "cell_type": "code",
   "execution_count": 14,
   "id": "e5eb76b6-c379-4c32-801a-593bc673edfa",
   "metadata": {},
   "outputs": [
    {
     "name": "stdout",
     "output_type": "stream",
     "text": [
      "Test Accuracy of the model on the 10000 test images:16.07 %\n"
     ]
    }
   ],
   "source": [
    "model.eval()\n",
    "pred_prob0 = []\n",
    "true_label = []\n",
    "with torch.no_grad():\n",
    "    correct = 0; total = 0\n",
    "    for i, (images, labels) in enumerate(test_loader):\n",
    "        images = images.to(device); labels = labels.to(device)\n",
    "        outputs = model(images)\n",
    "        probs = nn.Softmax(dim=1)(outputs)\n",
    "        pred_prob0.extend(probs[:,0].tolist())\n",
    "        true_label.extend(labels.tolist())\n",
    "        predicted = torch.max(probs, 1).indices\n",
    "        # _, predicted = torch.max(outputs.data, 1)\n",
    "        \n",
    "        total += labels.size(0)\n",
    "        correct += (predicted == labels).sum().item()\n",
    "        \n",
    "    print(\n",
    "        \"Test Accuracy of the model on the 10000 test images:{} %\".format(\n",
    "            100 * correct / total)\n",
    "    )"
   ]
  },
  {
   "cell_type": "code",
   "execution_count": 18,
   "id": "d864c4bb-6e9a-4e0d-9312-aad4cf5c8896",
   "metadata": {},
   "outputs": [
    {
     "data": {
      "text/plain": [
       "[<matplotlib.lines.Line2D at 0x7f0c00108190>]"
      ]
     },
     "execution_count": 18,
     "metadata": {},
     "output_type": "execute_result"
    },
    {
     "data": {
      "image/png": "[encoded data removed]",
      "text/plain": [
       "<Figure size 432x288 with 1 Axes>"
      ]
     },
     "metadata": {
      "needs_background": "light"
     },
     "output_type": "display_data"
    }
   ],
   "source": [
    "plt.plot(Loss)"
   ]
  },
  {
   "cell_type": "code",
   "execution_count": 15,
   "id": "a64527af-520d-418c-9b3d-59b57a42b2fc",
   "metadata": {},
   "outputs": [],
   "source": [
    "ture0 = true_label\n",
    "for i, label in enumerate(true_label):\n",
    "    if label == 0:\n",
    "        ture0[i] = 1\n",
    "    else:\n",
    "        ture0[i] = 0"
   ]
  },
  {
   "cell_type": "code",
   "execution_count": 16,
   "id": "5149ee31-949b-48de-9cf8-51454625856c",
   "metadata": {},
   "outputs": [],
   "source": [
    "from sklearn.metrics import roc_curve, auc"
   ]
  },
  {
   "cell_type": "code",
   "execution_count": 17,
   "id": "22b5f5e3-746f-45ca-b193-97c5e1fc2efa",
   "metadata": {},
   "outputs": [
    {
     "data": {
      "image/png": "[encoded data removed]",
      "text/plain": [
       "<Figure size 432x288 with 1 Axes>"
      ]
     },
     "metadata": {
      "needs_background": "light"
     },
     "output_type": "display_data"
    }
   ],
   "source": [
    "fpr, tpr, thresholds = roc_curve(ture0, pred_prob0)\n",
    "plt.plot(fpr, tpr)\n",
    "plt.xlabel('False Positive Rate')\n",
    "plt.ylabel('True Positive Rate')\n",
    "\n",
    "roc_auc = auc(fpr, tpr)\n",
    "plt.text(0.5, 0.5, 'AUC = {:.3f}'.format(roc_auc))\n",
    "\n",
    "plt.show()"
   ]
  },
  {
   "cell_type": "code",
   "execution_count": null,
   "id": "b88ea9ed-d9ac-4e91-9c40-17137977c629",
   "metadata": {},
   "outputs": [],
   "source": []
  }
 ],
 "metadata": {
  "kernelspec": {
   "display_name": "PyTorch 1.8",
   "language": "python",
   "name": "torch1.8"
  },
  "language_info": {
   "codemirror_mode": {
    "name": "ipython",
    "version": 3
   },
   "file_extension": ".py",
   "mimetype": "text/x-python",
   "name": "python",
   "nbconvert_exporter": "python",
   "pygments_lexer": "ipython3",
   "version": "3.9.7"
  }
 },
 "nbformat": 4,
 "nbformat_minor": 5
}
