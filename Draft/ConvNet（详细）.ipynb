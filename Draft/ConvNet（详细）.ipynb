{
 "cells": [
  {
   "cell_type": "markdown",
   "id": "2c94ce99-5ffb-4bf9-9a3f-4373623f23f8",
   "metadata": {},
   "source": [
    "## What I Do\n",
    "\n",
    "1. 基于pyTorch实现一个自定义的卷积神经网络\n",
    "2. 通过torchvision加载MNIST数据集\n",
    "3. 学习使用Microsoft Visio绘制卷积神经网络结构示意图\n",
    "![](https://jaggar-oss.oss-cn-shanghai.aliyuncs.com/img/ConvNet.png)"
   ]
  },
  {
   "cell_type": "markdown",
   "id": "2a2c42df-35d7-4ddf-b24d-2794e8ef7bc2",
   "metadata": {
    "tags": []
   },
   "source": [
    "## 1. 载入数据集及预处理"
   ]
  },
  {
   "cell_type": "code",
   "execution_count": 1,
   "id": "afbc9769-0e25-448a-bae5-183a58541a56",
   "metadata": {},
   "outputs": [],
   "source": [
    "import torch\n",
    "import torch.nn as nn\n",
    "import torchvision\n",
    "import torchvision.transforms as transforms\n",
    "import numpy as np"
   ]
  },
  {
   "cell_type": "code",
   "execution_count": 2,
   "id": "d4eea36c-6d48-4aac-86a3-2f621c2b9615",
   "metadata": {},
   "outputs": [],
   "source": [
    "# 设置超参数\n",
    "num_epochs = 5\n",
    "batch_size = 512\n",
    "learning_rate = 0.001"
   ]
  },
  {
   "cell_type": "code",
   "execution_count": 3,
   "id": "97b32d5c-0e06-42f4-9f1c-9f79e8b67cf7",
   "metadata": {},
   "outputs": [
    {
     "name": "stdout",
     "output_type": "stream",
     "text": [
      "cuda\n"
     ]
    }
   ],
   "source": [
    "# CPU/GPU运行设置\n",
    "device = torch.device(\"cuda\" if torch.cuda.is_available() else \"cpu\")\n",
    "print(device)"
   ]
  },
  {
   "cell_type": "code",
   "execution_count": 4,
   "id": "1adc1e93-f713-4661-a58b-ecd7af42021f",
   "metadata": {},
   "outputs": [],
   "source": [
    "# 加载MNIST数据集\n",
    "train_dataset = torchvision.datasets.MNIST(\n",
    "    root = \"./data/\", train = True, transform = transforms.ToTensor(), download = False)\n",
    "test_dataset = torchvision.datasets.MNIST(\n",
    "    root = \"./data\", train = False, transform = transforms.ToTensor(), download = False)"
   ]
  },
  {
   "cell_type": "code",
   "execution_count": 5,
   "id": "60a3a714-b722-40d3-bf11-3105eba9247b",
   "metadata": {},
   "outputs": [
    {
     "name": "stdout",
     "output_type": "stream",
     "text": [
      "train size:\t torch.Size([60000, 28, 28])\n",
      "test size:\t torch.Size([10000, 28, 28])\n"
     ]
    }
   ],
   "source": [
    "print(\"train size:\\t\", train_dataset.data.shape)\n",
    "print(\"test size:\\t\", test_dataset.data.shape)"
   ]
  },
  {
   "cell_type": "code",
   "execution_count": 6,
   "id": "bc4b276d-1fa5-492f-aa8f-c6eeca9273df",
   "metadata": {},
   "outputs": [
    {
     "data": {
      "image/png": "[encoded data removed]",
      "text/plain": [
       "<Figure size 432x288 with 1 Axes>"
      ]
     },
     "metadata": {
      "needs_background": "light"
     },
     "output_type": "display_data"
    }
   ],
   "source": [
    "import matplotlib.pyplot as plt\n",
    "plt.imshow(train_dataset.data[0])\n",
    "plt.savefig('fig.png')"
   ]
  },
  {
   "cell_type": "code",
   "execution_count": 7,
   "id": "e5e0eee7-0e3d-4fdb-9c74-be5fec04461a",
   "metadata": {},
   "outputs": [],
   "source": [
    "# 配置Data loader，一次训练载入一个batch_size的数据\n",
    "train_loader = torch.utils.data.DataLoader(\n",
    "    dataset = train_dataset, batch_size=batch_size, shuffle=True)\n",
    "test_loader = torch.utils.data.DataLoader(\n",
    "    dataset = test_dataset, batch_size=batch_size, shuffle=False)"
   ]
  },
  {
   "cell_type": "markdown",
   "id": "90cde915-3488-40dd-a9c8-519a43908660",
   "metadata": {
    "tags": []
   },
   "source": [
    "## 2. 神经网络的搭建"
   ]
  },
  {
   "cell_type": "code",
   "execution_count": 8,
   "id": "aa7d98bc-0085-4e1c-aeeb-3f3f3d48259e",
   "metadata": {},
   "outputs": [],
   "source": [
    "class ConvNet(nn.Module):\n",
    "    def __init__(self, num_classes = 10):\n",
    "        super(ConvNet, self).__init__()\n",
    "        # 定义卷积模块self_layer1, self_layer2\n",
    "        self.layer1 = nn.Sequential(\n",
    "            # 输入通道1，输出通道16，卷积核5*5，边衬2单位\n",
    "            nn.Conv2d(1, 16, kernel_size=5, stride=1, padding=2),\n",
    "            # 批量归一化\n",
    "            nn.BatchNorm2d(16),\n",
    "            # 激活函数层\n",
    "            nn.ReLU(),\n",
    "            # 最大池化层\n",
    "            nn.MaxPool2d(kernel_size=2, stride=2),\n",
    "        )\n",
    "        self.layer2 = nn.Sequential(\n",
    "            nn.Conv2d(16, 32, kernel_size=5, stride=1, padding=2),\n",
    "            nn.BatchNorm2d(32),\n",
    "            nn.ReLU(),\n",
    "            nn.MaxPool2d(kernel_size=2, stride=2),\n",
    "        )\n",
    "        \n",
    "        self.fc = nn.Linear(7 * 7 * 32, num_classes)\n",
    "        \n",
    "        \n",
    "    def forward(self, x):\n",
    "        #print(\"x size:\\t\", x.shape)\n",
    "        out = self.layer1(x)   #; print(\"out1 size:\\t\", out.shape)\n",
    "        out = self.layer2(out) #; print(\"out2 size:\\t\", out.shape)\n",
    "        out = out.reshape(out.size(0), -1) #; print(\"out3 size:\\t\", out.shape)\n",
    "        out = self.fc(out)    #; print(\"outFinal size:\\t\", out.shape)\n",
    "\n",
    "        return out"
   ]
  },
  {
   "cell_type": "code",
   "execution_count": 9,
   "id": "bb05c2b9-1499-4414-97f2-7b0096caa544",
   "metadata": {},
   "outputs": [],
   "source": [
    "model = ConvNet().to(device)"
   ]
  },
  {
   "cell_type": "markdown",
   "id": "b0930adf-7721-41a4-aa06-538f9df69a66",
   "metadata": {
    "jp-MarkdownHeadingCollapsed": true,
    "tags": []
   },
   "source": [
    "## 3. 损失函数+优化方法\n",
    "\n",
    "- 多分类问题，可采用交叉熵损失函数\n",
    "- Adam (adaptive moment estimation) 梯度下降"
   ]
  },
  {
   "cell_type": "code",
   "execution_count": 10,
   "id": "a9776f66-a7fc-4025-8090-87f1bb7875cc",
   "metadata": {},
   "outputs": [],
   "source": [
    "# Loss and optimizer\n",
    "criterion = nn.CrossEntropyLoss()\n",
    "optimizer = torch.optim.Adam(model.parameters(), lr=learning_rate)"
   ]
  },
  {
   "cell_type": "markdown",
   "id": "5813cbf1-0f45-456a-adde-3d89b873d081",
   "metadata": {
    "tags": []
   },
   "source": [
    "## 4. 模型训练与测试"
   ]
  },
  {
   "cell_type": "markdown",
   "id": "d6cb0074-937f-4219-84a1-25916e30dabe",
   "metadata": {
    "tags": []
   },
   "source": [
    "### 4.1. 训练模型"
   ]
  },
  {
   "cell_type": "code",
   "execution_count": 11,
   "id": "69b68f36-4311-44b1-885c-070f166e6626",
   "metadata": {},
   "outputs": [
    {
     "name": "stdout",
     "output_type": "stream",
     "text": [
      "Epoch [1/5], Step [100/118], Loss:  0.1152\n",
      "Epoch [2/5], Step [100/118], Loss:  0.0601\n",
      "Epoch [3/5], Step [100/118], Loss:  0.0388\n",
      "Epoch [4/5], Step [100/118], Loss:  0.0414\n",
      "Epoch [5/5], Step [100/118], Loss:  0.0336\n"
     ]
    }
   ],
   "source": [
    "total_step = len(train_loader)\n",
    "Loss = []\n",
    "# 每一次迭代\n",
    "for epoch in range(num_epochs):\n",
    "    # 每一批次数据集\n",
    "    for i, (images, labels) in enumerate(train_loader):\n",
    "        images = images.to(device); labels = labels.to(device)\n",
    "        \n",
    "        # 前向传播\n",
    "        outputs = model(images)\n",
    "        loss = criterion(outputs, labels)\n",
    "        \n",
    "        # 反向优化\n",
    "        optimizer.zero_grad()\n",
    "        loss.backward()\n",
    "        optimizer.step()\n",
    "        \n",
    "        if (i + 1) % 100 == 0:\n",
    "            \n",
    "            print(\"Epoch [{}/{}], Step [{}/{}], Loss: {: .4f}\".format(\n",
    "                epoch+1, num_epochs, i+1, total_step, loss.item())\n",
    "            )\n",
    "        Loss.append(loss.item())"
   ]
  },
  {
   "cell_type": "code",
   "execution_count": 12,
   "id": "22485007-7c58-4af3-aa52-9b315dbb1729",
   "metadata": {},
   "outputs": [
    {
     "data": {
      "text/plain": [
       "[<matplotlib.lines.Line2D at 0x7f85aa2ae580>]"
      ]
     },
     "execution_count": 12,
     "metadata": {},
     "output_type": "execute_result"
    },
    {
     "data": {
      "image/png": "[encoded data removed]",
      "text/plain": [
       "<Figure size 432x288 with 1 Axes>"
      ]
     },
     "metadata": {
      "needs_background": "light"
     },
     "output_type": "display_data"
    }
   ],
   "source": [
    "plt.plot(Loss)"
   ]
  },
  {
   "cell_type": "markdown",
   "id": "68c89ff1-ead4-402b-a37a-7d39baa95b20",
   "metadata": {
    "tags": []
   },
   "source": [
    "### 4.2. 测试模型效果"
   ]
  },
  {
   "cell_type": "code",
   "execution_count": 13,
   "id": "dddee956-8131-404f-8ac6-32ac97ffcb5f",
   "metadata": {},
   "outputs": [
    {
     "name": "stdout",
     "output_type": "stream",
     "text": [
      "Test Accuracy of the model on the 10000 test images:98.76 %\n"
     ]
    }
   ],
   "source": [
    "model.eval()\n",
    "pred_prob0 = []\n",
    "true_label = []\n",
    "with torch.no_grad():\n",
    "    correct = 0; total = 0\n",
    "    for i, (images, labels) in enumerate(test_loader):\n",
    "        images = images.to(device); labels = labels.to(device)\n",
    "        outputs = model(images)\n",
    "        probs = nn.Softmax(dim=1)(outputs)\n",
    "        pred_prob0.extend(probs[:,0].tolist())\n",
    "        true_label.extend(labels.tolist())\n",
    "        predicted = torch.max(probs, 1).indices\n",
    "        # _, predicted = torch.max(outputs.data, 1)\n",
    "        \n",
    "        total += labels.size(0)\n",
    "        correct += (predicted == labels).sum().item()\n",
    "        \n",
    "    print(\n",
    "        \"Test Accuracy of the model on the 10000 test images:{} %\".format(\n",
    "            100 * correct / total)\n",
    "    )"
   ]
  },
  {
   "cell_type": "code",
   "execution_count": 20,
   "id": "83d0d28c-1208-4cf1-9647-19bef75ec893",
   "metadata": {},
   "outputs": [],
   "source": [
    "ture0 = true_label\n",
    "for i, label in enumerate(true_label):\n",
    "    if label == 0:\n",
    "        ture0[i] = 1\n",
    "    else:\n",
    "        ture0[i] = 0"
   ]
  },
  {
   "cell_type": "code",
   "execution_count": 21,
   "id": "fcfbe2af-e0ae-4b9b-a815-9fcffd8c78bb",
   "metadata": {},
   "outputs": [],
   "source": [
    "from sklearn.metrics import roc_curve, auc"
   ]
  },
  {
   "cell_type": "code",
   "execution_count": 22,
   "id": "2f7ae9ec-c98c-4e35-b8b4-179c5e7b8572",
   "metadata": {},
   "outputs": [
    {
     "data": {
      "image/png": "[encoded data removed]",
      "text/plain": [
       "<Figure size 432x288 with 1 Axes>"
      ]
     },
     "metadata": {
      "needs_background": "light"
     },
     "output_type": "display_data"
    }
   ],
   "source": [
    "fpr, tpr, thresholds = roc_curve(ture0, pred_prob0)\n",
    "plt.plot(fpr, tpr)\n",
    "plt.xlabel('False Positive Rate')\n",
    "plt.ylabel('True Positive Rate')\n",
    "\n",
    "roc_auc = auc(fpr, tpr)\n",
    "plt.text(0.5, 0.5, 'AUC = {:.3f}'.format(roc_auc))\n",
    "\n",
    "plt.show()"
   ]
  },
  {
   "cell_type": "code",
   "execution_count": null,
   "id": "70862b91-fa92-4c16-a1f7-4d6968daead2",
   "metadata": {},
   "outputs": [],
   "source": []
  }
 ],
 "metadata": {
  "kernelspec": {
   "display_name": "PyTorch 1.8",
   "language": "python",
   "name": "torch1.8"
  },
  "language_info": {
   "codemirror_mode": {
    "name": "ipython",
    "version": 3
   },
   "file_extension": ".py",
   "mimetype": "text/x-python",
   "name": "python",
   "nbconvert_exporter": "python",
   "pygments_lexer": "ipython3",
   "version": "3.9.7"
  },
  "toc-autonumbering": false
 },
 "nbformat": 4,
 "nbformat_minor": 5
}
