{
 "cells": [
  {
   "cell_type": "code",
   "execution_count": 1,
   "id": "47727daf-b7ac-4642-bdb0-aa163bee37c3",
   "metadata": {},
   "outputs": [
    {
     "name": "stderr",
     "output_type": "stream",
     "text": [
      "/root/.local/lib/python3.9/site-packages/tqdm/auto.py:22: TqdmWarning: IProgress not found. Please update jupyter and ipywidgets. See https://ipywidgets.readthedocs.io/en/stable/user_install.html\n",
      "  from .autonotebook import tqdm as notebook_tqdm\n"
     ]
    }
   ],
   "source": [
    "import torch\n",
    "import torch.nn as nn\n",
    "from torch.utils.data import Dataset, DataLoader\n",
    "from sklearn.datasets import load_iris\n",
    "from sklearn.model_selection import train_test_split"
   ]
  },
  {
   "cell_type": "code",
   "execution_count": 2,
   "id": "094cd2d7-cc38-461f-9c88-2b52ce9d18b0",
   "metadata": {},
   "outputs": [],
   "source": [
    "batch_size = 32\n",
    "input_size = 4\n",
    "hidden_size = 8\n",
    "num_layers = 1\n",
    "num_classes = 3\n",
    "num_epochs = 100"
   ]
  },
  {
   "cell_type": "code",
   "execution_count": 3,
   "id": "148a5abc-3124-41ff-809a-8578e9092c5e",
   "metadata": {},
   "outputs": [
    {
     "name": "stdout",
     "output_type": "stream",
     "text": [
      "cpu\n"
     ]
    }
   ],
   "source": [
    "device = torch.device('cuda' if torch.cuda.is_available() else 'cpu')\n",
    "print(device)"
   ]
  },
  {
   "cell_type": "markdown",
   "id": "998d3ead-c46c-4915-9a35-3a929ca0e28d",
   "metadata": {},
   "source": [
    "## 1. 准备数据"
   ]
  },
  {
   "cell_type": "code",
   "execution_count": 4,
   "id": "9acba7b5-690d-4607-b252-fbd95acd96dc",
   "metadata": {},
   "outputs": [],
   "source": [
    "# 加载鸢尾花数据集\n",
    "iris = load_iris()\n",
    "X = iris.data\n",
    "y = iris.target"
   ]
  },
  {
   "cell_type": "code",
   "execution_count": 5,
   "id": "c7ba8d25-56a0-46d2-b8d7-54ca5c54b3a5",
   "metadata": {},
   "outputs": [],
   "source": [
    "X_train, X_test, y_train, y_test = train_test_split(iris.data,iris.target,test_size=0.2, random_state=42)"
   ]
  },
  {
   "cell_type": "code",
   "execution_count": 19,
   "id": "1cfbf929-83f7-481b-aa8c-9c7c3a48c3c9",
   "metadata": {},
   "outputs": [
    {
     "data": {
      "text/plain": [
       "(30,)"
      ]
     },
     "execution_count": 19,
     "metadata": {},
     "output_type": "execute_result"
    }
   ],
   "source": [
    "y_test.shape"
   ]
  },
  {
   "cell_type": "code",
   "execution_count": 6,
   "id": "8fb96aeb-d3f4-4ec8-9e9e-cc72071a8f46",
   "metadata": {},
   "outputs": [],
   "source": [
    "# 定义数据集\n",
    "class IrisDataset(Dataset):\n",
    "    def __init__(self, X, y):\n",
    "        self.X = X\n",
    "        self.y = y\n",
    "    def __len__(self):\n",
    "        return len(self.X)\n",
    "    def __getitem__(self, idx):\n",
    "        return self.X[idx], self.y[idx]"
   ]
  },
  {
   "cell_type": "code",
   "execution_count": 7,
   "id": "3ae0ccf5-f835-45bd-bdb7-b28f9b4ae5a3",
   "metadata": {},
   "outputs": [],
   "source": [
    "# 创建数据集对象\n",
    "train_dataset = IrisDataset(X_train, y_train)\n",
    "test_dataset = IrisDataset(X_test, y_test)"
   ]
  },
  {
   "cell_type": "code",
   "execution_count": 8,
   "id": "e866645d-dc7c-4ffe-906d-a84c529c83f3",
   "metadata": {},
   "outputs": [],
   "source": [
    "# 创建数据加载器\n",
    "train_dataloader = DataLoader(train_dataset, batch_size=batch_size, shuffle=True)\n",
    "test_dataloader = DataLoader(test_dataset, batch_size=batch_size, shuffle=True)"
   ]
  },
  {
   "cell_type": "markdown",
   "id": "99aab123-5c18-4beb-855f-d40239866cf0",
   "metadata": {},
   "source": [
    "## 2. LSTM模型"
   ]
  },
  {
   "cell_type": "code",
   "execution_count": 9,
   "id": "14910b40-4fb1-4f88-a1fd-521cb2613a67",
   "metadata": {},
   "outputs": [],
   "source": [
    "class LSTM(nn.Module):\n",
    "    def __init__(self, input_size, hidden_size, num_layers, num_classes):\n",
    "        super(LSTM, self).__init__()\n",
    "        self.hidden_size = hidden_size\n",
    "        self.num_layers = num_layers\n",
    "        self.lstm = nn.LSTM(input_size, hidden_size, num_layers, batch_first=True)\n",
    "        self.fc = nn.Linear(hidden_size, num_classes)\n",
    "    \n",
    "    def forward(self, x):\n",
    "        h0 = torch.zeros(self.num_layers, x.size(0), self.hidden_size)\n",
    "        c0 = torch.zeros(self.num_layers, x.size(0), self.hidden_size)\n",
    "        \n",
    "        out, _ = self.lstm(x, (h0, c0))\n",
    "        out = self.fc(out[:, -1, :])\n",
    "        return out"
   ]
  },
  {
   "cell_type": "code",
   "execution_count": 10,
   "id": "4a21b4d7-6bd5-49f4-bf6b-ae2c32e86191",
   "metadata": {},
   "outputs": [],
   "source": [
    "model = LSTM(input_size, hidden_size, num_layers, num_classes).to(device)"
   ]
  },
  {
   "cell_type": "markdown",
   "id": "adb1cc51-5f8b-44a1-9296-410fd16103d5",
   "metadata": {},
   "source": [
    "## 3. 定义损失函数和优化器"
   ]
  },
  {
   "cell_type": "code",
   "execution_count": 11,
   "id": "3cbda6a7-387d-4f6d-bb4a-47bd8df4327a",
   "metadata": {},
   "outputs": [],
   "source": [
    "# 定义损失函数和优化器\n",
    "criterion = nn.CrossEntropyLoss()\n",
    "optimizer = torch.optim.Adam(model.parameters(), lr=0.01)"
   ]
  },
  {
   "cell_type": "markdown",
   "id": "641d785f-cbaf-4754-9071-b459a757633c",
   "metadata": {},
   "source": [
    "## 4. 训练模型"
   ]
  },
  {
   "cell_type": "code",
   "execution_count": 12,
   "id": "6e749532-4a39-4afa-b396-2bcd2cdbd7a9",
   "metadata": {},
   "outputs": [
    {
     "name": "stdout",
     "output_type": "stream",
     "text": [
      "Epoch [10/100], Acc: 93.3333\n",
      "Epoch [20/100], Acc: 97.5000\n",
      "Epoch [30/100], Acc: 97.5000\n",
      "Epoch [40/100], Acc: 97.5000\n",
      "Epoch [50/100], Acc: 96.6667\n",
      "Epoch [60/100], Acc: 96.6667\n",
      "Epoch [70/100], Acc: 97.5000\n",
      "Epoch [80/100], Acc: 98.3333\n",
      "Epoch [90/100], Acc: 97.5000\n",
      "Epoch [100/100], Acc: 98.3333\n"
     ]
    }
   ],
   "source": [
    "Loss = []\n",
    "for epoch in range(num_epochs):\n",
    "    for i, (X, y) in enumerate(train_dataloader):\n",
    "        X = X.view(-1, 1, 4).float().to(device); y = y.long().to(device)\n",
    "        # Forward pass\n",
    "        outputs = model(X)\n",
    "        loss = criterion(outputs, y)\n",
    "        Loss.append(loss.tolist())\n",
    "        \n",
    "        # Backward and optimize\n",
    "        optimizer.zero_grad()\n",
    "        loss.backward()\n",
    "        optimizer.step()\n",
    "        \n",
    "        if (i+1) % 10 == 0:\n",
    "            print ('Epoch [{}/{}], Step [{}/{}], Loss: {:.4f}' \n",
    "                   .format(epoch+1, num_epochs, i+1, len(iris_dataset)//32, loss.item()))\n",
    "   \n",
    "    if (epoch+1) % 10 == 0:\n",
    "        \n",
    "        with torch.no_grad():\n",
    "            correct = 0\n",
    "            total = 0\n",
    "            for X, y in train_dataloader:\n",
    "                X = X.view(-1, 1, 4).float().to(device); y = y.long().to(device)\n",
    "                outputs = model(X)\n",
    "                _, predicted = torch.max(outputs.data, 1)\n",
    "                total += y.size(0)\n",
    "                correct += (predicted == y).sum().item()\n",
    "\n",
    "        print('Epoch [{}/{}], Acc: {:.4f}'.format(epoch+1, num_epochs, 100 * correct / total))"
   ]
  },
  {
   "cell_type": "code",
   "execution_count": 13,
   "id": "c814b6c4-c9e9-4bbd-9c8c-766b88409ec8",
   "metadata": {},
   "outputs": [
    {
     "data": {
      "text/plain": [
       "[<matplotlib.lines.Line2D at 0x7fc0c9fc7d90>]"
      ]
     },
     "execution_count": 13,
     "metadata": {},
     "output_type": "execute_result"
    },
    {
     "data": {
      "image/png": "[encoded data removed]",
      "text/plain": [
       "<Figure size 432x288 with 1 Axes>"
      ]
     },
     "metadata": {
      "needs_background": "light"
     },
     "output_type": "display_data"
    }
   ],
   "source": [
    "import matplotlib.pyplot as plt\n",
    "plt.plot(Loss)"
   ]
  },
  {
   "cell_type": "markdown",
   "id": "558aadcd-ac04-48c9-af03-cfba4d90c182",
   "metadata": {},
   "source": [
    "## 5. 模型评估"
   ]
  },
  {
   "cell_type": "code",
   "execution_count": 14,
   "id": "0fff29f7-28b7-463b-ba34-9592b6610929",
   "metadata": {},
   "outputs": [
    {
     "name": "stdout",
     "output_type": "stream",
     "text": [
      "Accuracy of the model on the test data: 100.0 %\n"
     ]
    }
   ],
   "source": [
    "# 模型评估\n",
    "with torch.no_grad():\n",
    "    correct = 0\n",
    "    total = 0\n",
    "    for X, y in test_dataloader:\n",
    "        X = X.view(-1, 1, 4).float().to(device); y = y.long().to(device)\n",
    "        outputs = model(X)\n",
    "        _, predicted = torch.max(outputs.data, 1)\n",
    "        total += y.size(0)\n",
    "        correct += (predicted == y).sum().item()\n",
    "\n",
    "    print('Accuracy of the model on the test data: {} %'.format(100 * correct / total))"
   ]
  },
  {
   "cell_type": "markdown",
   "id": "9ffd5f32-e2e0-47ad-ad46-ff41e092f289",
   "metadata": {},
   "source": [
    "> 在 PyTorch 中，损失函数和神经网络的输出通常都是浮点数，而标签一般是整数。所以在这里，我们需要将标签数据转换为 `long` 类型。\n",
    ">\n",
    "> 需要注意的是在 Pytorch 中，long 类型是 `int64`，而在 Numpy 中，`int64` 是 `int32`,这可能导致一些错误。 所以通常我们使用 `.long()` 来将numpy `int64` 转为 torch `int64`,防止报错"
   ]
  },
  {
   "cell_type": "code",
   "execution_count": null,
   "id": "9fbbe17e-c858-45a2-8677-848c81b0f215",
   "metadata": {},
   "outputs": [],
   "source": []
  }
 ],
 "metadata": {
  "kernelspec": {
   "display_name": "PyTorch 1.8",
   "language": "python",
   "name": "torch1.8"
  },
  "language_info": {
   "codemirror_mode": {
    "name": "ipython",
    "version": 3
   },
   "file_extension": ".py",
   "mimetype": "text/x-python",
   "name": "python",
   "nbconvert_exporter": "python",
   "pygments_lexer": "ipython3",
   "version": "3.9.7"
  }
 },
 "nbformat": 4,
 "nbformat_minor": 5
}
