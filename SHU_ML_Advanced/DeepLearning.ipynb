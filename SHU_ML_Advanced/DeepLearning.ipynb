{
 "cells": [
  {
   "cell_type": "markdown",
   "metadata": {},
   "source": [
    "## Introduction"
   ]
  },
  {
   "cell_type": "markdown",
   "metadata": {},
   "source": [
    "本实验由中国移动·九天毕昇云计算平台提供算力支持（NVIDIA V100 32G）。"
   ]
  },
  {
   "cell_type": "markdown",
   "metadata": {},
   "source": [
    "## 实验介绍"
   ]
  },
  {
   "cell_type": "markdown",
   "metadata": {
    "jp-MarkdownHeadingCollapsed": true,
    "tags": []
   },
   "source": [
    "### 1.实验内容"
   ]
  },
  {
   "cell_type": "markdown",
   "metadata": {},
   "source": [
    "本实验包括: \n",
    "* 理解深度学习的概念，掌握常见深度学习模型及算法。\n",
    "* 基于深度学习算法，实现手写体字符图像识别。"
   ]
  },
  {
   "cell_type": "markdown",
   "metadata": {
    "jp-MarkdownHeadingCollapsed": true,
    "tags": []
   },
   "source": [
    "### 2.实验环境"
   ]
  },
  {
   "cell_type": "markdown",
   "metadata": {},
   "source": [
    "* python 3.6.5\n",
    "* numpy 1.13.3\n",
    "* pandas 0.23.4 \n",
    "* scikit-image 0.14.2    \n",
    "* scikit-learn 0.20.2\n",
    "* Pillow 5.4.1              \n",
    "* tensorflow 1.12.0\n",
    "* torch 1.0.0     \n",
    "* torchvision 0.2.1  "
   ]
  },
  {
   "cell_type": "markdown",
   "metadata": {
    "jp-MarkdownHeadingCollapsed": true,
    "tags": []
   },
   "source": [
    "### 3.数据介绍"
   ]
  },
  {
   "cell_type": "markdown",
   "metadata": {},
   "source": [
    "* 数据集保存在两个文件夹中，mnist_train与mnist_test，分别作为训练数据和测试数据。\n",
    "* mnist_train与mnist_test中的每个文件夹保存一类手写体图像，文件名为其类别标签。"
   ]
  },
  {
   "cell_type": "markdown",
   "metadata": {
    "tags": []
   },
   "source": [
    "### 4.实验准备"
   ]
  },
  {
   "cell_type": "markdown",
   "metadata": {},
   "source": [
    "点击屏幕右上方的下载实验数据模块，选择下载mnist.tgz到指定目录下，然后再依次选择点击上方的File->Open->Upload,上传刚才下载的数据集压缩包，再使用如下命令解压："
   ]
  },
  {
   "cell_type": "code",
   "execution_count": 1,
   "metadata": {},
   "outputs": [],
   "source": [
    "# !tar -zxvf ./work/mnist.tgz -C ./dataset/mnist"
   ]
  },
  {
   "cell_type": "markdown",
   "metadata": {},
   "source": [
    "> 注：数据量太多，建议在终端完成解压"
   ]
  },
  {
   "cell_type": "markdown",
   "metadata": {},
   "source": [
    "## 正式实验"
   ]
  },
  {
   "cell_type": "markdown",
   "metadata": {},
   "source": [
    "### 1. 导入需要的库"
   ]
  },
  {
   "cell_type": "code",
   "execution_count": 1,
   "metadata": {},
   "outputs": [
    {
     "name": "stderr",
     "output_type": "stream",
     "text": [
      "/root/.local/lib/python3.9/site-packages/tqdm/auto.py:22: TqdmWarning: IProgress not found. Please update jupyter and ipywidgets. See https://ipywidgets.readthedocs.io/en/stable/user_install.html\n",
      "  from .autonotebook import tqdm as notebook_tqdm\n"
     ]
    }
   ],
   "source": [
    "import sys\n",
    "from tqdm import tqdm\n",
    "import torch\n",
    "import torch.nn as nn\n",
    "import torchvision\n",
    "import torchvision.models as models\n",
    "import torchvision.transforms as transforms\n",
    "\n",
    "import numpy as np\n",
    "\n",
    "import os\n",
    "import time\n",
    "import cv2\n",
    "import matplotlib.pyplot as plt\n",
    "import seaborn as sns"
   ]
  },
  {
   "cell_type": "code",
   "execution_count": 2,
   "metadata": {},
   "outputs": [],
   "source": [
    "# 设置超参数\n",
    "num_epochs = 50\n",
    "batch_size = 64\n",
    "learning_rate = 0.01"
   ]
  },
  {
   "cell_type": "markdown",
   "metadata": {
    "tags": []
   },
   "source": [
    "### 2. 数据集展示"
   ]
  },
  {
   "cell_type": "code",
   "execution_count": 3,
   "metadata": {},
   "outputs": [
    {
     "name": "stdout",
     "output_type": "stream",
     "text": [
      "train: 8: 5851\n",
      "\n",
      "train: 3: 6131\n",
      "\n",
      "train: 9: 5949\n",
      "\n",
      "train: 2: 5958\n",
      "\n",
      "train: 4: 5842\n",
      "\n",
      "train: 1: 6742\n",
      "\n",
      "train: 0: 5923\n",
      "\n",
      "train: 5: 5421\n",
      "\n",
      "train: 7: 6265\n",
      "\n",
      "train: 6: 5918\n",
      "\n"
     ]
    }
   ],
   "source": [
    "imgs = []\n",
    "for number in os.listdir('./dataset/mnist/mnist_train/'):\n",
    "    print('train: {}: {}\\n'.format(number, len(os.listdir('./dataset/mnist/mnist_train/' + number))))\n",
    "    for imgName in os.listdir('./dataset/mnist/mnist_train/' + number):\n",
    "        imgPath = './dataset/mnist/mnist_train/' + number + '/' + imgName\n",
    "        img = cv2.imread(imgPath)\n",
    "        imgs.append(img)\n",
    "        break"
   ]
  },
  {
   "cell_type": "code",
   "execution_count": 4,
   "metadata": {},
   "outputs": [
    {
     "data": {
      "image/png": "[encoded data removed]",
      "text/plain": [
       "<Figure size 432x288 with 9 Axes>"
      ]
     },
     "metadata": {},
     "output_type": "display_data"
    }
   ],
   "source": [
    "fig, axes = plt.subplots(3, 3)\n",
    "for i in range(3):\n",
    "    for j in range(3):\n",
    "        axes[i, j].imshow(imgs[i*3+j])\n",
    "        axes[i, j].set_xticks([])\n",
    "        axes[i, j].set_yticks([])"
   ]
  },
  {
   "cell_type": "markdown",
   "metadata": {
    "tags": []
   },
   "source": [
    "### 3. 经典CNN模型复现"
   ]
  },
  {
   "cell_type": "markdown",
   "metadata": {
    "jp-MarkdownHeadingCollapsed": true,
    "tags": []
   },
   "source": [
    "#### 3.1 AlexNet"
   ]
  },
  {
   "cell_type": "code",
   "execution_count": 6,
   "metadata": {},
   "outputs": [],
   "source": [
    "class AlexNet(nn.Module):\n",
    "    def __init__(self, num_classes=1000):\n",
    "        super(AlexNet, self).__init__()\n",
    "        self.features = nn.Sequential(\n",
    "            nn.Conv2d(3, 64, kernel_size=11, stride=4, padding=2),\n",
    "            nn.ReLU(inplace=True),\n",
    "            nn.MaxPool2d(kernel_size=3, stride=2),\n",
    "            nn.Conv2d(64, 192, kernel_size=5, padding=2),\n",
    "            nn.ReLU(inplace=True),\n",
    "            nn.MaxPool2d(kernel_size=3, stride=2),\n",
    "            nn.Conv2d(192, 384, kernel_size=3, padding=1),\n",
    "            nn.ReLU(inplace=True),\n",
    "            nn.Conv2d(384, 256, kernel_size=3, padding=1),\n",
    "            nn.ReLU(inplace=True),\n",
    "            nn.Conv2d(256, 256, kernel_size=3, padding=1),\n",
    "            nn.ReLU(inplace=True),\n",
    "            nn.MaxPool2d(kernel_size=3, stride=2),\n",
    "        )\n",
    "        self.avgpool = nn.AdaptiveAvgPool2d((6, 6))\n",
    "        self.classifier = nn.Sequential(\n",
    "            nn.Dropout(),\n",
    "            nn.Linear(256 * 6 * 6, 4096),\n",
    "            nn.ReLU(inplace=True),\n",
    "            nn.Dropout(),\n",
    "            nn.Linear(4096, 4096),\n",
    "            nn.ReLU(inplace=True),\n",
    "            nn.Linear(4096, num_classes),\n",
    "        )\n",
    "\n",
    "    def forward(self, x):\n",
    "        x = self.features(x)\n",
    "        x = self.avgpool(x)\n",
    "        x = torch.flatten(x, 1)\n",
    "        x = self.classifier(x)\n",
    "        return x"
   ]
  },
  {
   "cell_type": "markdown",
   "metadata": {
    "jp-MarkdownHeadingCollapsed": true,
    "tags": []
   },
   "source": [
    "#### 3.2 VGG16"
   ]
  },
  {
   "cell_type": "code",
   "execution_count": 7,
   "metadata": {},
   "outputs": [],
   "source": [
    "class VGG16(nn.Module):\n",
    "    def __init__(self, num_classes=1000):\n",
    "        super(VGG16, self).__init__()\n",
    "        self.features = nn.Sequential(\n",
    "            nn.Conv2d(3, 64, kernel_size=3, padding=1),\n",
    "            nn.ReLU(inplace=True),\n",
    "            nn.Conv2d(64, 64, kernel_size=3, padding=1),\n",
    "            nn.ReLU(inplace=True),\n",
    "            nn.MaxPool2d(kernel_size=2, stride=2),\n",
    "            nn.Conv2d(64, 128, kernel_size=3, padding=1),\n",
    "            nn.ReLU(inplace=True),\n",
    "            nn.Conv2d(128, 128, kernel_size=3, padding=1),\n",
    "            nn.ReLU(inplace=True),\n",
    "            nn.MaxPool2d(kernel_size=2, stride=2),\n",
    "            nn.Conv2d(128, 256, kernel_size=3, padding=1),\n",
    "            nn.ReLU(inplace=True),\n",
    "            nn.Conv2d(256, 256, kernel_size=3, padding=1),\n",
    "            nn.ReLU(inplace=True),\n",
    "            nn.Conv2d(256, 256, kernel_size=3, padding=1),\n",
    "            nn.ReLU(inplace=True),\n",
    "            nn.MaxPool2d(kernel_size=2, stride=2),\n",
    "            nn.Conv2d(256, 512, kernel_size=3, padding=1),\n",
    "            nn.ReLU(inplace=True),\n",
    "            nn.Conv2d(512, 512, kernel_size=3, padding=1),\n",
    "            nn.ReLU(inplace=True),\n",
    "            nn.Conv2d(512, 512, kernel_size=3, padding=1),\n",
    "            nn.ReLU(inplace=True),\n",
    "            nn.MaxPool2d(kernel_size=2, stride=2),\n",
    "            nn.Conv2d(512, 512, kernel_size=3, padding=1),\n",
    "            nn.ReLU(inplace=True),\n",
    "            nn.Conv2d(512, 512, kernel_size=3, padding=1),\n",
    "            nn.ReLU(inplace=True),\n",
    "            nn.Conv2d(512, 512, kernel_size=3, padding=1),\n",
    "            nn.ReLU(inplace=True),\n",
    "            nn.MaxPool2d(kernel_size=2, stride=2),\n",
    "        )\n",
    "        self.avgpool = nn.AdaptiveAvgPool2d((7, 7))\n",
    "        self.classifier = nn.Sequential(\n",
    "            nn.Linear(512 * 7 * 7, 4096),\n",
    "            nn.ReLU(inplace=True),\n",
    "            nn.Dropout(),\n",
    "            nn.Linear(4096, 4096),\n",
    "            nn.ReLU(inplace=True),\n",
    "            nn.Dropout(),\n",
    "            nn.Linear(4096, num_classes),\n",
    "        )\n",
    "\n",
    "    def forward(self, x):\n",
    "        x = self.features(x)\n",
    "        x = self.avgpool(x)\n",
    "        x = torch.flatten(x, 1)\n",
    "        x = self.classifier(x)\n",
    "        return x"
   ]
  },
  {
   "cell_type": "markdown",
   "metadata": {
    "tags": []
   },
   "source": [
    "#### 3.3 ResNet18"
   ]
  },
  {
   "cell_type": "code",
   "execution_count": 5,
   "metadata": {},
   "outputs": [],
   "source": [
    "class BasicBlock(nn.Module):\n",
    "    expansion = 1\n",
    "\n",
    "    def __init__(self, in_planes, planes, stride=1, downsample=None):\n",
    "        super(BasicBlock, self).__init__()\n",
    "        self.conv1 = nn.Conv2d(in_planes, planes, kernel_size=3, stride=stride, padding=1, bias=False)\n",
    "        self.bn1 = nn.BatchNorm2d(planes)\n",
    "        self.relu = nn.ReLU(inplace=True)\n",
    "        self.conv2 = nn.Conv2d(planes, planes, kernel_size=3, stride=1, padding=1, bias=False)\n",
    "        self.bn2 = nn.BatchNorm2d(planes)\n",
    "        self.downsample = downsample\n",
    "\n",
    "    def forward(self, x):\n",
    "        identity = x\n",
    "\n",
    "        out = self.conv1(x)\n",
    "        out = self.bn1(out)\n",
    "        out = self.relu(out)\n",
    "\n",
    "        out = self.conv2(out)\n",
    "        out = self.bn2(out)\n",
    "\n",
    "        if self.downsample is not None:\n",
    "            identity = self.downsample(x)\n",
    "\n",
    "        out += identity\n",
    "        out = self.relu(out)\n",
    "\n",
    "        return out\n",
    "\n",
    "\n",
    "class ResNet(nn.Module):\n",
    "    def __init__(self, block, layers, num_classes=1000):\n",
    "        super(ResNet, self).__init__()\n",
    "        self.in_planes = 64\n",
    "\n",
    "        self.conv1 = nn.Conv2d(3, 64, kernel_size=7, stride=2, padding=3, bias=False)\n",
    "        self.bn1 = nn.BatchNorm2d(64)\n",
    "        self.relu = nn.ReLU(inplace=True)\n",
    "        self.maxpool = nn.MaxPool2d(kernel_size=3, stride=2, padding=1)\n",
    "\n",
    "        self.layer1 = self._make_layer(block, 64, layers[0])\n",
    "        self.layer2 = self._make_layer(block, 128, layers[1], stride=2)\n",
    "        self.layer3 = self._make_layer(block, 256, layers[2], stride=2)\n",
    "        self.layer4 = self._make_layer(block, 512, layers[3], stride=2)\n",
    "\n",
    "        self.avgpool = nn.AdaptiveAvgPool2d((1, 1))\n",
    "        self.fc = nn.Linear(512 * block.expansion, num_classes)\n",
    "\n",
    "    def _make_layer(self, block, planes, blocks, stride=1):\n",
    "        downsample = None\n",
    "        if stride != 1 or self.in_planes != planes * block.expansion:\n",
    "            downsample = nn.Sequential(\n",
    "                nn.Conv2d(self.in_planes, planes * block.expansion, kernel_size=1, stride=stride, bias=False),\n",
    "                nn.BatchNorm2d(planes * block.expansion),\n",
    "            )\n",
    "\n",
    "        layers = []\n",
    "        layers.append(block(self.in_planes, planes, stride, downsample))\n",
    "        self.in_planes = planes * block.expansion\n",
    "        for _ in range(1, blocks):\n",
    "            layers.append(block(self.in_planes, planes))\n",
    "\n",
    "        return nn.Sequential(*layers)\n",
    "\n",
    "    def forward(self, x):\n",
    "        x = self.conv1(x)\n",
    "        x = self.bn1(x)\n",
    "        x = self.relu(x)\n",
    "        x = self.maxpool(x)\n",
    "\n",
    "        x = self.layer1(x)\n",
    "        x = self.layer2(x)\n",
    "        x = self.layer3(x)\n",
    "        x = self.layer4(x)\n",
    "\n",
    "        x = self.avgpool(x)\n",
    "        x = x.view(x.size(0), -1)\n",
    "        x = self.fc(x)\n",
    "\n",
    "        return x"
   ]
  },
  {
   "cell_type": "markdown",
   "metadata": {
    "tags": []
   },
   "source": [
    "### 4. 设置损失函数和优化方法"
   ]
  },
  {
   "cell_type": "code",
   "execution_count": 9,
   "metadata": {},
   "outputs": [
    {
     "name": "stdout",
     "output_type": "stream",
     "text": [
      "ResNet(\n",
      "  (conv1): Conv2d(3, 64, kernel_size=(7, 7), stride=(2, 2), padding=(3, 3), bias=False)\n",
      "  (bn1): BatchNorm2d(64, eps=1e-05, momentum=0.1, affine=True, track_running_stats=True)\n",
      "  (relu): ReLU(inplace=True)\n",
      "  (maxpool): MaxPool2d(kernel_size=3, stride=2, padding=1, dilation=1, ceil_mode=False)\n",
      "  (layer1): Sequential(\n",
      "    (0): BasicBlock(\n",
      "      (conv1): Conv2d(64, 64, kernel_size=(3, 3), stride=(1, 1), padding=(1, 1), bias=False)\n",
      "      (bn1): BatchNorm2d(64, eps=1e-05, momentum=0.1, affine=True, track_running_stats=True)\n",
      "      (relu): ReLU(inplace=True)\n",
      "      (conv2): Conv2d(64, 64, kernel_size=(3, 3), stride=(1, 1), padding=(1, 1), bias=False)\n",
      "      (bn2): BatchNorm2d(64, eps=1e-05, momentum=0.1, affine=True, track_running_stats=True)\n",
      "    )\n",
      "    (1): BasicBlock(\n",
      "      (conv1): Conv2d(64, 64, kernel_size=(3, 3), stride=(1, 1), padding=(1, 1), bias=False)\n",
      "      (bn1): BatchNorm2d(64, eps=1e-05, momentum=0.1, affine=True, track_running_stats=True)\n",
      "      (relu): ReLU(inplace=True)\n",
      "      (conv2): Conv2d(64, 64, kernel_size=(3, 3), stride=(1, 1), padding=(1, 1), bias=False)\n",
      "      (bn2): BatchNorm2d(64, eps=1e-05, momentum=0.1, affine=True, track_running_stats=True)\n",
      "    )\n",
      "  )\n",
      "  (layer2): Sequential(\n",
      "    (0): BasicBlock(\n",
      "      (conv1): Conv2d(64, 128, kernel_size=(3, 3), stride=(2, 2), padding=(1, 1), bias=False)\n",
      "      (bn1): BatchNorm2d(128, eps=1e-05, momentum=0.1, affine=True, track_running_stats=True)\n",
      "      (relu): ReLU(inplace=True)\n",
      "      (conv2): Conv2d(128, 128, kernel_size=(3, 3), stride=(1, 1), padding=(1, 1), bias=False)\n",
      "      (bn2): BatchNorm2d(128, eps=1e-05, momentum=0.1, affine=True, track_running_stats=True)\n",
      "      (downsample): Sequential(\n",
      "        (0): Conv2d(64, 128, kernel_size=(1, 1), stride=(2, 2), bias=False)\n",
      "        (1): BatchNorm2d(128, eps=1e-05, momentum=0.1, affine=True, track_running_stats=True)\n",
      "      )\n",
      "    )\n",
      "    (1): BasicBlock(\n",
      "      (conv1): Conv2d(128, 128, kernel_size=(3, 3), stride=(1, 1), padding=(1, 1), bias=False)\n",
      "      (bn1): BatchNorm2d(128, eps=1e-05, momentum=0.1, affine=True, track_running_stats=True)\n",
      "      (relu): ReLU(inplace=True)\n",
      "      (conv2): Conv2d(128, 128, kernel_size=(3, 3), stride=(1, 1), padding=(1, 1), bias=False)\n",
      "      (bn2): BatchNorm2d(128, eps=1e-05, momentum=0.1, affine=True, track_running_stats=True)\n",
      "    )\n",
      "  )\n",
      "  (layer3): Sequential(\n",
      "    (0): BasicBlock(\n",
      "      (conv1): Conv2d(128, 256, kernel_size=(3, 3), stride=(2, 2), padding=(1, 1), bias=False)\n",
      "      (bn1): BatchNorm2d(256, eps=1e-05, momentum=0.1, affine=True, track_running_stats=True)\n",
      "      (relu): ReLU(inplace=True)\n",
      "      (conv2): Conv2d(256, 256, kernel_size=(3, 3), stride=(1, 1), padding=(1, 1), bias=False)\n",
      "      (bn2): BatchNorm2d(256, eps=1e-05, momentum=0.1, affine=True, track_running_stats=True)\n",
      "      (downsample): Sequential(\n",
      "        (0): Conv2d(128, 256, kernel_size=(1, 1), stride=(2, 2), bias=False)\n",
      "        (1): BatchNorm2d(256, eps=1e-05, momentum=0.1, affine=True, track_running_stats=True)\n",
      "      )\n",
      "    )\n",
      "    (1): BasicBlock(\n",
      "      (conv1): Conv2d(256, 256, kernel_size=(3, 3), stride=(1, 1), padding=(1, 1), bias=False)\n",
      "      (bn1): BatchNorm2d(256, eps=1e-05, momentum=0.1, affine=True, track_running_stats=True)\n",
      "      (relu): ReLU(inplace=True)\n",
      "      (conv2): Conv2d(256, 256, kernel_size=(3, 3), stride=(1, 1), padding=(1, 1), bias=False)\n",
      "      (bn2): BatchNorm2d(256, eps=1e-05, momentum=0.1, affine=True, track_running_stats=True)\n",
      "    )\n",
      "  )\n",
      "  (layer4): Sequential(\n",
      "    (0): BasicBlock(\n",
      "      (conv1): Conv2d(256, 512, kernel_size=(3, 3), stride=(2, 2), padding=(1, 1), bias=False)\n",
      "      (bn1): BatchNorm2d(512, eps=1e-05, momentum=0.1, affine=True, track_running_stats=True)\n",
      "      (relu): ReLU(inplace=True)\n",
      "      (conv2): Conv2d(512, 512, kernel_size=(3, 3), stride=(1, 1), padding=(1, 1), bias=False)\n",
      "      (bn2): BatchNorm2d(512, eps=1e-05, momentum=0.1, affine=True, track_running_stats=True)\n",
      "      (downsample): Sequential(\n",
      "        (0): Conv2d(256, 512, kernel_size=(1, 1), stride=(2, 2), bias=False)\n",
      "        (1): BatchNorm2d(512, eps=1e-05, momentum=0.1, affine=True, track_running_stats=True)\n",
      "      )\n",
      "    )\n",
      "    (1): BasicBlock(\n",
      "      (conv1): Conv2d(512, 512, kernel_size=(3, 3), stride=(1, 1), padding=(1, 1), bias=False)\n",
      "      (bn1): BatchNorm2d(512, eps=1e-05, momentum=0.1, affine=True, track_running_stats=True)\n",
      "      (relu): ReLU(inplace=True)\n",
      "      (conv2): Conv2d(512, 512, kernel_size=(3, 3), stride=(1, 1), padding=(1, 1), bias=False)\n",
      "      (bn2): BatchNorm2d(512, eps=1e-05, momentum=0.1, affine=True, track_running_stats=True)\n",
      "    )\n",
      "  )\n",
      "  (avgpool): AdaptiveAvgPool2d(output_size=(1, 1))\n",
      "  (fc): Linear(in_features=512, out_features=10, bias=True)\n",
      ")\n"
     ]
    }
   ],
   "source": [
    "## AlexNet\n",
    "# model = AlexNet(num_classes=10)\n",
    "## VGG16\n",
    "# model = models.vgg16(pretrained=True)\n",
    "# model.classifier[6] = nn.Linear(4096, 10)\n",
    "## ResNet18\n",
    "model = ResNet(BasicBlock, [2, 2, 2, 2], num_classes=10)\n",
    "print(model)"
   ]
  },
  {
   "cell_type": "code",
   "execution_count": 10,
   "metadata": {},
   "outputs": [],
   "source": [
    "# 损失函数与优化器\n",
    "criterion = nn.CrossEntropyLoss()\n",
    "# optimizer = torch.optim.Adam(model.parameters(), lr=learning_rate, betas=[0.9, 0.999], amsgrad=True)\n",
    "optimizer = torch.optim.SGD(model.parameters(), lr=learning_rate, momentum=0.9)"
   ]
  },
  {
   "cell_type": "markdown",
   "metadata": {
    "tags": []
   },
   "source": [
    "### 5. 封装训练和测试函数"
   ]
  },
  {
   "cell_type": "code",
   "execution_count": 11,
   "metadata": {},
   "outputs": [],
   "source": [
    "def train_model(model, Loss, bestLoss, data_loader, criterion, bestPath, lastPath, lossPath):\n",
    "    model = model.to(device)\n",
    "    model.train()\n",
    "    # 开始迭代\n",
    "    for epoch in range(num_epochs):\n",
    "        # 显示进度条\n",
    "        train_bar = tqdm(data_loader, file = sys.stdout, ncols = 100)\n",
    "        # 批处理\n",
    "        tmp_loss = 0\n",
    "        for i, (images, labels) in enumerate(train_bar):\n",
    "\n",
    "            images = images.to(device); labels = labels.to(device)\n",
    "            \n",
    "            # 前向传播\n",
    "            outputs = model(images)            \n",
    "            loss = criterion(outputs, labels)\n",
    "            tmp_loss += loss.item()\n",
    "            # 反向优化\n",
    "            optimizer.zero_grad()\n",
    "            loss.backward()\n",
    "            optimizer.step()\n",
    "        \n",
    "            train_bar.desc = \"train epoch[{}/{}] loss:{:.6f}\".format(epoch + 1, num_epochs, loss)\n",
    "        tmp_loss /= len(data_loader)\n",
    "        Loss.append(tmp_loss)\n",
    "        if tmp_loss<bestLoss:\n",
    "            bestLoss = tmp_loss\n",
    "            torch.save(model.state_dict(), bestPath)\n",
    "            print(\"===save best model==\")\n",
    "            print(\"===best loss: {}===\".format(bestLoss))\n",
    "                \n",
    "    torch.save(model.state_dict(), lastPath)\n",
    "    print(\"===save last model===\")\n",
    "    \n",
    "    plt.plot(Loss)\n",
    "   \n",
    "    my_str = ' '.join(map(str, Loss))+'\\n'\n",
    "    with open(lossPath, 'w') as f:\n",
    "        f.write(my_str)\n",
    "\n",
    "    print('Finished!')\n",
    "    return Loss"
   ]
  },
  {
   "cell_type": "code",
   "execution_count": 12,
   "metadata": {},
   "outputs": [],
   "source": [
    "def val_model(model, split_loader):\n",
    "    model = model.to(device)\n",
    "    model.eval()\n",
    "\n",
    "    with torch.no_grad():\n",
    "        correct = 0; total = 0\n",
    "        val_bar = tqdm(split_loader, file=sys.stdout, ncols=100) \n",
    "        for i, (images, labels) in enumerate(val_bar):\n",
    "            images = images.to(device); labels = labels.to(device)\n",
    "            outputs = model(images)\n",
    "\n",
    "            _, predicted = torch.max(outputs.data, 1)\n",
    "\n",
    "            total += labels.size(0)\n",
    "            correct += (predicted == labels).sum().item()\n",
    "            \n",
    "            val_accurate = correct / total\n",
    "            \n",
    "            if (i + 1) % 10 == 0:\n",
    "                print('\\n[epoch %d] val_accuracy: %.6f' %  (i + 1, val_accurate))\n",
    "        print(correct)\n",
    "        print(total)\n",
    "    return val_accurate"
   ]
  },
  {
   "cell_type": "markdown",
   "metadata": {},
   "source": [
    "### 6. 模型训练"
   ]
  },
  {
   "cell_type": "markdown",
   "metadata": {
    "tags": []
   },
   "source": [
    "### 6.1 读取数据\n"
   ]
  },
  {
   "cell_type": "code",
   "execution_count": 13,
   "metadata": {},
   "outputs": [],
   "source": [
    "data_path = './dataset/mnist/'\n",
    "lastPath = './models/mnist/ResNet18_last.pt'\n",
    "bestPath = './models/mnist/ResNet18_best.pt'\n",
    "lossPath = './models/mnist/ResNet18_loss.txt'"
   ]
  },
  {
   "cell_type": "code",
   "execution_count": 14,
   "metadata": {},
   "outputs": [],
   "source": [
    "import shutil\n",
    "## 清理数据文件夹\n",
    "for split in ['mnist_train', 'mnist_test']:\n",
    "    if os.path.exists(data_path+split+'/'+'.ipynb_checkpoints'):\n",
    "        print('delete {}'.format(data_path+split+'/'+'.ipynb_checkpoints'))\n",
    "        shutil.rmtree(data_path+split+'/'+'.ipynb_checkpoints')\n",
    "    for label in ['0', '1', '2', '3', '4', '5', '6', '7', '8', '9']:\n",
    "        if os.path.exists(data_path+split+'/'+label+'/'+'.ipynb_checkpoints'):\n",
    "            print('delete {}'.format(data_path+split+'/'+label+'/'+'.ipynb_checkpoints'))\n",
    "            shutil.rmtree(data_path+split+'/'+label+'/'+'.ipynb_checkpoints')"
   ]
  },
  {
   "cell_type": "code",
   "execution_count": 15,
   "metadata": {},
   "outputs": [
    {
     "name": "stdout",
     "output_type": "stream",
     "text": [
      "cuda:0\n",
      "Using 8 dataloader workers every process\n"
     ]
    }
   ],
   "source": [
    "# 设置设备\n",
    "device = torch.device('cuda:0' if torch.cuda.is_available() else 'cpu')\n",
    "print(device)\n",
    "num_workers = min([os.cpu_count(), batch_size if batch_size > 1 else 0, 8])  # 用于加载数据集的进程数量\n",
    "print('Using {} dataloader workers every process'.format(num_workers))"
   ]
  },
  {
   "cell_type": "code",
   "execution_count": 16,
   "metadata": {},
   "outputs": [
    {
     "name": "stdout",
     "output_type": "stream",
     "text": [
      "using 60000 images for training, 10000 images for test.\n",
      "{'0': 0, '1': 1, '2': 2, '3': 3, '4': 4, '5': 5, '6': 6, '7': 7, '8': 8, '9': 9}\n"
     ]
    }
   ],
   "source": [
    "# 配置data_loader\n",
    "data_transform = {\n",
    "    'train': transforms.Compose([\n",
    "                                transforms.Resize([224, 224]),                        # 将图像尺寸调整为224 * 224\n",
    "                                transforms.ToTensor(),                         # 将图像转换为张量\n",
    "                                transforms.Normalize(mean=[0.485, 0.456, 0.406], std=[0.229, 0.224, 0.225])\n",
    "    ]),\n",
    "    'test': transforms.Compose([\n",
    "                                transforms.Resize([224, 224]),                        # 将图像尺寸调整为224 * 224\n",
    "                                transforms.ToTensor(),                         # 将图像转换为张量\n",
    "                                transforms.Normalize(mean=[0.485, 0.456, 0.406], std=[0.229, 0.224, 0.225])\n",
    "    ])}\n",
    "\n",
    "\n",
    "# 加载训练集\n",
    "train_dataset = torchvision.datasets.ImageFolder(root = os.path.join(data_path, 'mnist_train'), transform=data_transform['train'])\n",
    "# 加载测试集\n",
    "test_dataset = torchvision.datasets.ImageFolder(root = os.path.join(data_path, 'mnist_test'), transform=data_transform['test'])\n",
    "train_num = len(train_dataset)\n",
    "test_num = len(test_dataset)\n",
    "\n",
    "# 配置Data loader，一次训练载入一个batch_size的数据\n",
    "train_loader = torch.utils.data.DataLoader(\n",
    "    dataset = train_dataset, batch_size=batch_size, shuffle=True, num_workers=num_workers)\n",
    "test_loader = torch.utils.data.DataLoader(\n",
    "    dataset = test_dataset, batch_size=batch_size, shuffle=False, num_workers=num_workers)\n",
    "print(\"using {} images for training, {} images for test.\".format(train_num, test_num))\n",
    "print(train_loader.dataset.class_to_idx)"
   ]
  },
  {
   "cell_type": "markdown",
   "metadata": {
    "tags": []
   },
   "source": [
    "### 6.2 正式训练"
   ]
  },
  {
   "cell_type": "code",
   "execution_count": 17,
   "metadata": {},
   "outputs": [
    {
     "data": {
      "text/plain": [
       "ResNet(\n",
       "  (conv1): Conv2d(3, 64, kernel_size=(7, 7), stride=(2, 2), padding=(3, 3), bias=False)\n",
       "  (bn1): BatchNorm2d(64, eps=1e-05, momentum=0.1, affine=True, track_running_stats=True)\n",
       "  (relu): ReLU(inplace=True)\n",
       "  (maxpool): MaxPool2d(kernel_size=3, stride=2, padding=1, dilation=1, ceil_mode=False)\n",
       "  (layer1): Sequential(\n",
       "    (0): BasicBlock(\n",
       "      (conv1): Conv2d(64, 64, kernel_size=(3, 3), stride=(1, 1), padding=(1, 1), bias=False)\n",
       "      (bn1): BatchNorm2d(64, eps=1e-05, momentum=0.1, affine=True, track_running_stats=True)\n",
       "      (relu): ReLU(inplace=True)\n",
       "      (conv2): Conv2d(64, 64, kernel_size=(3, 3), stride=(1, 1), padding=(1, 1), bias=False)\n",
       "      (bn2): BatchNorm2d(64, eps=1e-05, momentum=0.1, affine=True, track_running_stats=True)\n",
       "    )\n",
       "    (1): BasicBlock(\n",
       "      (conv1): Conv2d(64, 64, kernel_size=(3, 3), stride=(1, 1), padding=(1, 1), bias=False)\n",
       "      (bn1): BatchNorm2d(64, eps=1e-05, momentum=0.1, affine=True, track_running_stats=True)\n",
       "      (relu): ReLU(inplace=True)\n",
       "      (conv2): Conv2d(64, 64, kernel_size=(3, 3), stride=(1, 1), padding=(1, 1), bias=False)\n",
       "      (bn2): BatchNorm2d(64, eps=1e-05, momentum=0.1, affine=True, track_running_stats=True)\n",
       "    )\n",
       "  )\n",
       "  (layer2): Sequential(\n",
       "    (0): BasicBlock(\n",
       "      (conv1): Conv2d(64, 128, kernel_size=(3, 3), stride=(2, 2), padding=(1, 1), bias=False)\n",
       "      (bn1): BatchNorm2d(128, eps=1e-05, momentum=0.1, affine=True, track_running_stats=True)\n",
       "      (relu): ReLU(inplace=True)\n",
       "      (conv2): Conv2d(128, 128, kernel_size=(3, 3), stride=(1, 1), padding=(1, 1), bias=False)\n",
       "      (bn2): BatchNorm2d(128, eps=1e-05, momentum=0.1, affine=True, track_running_stats=True)\n",
       "      (downsample): Sequential(\n",
       "        (0): Conv2d(64, 128, kernel_size=(1, 1), stride=(2, 2), bias=False)\n",
       "        (1): BatchNorm2d(128, eps=1e-05, momentum=0.1, affine=True, track_running_stats=True)\n",
       "      )\n",
       "    )\n",
       "    (1): BasicBlock(\n",
       "      (conv1): Conv2d(128, 128, kernel_size=(3, 3), stride=(1, 1), padding=(1, 1), bias=False)\n",
       "      (bn1): BatchNorm2d(128, eps=1e-05, momentum=0.1, affine=True, track_running_stats=True)\n",
       "      (relu): ReLU(inplace=True)\n",
       "      (conv2): Conv2d(128, 128, kernel_size=(3, 3), stride=(1, 1), padding=(1, 1), bias=False)\n",
       "      (bn2): BatchNorm2d(128, eps=1e-05, momentum=0.1, affine=True, track_running_stats=True)\n",
       "    )\n",
       "  )\n",
       "  (layer3): Sequential(\n",
       "    (0): BasicBlock(\n",
       "      (conv1): Conv2d(128, 256, kernel_size=(3, 3), stride=(2, 2), padding=(1, 1), bias=False)\n",
       "      (bn1): BatchNorm2d(256, eps=1e-05, momentum=0.1, affine=True, track_running_stats=True)\n",
       "      (relu): ReLU(inplace=True)\n",
       "      (conv2): Conv2d(256, 256, kernel_size=(3, 3), stride=(1, 1), padding=(1, 1), bias=False)\n",
       "      (bn2): BatchNorm2d(256, eps=1e-05, momentum=0.1, affine=True, track_running_stats=True)\n",
       "      (downsample): Sequential(\n",
       "        (0): Conv2d(128, 256, kernel_size=(1, 1), stride=(2, 2), bias=False)\n",
       "        (1): BatchNorm2d(256, eps=1e-05, momentum=0.1, affine=True, track_running_stats=True)\n",
       "      )\n",
       "    )\n",
       "    (1): BasicBlock(\n",
       "      (conv1): Conv2d(256, 256, kernel_size=(3, 3), stride=(1, 1), padding=(1, 1), bias=False)\n",
       "      (bn1): BatchNorm2d(256, eps=1e-05, momentum=0.1, affine=True, track_running_stats=True)\n",
       "      (relu): ReLU(inplace=True)\n",
       "      (conv2): Conv2d(256, 256, kernel_size=(3, 3), stride=(1, 1), padding=(1, 1), bias=False)\n",
       "      (bn2): BatchNorm2d(256, eps=1e-05, momentum=0.1, affine=True, track_running_stats=True)\n",
       "    )\n",
       "  )\n",
       "  (layer4): Sequential(\n",
       "    (0): BasicBlock(\n",
       "      (conv1): Conv2d(256, 512, kernel_size=(3, 3), stride=(2, 2), padding=(1, 1), bias=False)\n",
       "      (bn1): BatchNorm2d(512, eps=1e-05, momentum=0.1, affine=True, track_running_stats=True)\n",
       "      (relu): ReLU(inplace=True)\n",
       "      (conv2): Conv2d(512, 512, kernel_size=(3, 3), stride=(1, 1), padding=(1, 1), bias=False)\n",
       "      (bn2): BatchNorm2d(512, eps=1e-05, momentum=0.1, affine=True, track_running_stats=True)\n",
       "      (downsample): Sequential(\n",
       "        (0): Conv2d(256, 512, kernel_size=(1, 1), stride=(2, 2), bias=False)\n",
       "        (1): BatchNorm2d(512, eps=1e-05, momentum=0.1, affine=True, track_running_stats=True)\n",
       "      )\n",
       "    )\n",
       "    (1): BasicBlock(\n",
       "      (conv1): Conv2d(512, 512, kernel_size=(3, 3), stride=(1, 1), padding=(1, 1), bias=False)\n",
       "      (bn1): BatchNorm2d(512, eps=1e-05, momentum=0.1, affine=True, track_running_stats=True)\n",
       "      (relu): ReLU(inplace=True)\n",
       "      (conv2): Conv2d(512, 512, kernel_size=(3, 3), stride=(1, 1), padding=(1, 1), bias=False)\n",
       "      (bn2): BatchNorm2d(512, eps=1e-05, momentum=0.1, affine=True, track_running_stats=True)\n",
       "    )\n",
       "  )\n",
       "  (avgpool): AdaptiveAvgPool2d(output_size=(1, 1))\n",
       "  (fc): Linear(in_features=512, out_features=10, bias=True)\n",
       ")"
      ]
     },
     "execution_count": 17,
     "metadata": {},
     "output_type": "execute_result"
    }
   ],
   "source": [
    "model.to(device)"
   ]
  },
  {
   "cell_type": "code",
   "execution_count": 18,
   "metadata": {},
   "outputs": [
    {
     "name": "stdout",
     "output_type": "stream",
     "text": [
      "===No saved model===\n"
     ]
    }
   ],
   "source": [
    "if os.path.exists(lastPath):\n",
    "    model.load_state_dict(torch.load(lastPath))\n",
    "    print(\"===load last model===\")\n",
    "else:\n",
    "    print(\"===No saved model===\")"
   ]
  },
  {
   "cell_type": "code",
   "execution_count": 19,
   "metadata": {},
   "outputs": [
    {
     "name": "stdout",
     "output_type": "stream",
     "text": [
      "===No saved Loss===\n"
     ]
    }
   ],
   "source": [
    "if os.path.exists(lossPath):\n",
    "    lossdf = pd.read_table(lossPath, header=None, sep=\" \")\n",
    "    Loss = lossdf.iloc[0, :].tolist()\n",
    "    print('lowest loss is {}'.format(min(Loss)))\n",
    "else:\n",
    "    Loss = []\n",
    "    print(\"===No saved Loss===\")"
   ]
  },
  {
   "cell_type": "code",
   "execution_count": null,
   "metadata": {},
   "outputs": [
    {
     "name": "stdout",
     "output_type": "stream",
     "text": [
      "train epoch[1/50] loss:0.095938: 100%|████████████████████████████| 938/938 [16:52<00:00,  1.08s/it]\n",
      "===save best model==\n",
      "===best loss: 0.12184363638032486===\n",
      "train epoch[2/50] loss:0.038103: 100%|████████████████████████████| 938/938 [09:18<00:00,  1.68it/s]\n",
      "===save best model==\n",
      "===best loss: 0.031511080033151555===\n",
      "train epoch[3/50] loss:0.003502:  57%|███████████████▉            | 532/938 [06:05<04:16,  1.58it/s]"
     ]
    }
   ],
   "source": [
    "# 正式训练\n",
    "Loss = train_model(model, Loss, 1, data_loader=train_loader, criterion=criterion, bestPath=bestPath, lastPath=lastPath, lossPath=lossPath)"
   ]
  },
  {
   "cell_type": "code",
   "execution_count": 24,
   "metadata": {},
   "outputs": [
    {
     "data": {
      "image/png": "[encoded data removed]",
      "text/plain": [
       "<Figure size 350x300 with 1 Axes>"
      ]
     },
     "metadata": {
      "needs_background": "light"
     },
     "output_type": "display_data"
    }
   ],
   "source": [
    "plt.figure(figsize=(3.5, 3), dpi=100)\n",
    "plt.plot(Loss)\n",
    "plt.xlabel('Epoch', size = 10)\n",
    "plt.ylabel('loss', size=10)\n",
    "plt.xticks(fontsize=10)\n",
    "plt.yticks(fontsize=10)\n",
    "plt.savefig('./figures/ResNet18.pdf', format='pdf', dpi=300, bbox_inches='tight')"
   ]
  },
  {
   "cell_type": "markdown",
   "metadata": {},
   "source": [
    "### 7. 模型评估"
   ]
  },
  {
   "cell_type": "code",
   "execution_count": 26,
   "metadata": {},
   "outputs": [
    {
     "name": "stdout",
     "output_type": "stream",
     "text": [
      "===load best model===\n"
     ]
    }
   ],
   "source": [
    "if os.path.exists(bestPath):\n",
    "    print('===load best model===')\n",
    "    model.load_state_dict(torch.load(bestPath))"
   ]
  },
  {
   "cell_type": "code",
   "execution_count": 27,
   "metadata": {},
   "outputs": [
    {
     "name": "stdout",
     "output_type": "stream",
     "text": [
      "  1%|▌                                                              | 9/938 [00:13<18:17,  1.18s/it]\n",
      "[epoch 10] val_accuracy: 1.000000\n",
      "  2%|█▎                                                            | 19/938 [00:18<13:07,  1.17it/s]\n",
      "[epoch 20] val_accuracy: 1.000000\n",
      "  3%|█▊                                                            | 27/938 [00:25<20:05,  1.32s/it]\n",
      "[epoch 30] val_accuracy: 1.000000\n",
      "  4%|██▌                                                           | 38/938 [00:31<09:35,  1.56it/s]\n",
      "[epoch 40] val_accuracy: 1.000000\n",
      "  5%|███▏                                                          | 49/938 [00:44<17:07,  1.16s/it]\n",
      "[epoch 50] val_accuracy: 1.000000\n",
      "  6%|███▉                                                          | 59/938 [00:50<10:07,  1.45it/s]\n",
      "[epoch 60] val_accuracy: 1.000000\n",
      "  7%|████▌                                                         | 69/938 [00:56<08:21,  1.73it/s]\n",
      "[epoch 70] val_accuracy: 1.000000\n",
      "  8%|█████▏                                                        | 78/938 [01:00<06:39,  2.15it/s]\n",
      "[epoch 80] val_accuracy: 1.000000\n",
      "  9%|█████▉                                                        | 89/938 [01:13<16:43,  1.18s/it]\n",
      "[epoch 90] val_accuracy: 1.000000\n",
      " 10%|██████▍                                                       | 98/938 [01:16<09:42,  1.44it/s]\n",
      "[epoch 100] val_accuracy: 1.000000\n",
      " 12%|███████                                                      | 109/938 [01:21<06:49,  2.02it/s]\n",
      "[epoch 110] val_accuracy: 1.000000\n",
      " 12%|███████▌                                                     | 117/938 [01:30<12:59,  1.05it/s]\n",
      "[epoch 120] val_accuracy: 1.000000\n",
      " 14%|████████▎                                                    | 128/938 [01:34<05:44,  2.35it/s]\n",
      "[epoch 130] val_accuracy: 1.000000\n",
      " 15%|████████▉                                                    | 138/938 [01:43<13:03,  1.02it/s]\n",
      "[epoch 140] val_accuracy: 1.000000\n",
      " 16%|█████████▋                                                   | 149/938 [01:47<07:36,  1.73it/s]\n",
      "[epoch 150] val_accuracy: 1.000000\n",
      " 17%|██████████▏                                                  | 157/938 [01:50<05:02,  2.59it/s]\n",
      "[epoch 160] val_accuracy: 1.000000\n",
      " 18%|██████████▉                                                  | 168/938 [01:54<04:25,  2.90it/s]\n",
      "[epoch 170] val_accuracy: 1.000000\n",
      " 19%|███████████▌                                                 | 177/938 [02:03<09:57,  1.27it/s]\n",
      "[epoch 180] val_accuracy: 1.000000\n",
      " 20%|████████████▏                                                | 188/938 [02:05<04:01,  3.11it/s]\n",
      "[epoch 190] val_accuracy: 1.000000\n",
      " 21%|████████████▉                                                | 199/938 [02:08<02:52,  4.28it/s]\n",
      "[epoch 200] val_accuracy: 1.000000\n",
      " 22%|█████████████▌                                               | 209/938 [02:16<07:28,  1.62it/s]\n",
      "[epoch 210] val_accuracy: 1.000000\n",
      " 23%|██████████████                                               | 217/938 [02:20<07:19,  1.64it/s]\n",
      "[epoch 220] val_accuracy: 1.000000\n",
      " 24%|██████████████▊                                              | 228/938 [02:30<11:00,  1.08it/s]\n",
      "[epoch 230] val_accuracy: 1.000000\n",
      " 25%|███████████████▌                                             | 239/938 [02:35<05:25,  2.15it/s]\n",
      "[epoch 240] val_accuracy: 1.000000\n",
      " 27%|████████████████▏                                            | 249/938 [02:41<06:26,  1.78it/s]\n",
      "[epoch 250] val_accuracy: 1.000000\n",
      " 27%|████████████████▋                                            | 257/938 [02:50<13:33,  1.19s/it]\n",
      "[epoch 260] val_accuracy: 1.000000\n",
      " 29%|█████████████████▍                                           | 268/938 [02:52<05:08,  2.17it/s]\n",
      "[epoch 270] val_accuracy: 1.000000\n",
      " 30%|██████████████████▏                                          | 279/938 [02:57<03:59,  2.75it/s]\n",
      "[epoch 280] val_accuracy: 1.000000\n",
      " 31%|██████████████████▊                                          | 289/938 [03:07<08:05,  1.34it/s]\n",
      "[epoch 290] val_accuracy: 1.000000\n",
      " 32%|███████████████████▎                                         | 297/938 [03:14<11:24,  1.07s/it]\n",
      "[epoch 300] val_accuracy: 1.000000\n",
      " 33%|████████████████████                                         | 308/938 [03:20<07:56,  1.32it/s]\n",
      "[epoch 310] val_accuracy: 1.000000\n",
      " 34%|████████████████████▋                                        | 319/938 [03:25<04:25,  2.33it/s]\n",
      "[epoch 320] val_accuracy: 1.000000\n",
      " 35%|█████████████████████▎                                       | 327/938 [03:36<07:45,  1.31it/s]\n",
      "[epoch 330] val_accuracy: 1.000000\n",
      " 36%|██████████████████████                                       | 339/938 [03:47<08:52,  1.12it/s]\n",
      "[epoch 340] val_accuracy: 1.000000\n",
      " 37%|██████████████████████▋                                      | 348/938 [03:52<06:25,  1.53it/s]\n",
      "[epoch 350] val_accuracy: 1.000000\n",
      " 38%|███████████████████████▎                                     | 359/938 [03:57<03:43,  2.59it/s]\n",
      "[epoch 360] val_accuracy: 1.000000\n",
      " 39%|███████████████████████▉                                     | 369/938 [04:04<06:14,  1.52it/s]\n",
      "[epoch 370] val_accuracy: 1.000000\n",
      " 40%|████████████████████████▌                                    | 377/938 [04:07<05:06,  1.83it/s]\n",
      "[epoch 380] val_accuracy: 1.000000\n",
      " 41%|█████████████████████████▏                                   | 388/938 [04:11<03:58,  2.30it/s]\n",
      "[epoch 390] val_accuracy: 1.000000\n",
      " 43%|█████████████████████████▉                                   | 399/938 [04:15<03:05,  2.90it/s]\n",
      "[epoch 400] val_accuracy: 1.000000\n",
      " 44%|██████████████████████████▌                                  | 409/938 [04:24<07:31,  1.17it/s]\n",
      "[epoch 410] val_accuracy: 1.000000\n",
      " 44%|███████████████████████████                                  | 417/938 [04:35<13:48,  1.59s/it]\n",
      "[epoch 420] val_accuracy: 1.000000\n",
      " 46%|███████████████████████████▉                                 | 429/938 [04:42<06:57,  1.22it/s]\n",
      "[epoch 430] val_accuracy: 1.000000\n",
      " 47%|████████████████████████████▍                                | 438/938 [04:50<06:43,  1.24it/s]\n",
      "[epoch 440] val_accuracy: 1.000000\n",
      " 48%|█████████████████████████████▏                               | 449/938 [05:02<08:34,  1.05s/it]\n",
      "[epoch 450] val_accuracy: 1.000000\n",
      " 49%|█████████████████████████████▋                               | 457/938 [05:06<06:41,  1.20it/s]\n",
      "[epoch 460] val_accuracy: 1.000000\n",
      " 50%|██████████████████████████████▍                              | 468/938 [05:11<04:27,  1.76it/s]\n",
      "[epoch 470] val_accuracy: 1.000000\n",
      " 51%|███████████████████████████████▏                             | 479/938 [05:15<02:39,  2.88it/s]\n",
      "[epoch 480] val_accuracy: 1.000000\n",
      " 52%|███████████████████████████████▊                             | 489/938 [05:25<07:13,  1.04it/s]\n",
      "[epoch 490] val_accuracy: 1.000000\n",
      " 53%|████████████████████████████████▍                            | 499/938 [05:32<06:17,  1.16it/s]\n",
      "[epoch 500] val_accuracy: 1.000000\n",
      " 54%|█████████████████████████████████                            | 508/938 [05:39<05:38,  1.27it/s]\n",
      "[epoch 510] val_accuracy: 1.000000\n",
      " 55%|█████████████████████████████████▊                           | 519/938 [05:45<03:29,  2.00it/s]\n",
      "[epoch 520] val_accuracy: 1.000000\n",
      " 56%|██████████████████████████████████▍                          | 529/938 [05:55<05:53,  1.16it/s]\n",
      "[epoch 530] val_accuracy: 1.000000\n",
      " 57%|██████████████████████████████████▉                          | 537/938 [06:00<05:41,  1.17it/s]\n",
      "[epoch 540] val_accuracy: 1.000000\n",
      " 58%|███████████████████████████████████▋                         | 548/938 [06:05<03:51,  1.69it/s]\n",
      "[epoch 550] val_accuracy: 1.000000\n",
      " 60%|████████████████████████████████████▎                        | 559/938 [06:13<03:23,  1.86it/s]\n",
      "[epoch 560] val_accuracy: 1.000000\n",
      " 61%|█████████████████████████████████████                        | 569/938 [06:20<04:42,  1.31it/s]\n",
      "[epoch 570] val_accuracy: 1.000000\n",
      " 62%|█████████████████████████████████████▌                       | 577/938 [06:25<04:45,  1.27it/s]\n",
      "[epoch 580] val_accuracy: 1.000000\n",
      " 63%|██████████████████████████████████████▏                      | 588/938 [06:30<03:14,  1.80it/s]\n",
      "[epoch 590] val_accuracy: 1.000000\n",
      " 64%|██████████████████████████████████████▉                      | 599/938 [06:35<02:14,  2.52it/s]\n",
      "[epoch 600] val_accuracy: 1.000000\n",
      " 65%|███████████████████████████████████████▌                     | 609/938 [06:45<04:22,  1.26it/s]\n",
      "[epoch 610] val_accuracy: 1.000000\n",
      " 66%|████████████████████████████████████████                     | 617/938 [06:50<04:59,  1.07it/s]\n",
      "[epoch 620] val_accuracy: 1.000000\n",
      " 67%|████████████████████████████████████████▊                    | 628/938 [06:56<03:12,  1.61it/s]\n",
      "[epoch 630] val_accuracy: 1.000000\n",
      " 68%|█████████████████████████████████████████▌                   | 639/938 [07:02<02:16,  2.19it/s]\n",
      "[epoch 640] val_accuracy: 1.000000\n",
      " 69%|██████████████████████████████████████████▏                  | 649/938 [07:12<04:21,  1.10it/s]\n",
      "[epoch 650] val_accuracy: 1.000000\n",
      " 70%|██████████████████████████████████████████▋                  | 657/938 [07:17<04:24,  1.06it/s]\n",
      "[epoch 660] val_accuracy: 1.000000\n",
      " 71%|███████████████████████████████████████████▍                 | 668/938 [07:21<02:17,  1.96it/s]\n",
      "[epoch 670] val_accuracy: 1.000000\n",
      " 72%|████████████████████████████████████████████▏                | 679/938 [07:25<01:23,  3.09it/s]\n",
      "[epoch 680] val_accuracy: 1.000000\n",
      " 73%|████████████████████████████████████████████▊                | 689/938 [07:33<02:49,  1.47it/s]\n",
      "[epoch 690] val_accuracy: 1.000000\n",
      " 74%|█████████████████████████████████████████████▎               | 697/938 [07:40<03:52,  1.03it/s]\n",
      "[epoch 700] val_accuracy: 1.000000\n",
      " 75%|██████████████████████████████████████████████               | 708/938 [07:45<02:25,  1.58it/s]\n",
      "[epoch 710] val_accuracy: 1.000000\n",
      " 77%|██████████████████████████████████████████████▊              | 719/938 [07:49<01:15,  2.91it/s]\n",
      "[epoch 720] val_accuracy: 1.000000\n",
      " 78%|███████████████████████████████████████████████▍             | 729/938 [08:00<03:06,  1.12it/s]\n",
      "[epoch 730] val_accuracy: 1.000000\n",
      " 79%|███████████████████████████████████████████████▉             | 737/938 [08:05<02:54,  1.15it/s]\n",
      "[epoch 740] val_accuracy: 1.000000\n",
      " 80%|████████████████████████████████████████████████▋            | 748/938 [08:08<01:17,  2.45it/s]\n",
      "[epoch 750] val_accuracy: 1.000000\n",
      " 81%|█████████████████████████████████████████████████▎           | 759/938 [08:10<00:45,  3.93it/s]\n",
      "[epoch 760] val_accuracy: 1.000000\n",
      " 82%|██████████████████████████████████████████████████           | 769/938 [08:20<02:22,  1.18it/s]\n",
      "[epoch 770] val_accuracy: 1.000000\n",
      " 83%|██████████████████████████████████████████████████▌          | 777/938 [08:25<02:13,  1.21it/s]\n",
      "[epoch 780] val_accuracy: 1.000000\n",
      " 84%|███████████████████████████████████████████████████▏         | 788/938 [08:31<01:34,  1.59it/s]\n",
      "[epoch 790] val_accuracy: 1.000000\n",
      " 85%|███████████████████████████████████████████████████▉         | 799/938 [08:37<01:10,  1.96it/s]\n",
      "[epoch 800] val_accuracy: 1.000000\n",
      " 86%|████████████████████████████████████████████████████▍        | 807/938 [08:48<01:38,  1.33it/s]\n",
      "[epoch 810] val_accuracy: 1.000000\n",
      " 87%|█████████████████████████████████████████████████████▏       | 818/938 [09:01<02:00,  1.00s/it]\n",
      "[epoch 820] val_accuracy: 1.000000\n",
      " 88%|█████████████████████████████████████████████████████▊       | 828/938 [09:04<00:51,  2.15it/s]\n",
      "[epoch 830] val_accuracy: 1.000000\n",
      " 89%|██████████████████████████████████████████████████████▌      | 839/938 [09:10<00:45,  2.18it/s]\n",
      "[epoch 840] val_accuracy: 1.000000\n",
      " 91%|███████████████████████████████████████████████████████▏     | 849/938 [09:18<01:05,  1.36it/s]\n",
      "[epoch 850] val_accuracy: 1.000000\n",
      " 91%|███████████████████████████████████████████████████████▋     | 857/938 [09:26<01:36,  1.20s/it]\n",
      "[epoch 860] val_accuracy: 1.000000\n",
      " 93%|████████████████████████████████████████████████████████▍    | 868/938 [09:34<01:00,  1.15it/s]\n",
      "[epoch 870] val_accuracy: 1.000000\n",
      " 94%|█████████████████████████████████████████████████████████▏   | 879/938 [09:40<00:33,  1.76it/s]\n",
      "[epoch 880] val_accuracy: 1.000000\n",
      " 95%|█████████████████████████████████████████████████████████▊   | 889/938 [09:48<00:29,  1.65it/s]\n",
      "[epoch 890] val_accuracy: 1.000000\n",
      " 96%|██████████████████████████████████████████████████████████▎  | 897/938 [09:54<00:33,  1.21it/s]\n",
      "[epoch 900] val_accuracy: 1.000000\n",
      " 97%|██████████████████████████████████████████████████████████▉  | 907/938 [09:57<00:15,  1.96it/s]\n",
      "[epoch 910] val_accuracy: 1.000000\n",
      " 98%|███████████████████████████████████████████████████████████▋ | 918/938 [10:01<00:07,  2.62it/s]\n",
      "[epoch 920] val_accuracy: 1.000000\n",
      " 99%|████████████████████████████████████████████████████████████▍| 929/938 [10:11<00:06,  1.36it/s]\n",
      "[epoch 930] val_accuracy: 1.000000\n",
      "100%|█████████████████████████████████████████████████████████████| 938/938 [10:16<00:00,  1.52it/s]\n",
      "60000\n",
      "60000\n",
      "1.0\n"
     ]
    }
   ],
   "source": [
    "train_acc = val_model(model, train_loader)\n",
    "print(train_acc)"
   ]
  },
  {
   "cell_type": "code",
   "execution_count": 28,
   "metadata": {
    "tags": []
   },
   "outputs": [
    {
     "name": "stdout",
     "output_type": "stream",
     "text": [
      "  5%|███▏                                                           | 8/157 [00:12<01:48,  1.37it/s]\n",
      "[epoch 10] val_accuracy: 1.000000\n",
      " 11%|███████                                                       | 18/157 [00:24<02:49,  1.22s/it]\n",
      "[epoch 20] val_accuracy: 0.999219\n",
      " 18%|███████████▍                                                  | 29/157 [00:31<01:44,  1.22it/s]\n",
      "[epoch 30] val_accuracy: 0.999479\n",
      " 24%|██████████████▌                                               | 37/157 [00:36<01:12,  1.64it/s]\n",
      "[epoch 40] val_accuracy: 0.998828\n",
      " 31%|██████████████████▉                                           | 48/157 [00:43<00:57,  1.89it/s]\n",
      "[epoch 50] val_accuracy: 0.999062\n",
      " 38%|███████████████████████▎                                      | 59/157 [00:57<01:43,  1.06s/it]\n",
      "[epoch 60] val_accuracy: 0.998698\n",
      " 44%|███████████████████████████▏                                  | 69/157 [01:07<01:27,  1.00it/s]\n",
      "[epoch 70] val_accuracy: 0.997768\n",
      " 49%|██████████████████████████████▍                               | 77/157 [01:15<01:23,  1.04s/it]\n",
      "[epoch 80] val_accuracy: 0.998047\n",
      " 57%|███████████████████████████████████▏                          | 89/157 [01:26<01:12,  1.07s/it]\n",
      "[epoch 90] val_accuracy: 0.997222\n",
      " 63%|███████████████████████████████████████                       | 99/157 [01:32<00:49,  1.18it/s]\n",
      "[epoch 100] val_accuracy: 0.996563\n",
      " 68%|█████████████████████████████████████████▌                   | 107/157 [01:38<00:40,  1.24it/s]\n",
      "[epoch 110] val_accuracy: 0.996449\n",
      " 75%|█████████████████████████████████████████████▊               | 118/157 [01:43<00:20,  1.92it/s]\n",
      "[epoch 120] val_accuracy: 0.996615\n",
      " 82%|██████████████████████████████████████████████████           | 129/157 [01:57<00:27,  1.01it/s]\n",
      "[epoch 130] val_accuracy: 0.996755\n",
      " 89%|██████████████████████████████████████████████████████       | 139/157 [02:03<00:14,  1.28it/s]\n",
      "[epoch 140] val_accuracy: 0.996652\n",
      " 94%|█████████████████████████████████████████████████████████    | 147/157 [02:08<00:06,  1.52it/s]\n",
      "[epoch 150] val_accuracy: 0.996042\n",
      "100%|█████████████████████████████████████████████████████████████| 157/157 [02:12<00:00,  1.19it/s]\n",
      "9962\n",
      "10000\n",
      "0.9962\n"
     ]
    }
   ],
   "source": [
    "test_acc = val_model(model, test_loader)\n",
    "print(test_acc)"
   ]
  },
  {
   "cell_type": "markdown",
   "metadata": {},
   "source": [
    "### 8. 结论"
   ]
  },
  {
   "cell_type": "markdown",
   "metadata": {},
   "source": [
    "### 8.1 模型评估"
   ]
  },
  {
   "cell_type": "markdown",
   "metadata": {},
   "source": [
    "|Model|Dataset|Correct|Total|Accuracy|\n",
    "| :---: | :---: | :---: | :---: | :---: |\n",
    "|AlexNet|Training|59991|60000|99.98%|\n",
    "|AlexNet|Testing|9958|10000|99.58%|\n",
    "|VGG16|Training|60000|60000|100%|\n",
    "|VGG16|Testing|9963|10000|99.63%|\n",
    "|ResNet18|Training|60000|60000|100%|\n",
    "|ResNet18|Testing|9962|10000|99.62%|"
   ]
  },
  {
   "cell_type": "markdown",
   "metadata": {},
   "source": [
    "### 8.2 Loss曲线（Training）"
   ]
  },
  {
   "attachments": {
    "6d237401-3c5d-4157-b2d0-e3a4f49f8dd6.png": {
     "image/png": "[encoded data removed]"
    },
    "71a195c2-4733-4229-af0c-090df81aa91c.png": {
     "image/png": "[encoded data removed]"
    },
    "aaad0b68-86dd-41f7-89f4-48da99d4f0e8.png": {
     "image/png": "[encoded data removed]"
    }
   },
   "cell_type": "markdown",
   "metadata": {},
   "source": [
    "分别是AlexNet、VGG16、ResNet18的Loss曲线\n",
    "\n",
    "![image.png](attachment:6d237401-3c5d-4157-b2d0-e3a4f49f8dd6.png)\n",
    "![image.png](attachment:71a195c2-4733-4229-af0c-090df81aa91c.png)\n",
    "![image.png](attachment:aaad0b68-86dd-41f7-89f4-48da99d4f0e8.png)"
   ]
  },
  {
   "cell_type": "markdown",
   "metadata": {},
   "source": [
    "### 8.3 实验感悟"
   ]
  },
  {
   "cell_type": "markdown",
   "metadata": {},
   "source": [
    "- 使用深度学习模型应当考虑模型复杂度与数据复杂度需相匹配\n",
    "- AlexNet结构简单，参数少，训练快，在MNIST数据集上的性能表现与其他两个深度卷积神经网络的性能相当\n",
    "- VGG模型参数量较大，调参很困难，笔者在训练的时候出现了Loss不收敛的情况，因此在实验中采用了Pytorch提供的预训练模型，在此基础上做迁移学习"
   ]
  }
 ],
 "metadata": {
  "kernelspec": {
   "display_name": "PyTorch 1.8",
   "language": "python",
   "name": "torch1.8"
  },
  "language_info": {
   "codemirror_mode": {
    "name": "ipython",
    "version": 3
   },
   "file_extension": ".py",
   "mimetype": "text/x-python",
   "name": "python",
   "nbconvert_exporter": "python",
   "pygments_lexer": "ipython3",
   "version": "3.9.7"
  }
 },
 "nbformat": 4,
 "nbformat_minor": 4
}
