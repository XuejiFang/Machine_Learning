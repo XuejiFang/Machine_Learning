{
 "cells": [
  {
   "cell_type": "markdown",
   "metadata": {},
   "source": [
    "## What I Do\n",
    "\n",
    "1. 实现了kNN算法，并应用在约会网站的配对和手写体数字识别上\n",
    "2. 基于sklearn进行验证实验，在手写体数字识别上错误分类10个，而自己编写的程序，错误分类11个，可以接受"
   ]
  },
  {
   "cell_type": "markdown",
   "metadata": {},
   "source": [
    "## 实验介绍"
   ]
  },
  {
   "cell_type": "markdown",
   "metadata": {},
   "source": [
    "### 1.实验内容"
   ]
  },
  {
   "cell_type": "markdown",
   "metadata": {},
   "source": [
    "本实验包括: \n",
    "* 基于kNN算法改进约会网站的配对效果\n",
    "* 基于kNN算法实现手写体数字识别"
   ]
  },
  {
   "cell_type": "markdown",
   "metadata": {},
   "source": [
    "### 2.实验目标"
   ]
  },
  {
   "cell_type": "markdown",
   "metadata": {},
   "source": [
    "通过本实验掌握kNN算法的原理，熟悉kNN算法及应用。"
   ]
  },
  {
   "cell_type": "markdown",
   "metadata": {},
   "source": [
    "### 3.实验知识点"
   ]
  },
  {
   "cell_type": "markdown",
   "metadata": {},
   "source": [
    "* kNN算法原理\n",
    "* kNN算法流程\n",
    "* kNN算法应用"
   ]
  },
  {
   "cell_type": "markdown",
   "metadata": {},
   "source": [
    "### 4.实验环境"
   ]
  },
  {
   "cell_type": "markdown",
   "metadata": {},
   "source": [
    "* python 3.6.5\n",
    "* numpy 1.13.3\n",
    "* matplotlib 2.2.3"
   ]
  },
  {
   "cell_type": "markdown",
   "metadata": {},
   "source": [
    "### 实验准备"
   ]
  },
  {
   "cell_type": "markdown",
   "metadata": {},
   "source": [
    "点击屏幕右上方的下载实验数据模块，选择下载kNN_Dating.tgz和kNN_basic_writing.tgz到指定目录下，然后再依次选择点击上方的File->Open->Upload,上传刚才下载的数据集压缩包，再使用如下命令解压："
   ]
  },
  {
   "cell_type": "code",
   "execution_count": 1,
   "metadata": {},
   "outputs": [],
   "source": [
    "# !tar -zxvf ./work/kNN_Dating.tgz -C ./work/"
   ]
  },
  {
   "cell_type": "code",
   "execution_count": 2,
   "metadata": {},
   "outputs": [],
   "source": [
    "# !tar -zxvf ./work/kNN_hand_writing.tgz -C ./work/"
   ]
  },
  {
   "cell_type": "markdown",
   "metadata": {},
   "source": [
    "## 【约会网站配对效果改进】"
   ]
  },
  {
   "cell_type": "markdown",
   "metadata": {},
   "source": [
    "## 实验步骤：【约会网站配对效果改进】- 概述"
   ]
  },
  {
   "cell_type": "markdown",
   "metadata": {},
   "source": [
    "海伦女士一直使用在线约会网站寻找适合自己的约会对象。尽管约会网站会推荐不同的人选，但她并不是喜欢每一个人。经过一番总结，她发现自己交往过的人可以进行如下分类：\n",
    "\n",
    "* 不喜欢的人 (didntLike)\n",
    "* 魅力一般的人 (smallDoses)\n",
    "* 极具魅力的人 (largeDoses)\n",
    "\n",
    "### 数据介绍\n",
    "海伦收集约会数据已经有了一段时间，她把这些数据存放在文本文件datingTestSet.txt中，每个样本数据占据一行，总共有1000行。\n",
    "\n",
    "海伦收集的样本数据主要包含以下3种特征：\n",
    "* 每年获得的飞行常客里程数\n",
    "* 玩视频游戏所消耗时间百分比\n",
    "* 每周消费的冰淇淋公升数"
   ]
  },
  {
   "cell_type": "markdown",
   "metadata": {},
   "source": [
    "### 数据示例\n",
    "![](./pic/dataIntro.png)"
   ]
  },
  {
   "cell_type": "code",
   "execution_count": 3,
   "metadata": {},
   "outputs": [],
   "source": [
    "import numpy as np\n",
    "import matplotlib.pyplot as plt\n",
    "import os\n",
    "import operator\n",
    "import pandas as pd\n",
    "import seaborn as sns"
   ]
  },
  {
   "cell_type": "markdown",
   "metadata": {},
   "source": [
    "## 实验步骤：【约会网站配对效果改进】- 数据读取与处理"
   ]
  },
  {
   "cell_type": "markdown",
   "metadata": {},
   "source": [
    "在将上述特征数据输入到分类器前，必须将待处理的数据的格式改变为分类器可以接收的格式。从上面已经知道，要将数据分类两部分，即特征矩阵和对应的分类标签向量。定义名为file2matrix的函数，以此来处理输入格式问题。"
   ]
  },
  {
   "cell_type": "code",
   "execution_count": 4,
   "metadata": {},
   "outputs": [],
   "source": [
    "def file2matrix(filename):\n",
    "    \"\"\"\n",
    "    函数说明：加载数据集\n",
    "    parameters:\n",
    "        fileName - 文件名\n",
    "    return:\n",
    "        featureMat - 特征矩阵\n",
    "        classLabelVector - 类别标签向量(didntLike - 0, smallDoses - 1, largeDoses - 2)\n",
    "    \"\"\"\n",
    "    fr = open(filename,'r',encoding = 'utf-8')\n",
    "    arrayOLines = fr.readlines()\n",
    "    arrayOLines[0]=arrayOLines[0].lstrip('\\ufeff')\n",
    "    numberOfLines = len(arrayOLines)\n",
    "    returnMat = np.zeros((numberOfLines,3))\n",
    "    classLabelVector = []\n",
    "    \n",
    "    index = 0\n",
    "\n",
    "    for line in arrayOLines:\n",
    "        line = line.strip()\n",
    "        listFromLine = line.split('\\t')\n",
    "        returnMat[index,:] = listFromLine[0:3]\n",
    "        if listFromLine[-1] == 'didntLike':\n",
    "            classLabelVector.append(1)\n",
    "        elif listFromLine[-1] == 'smallDoses':\n",
    "            classLabelVector.append(2)\n",
    "        elif listFromLine[-1] == 'largeDoses':\n",
    "            classLabelVector.append(3)\n",
    "        index += 1\n",
    "    return returnMat, classLabelVector"
   ]
  },
  {
   "cell_type": "markdown",
   "metadata": {},
   "source": [
    "## 实验步骤：【约会网站配对效果改进】- 数据归一化"
   ]
  },
  {
   "cell_type": "markdown",
   "metadata": {},
   "source": [
    "在处理不同取值范围的特征值时，我们通常采用的方法是将数值归一化，如将取值范围处理为０到１或者-１到１之间。本实验使用如下的公式可以将任意取值范围的特征值转化为０到１区间内的值：\n",
    "\n",
    "$X_{i}^{*}=\\frac{X_{i}-X_{\\min }}{X_{\\max }-X_{\\min }}$\n",
    "\n",
    "其中$X_{\\min }$和$X_{\\max }$分别是数据集中的最小特征值和最大特征值。编写名为autoNorm的函数，用该函数自动将数据归一化。"
   ]
  },
  {
   "cell_type": "code",
   "execution_count": 5,
   "metadata": {},
   "outputs": [],
   "source": [
    "def autoNorm(dataSet):\n",
    "    \"\"\"\n",
    "    函数说明：数据归一化\n",
    "    parameters:\n",
    "        dataSet - 特征矩阵\n",
    "    return:\n",
    "        normDataset - 归一化特征矩阵\n",
    "        ranges - 数据范围(Xmax - Xmin)\n",
    "        minVals - 最小特征值\n",
    "    \"\"\"\n",
    "    minVals = dataSet.min(0)\n",
    "    maxVals = dataSet.max(0)\n",
    "    ranges = maxVals - minVals\n",
    "    normDataSet = np.zeros(np.shape(dataSet))\n",
    "    m = dataSet.shape[0]\n",
    "    normDataSet = dataSet - np.tile(minVals, (m, 1))\n",
    "    normDataSet = normDataSet / np.tile(ranges, (m, 1))\n",
    "    \n",
    "    return normDataSet, ranges, minVals"
   ]
  },
  {
   "cell_type": "markdown",
   "metadata": {},
   "source": [
    "## 实验步骤：【约会网站配对效果改进】- kNN核心算法实现"
   ]
  },
  {
   "cell_type": "markdown",
   "metadata": {},
   "source": [
    "kNN算法流程：  \n",
    "　　a.计算已知类别数据集中的点与当前点之间的距离；  \n",
    "　　b.按照距离递增次序排序；  \n",
    "　　c.选取与当前点距离最小的k个点；  \n",
    "　　d.确定前k个点所在类别的出现频率；  \n",
    "　　e.返回前k个点所出现频率最高的类别作为当前点的预测分类。"
   ]
  },
  {
   "cell_type": "code",
   "execution_count": 6,
   "metadata": {},
   "outputs": [],
   "source": [
    "def kNNClassify(inX, dataSet, labels, k):\n",
    "    \"\"\"\n",
    "    函数说明：kNN分类\n",
    "    parameters:\n",
    "        inX - 用于要进行分类判别的数据(来自测试集)\n",
    "        dataSet - 用于训练的数据(训练集)\n",
    "        labels - 分类标签\n",
    "        k - kNN算法参数，选择距离最小的k个点\n",
    "    return:\n",
    "        predLabel - 预测类别\n",
    "    \"\"\"\n",
    "    dataSetSize = dataSet.shape[0]\n",
    "    diffMat = np.tile(inX, (dataSetSize, 1)) - dataSet\n",
    "    sqDiffMat = diffMat**2\n",
    "    sqDistances = sqDiffMat.sum(axis=1)\n",
    "    distances = sqDistances**0.5\n",
    "    sortedDistIndices = distances.argsort()\n",
    "    classCount = {}\n",
    "    for i in range(k):\n",
    "        voteIlabel = labels[sortedDistIndices[i]]\n",
    "        classCount[voteIlabel] = classCount.get(voteIlabel,0) + 1\n",
    "    # python3中用items()替换python2中的iteritems()\n",
    "    # key=operator.itemgetter(1)根据字典的值进行排序\n",
    "    # key=operator.itemgetter(0)根据字典的键进行排序\n",
    "    # reverse降序排序字典\n",
    "    sortedClassCount = sorted(classCount.items(),key=operator.itemgetter(1),reverse=True)\n",
    "    # print(sortedClassCount)\n",
    "    \n",
    "    return sortedClassCount[0][0]"
   ]
  },
  {
   "cell_type": "markdown",
   "metadata": {},
   "source": [
    "## 实验步骤：【约会网站配对效果改进】- 测试算法验证分类器"
   ]
  },
  {
   "cell_type": "markdown",
   "metadata": {},
   "source": [
    "机器学习算法一个很重要的工作就是评估算法的正确率，通常我们只提供已有数据的90%作为训练样本来训练分类器，而使用其余的10%数据去测试分类器，检测分类器的正确率。需要注意的是，10%的测试数据应该是随机选择的。\n",
    "\n",
    "本实验，请使用datingTestSet.txt中前10%的数据作为测试集，其余数据作为训练集，并输出每个测试样本的预测类别及测试集的错误率（k取4）。"
   ]
  },
  {
   "cell_type": "code",
   "execution_count": 7,
   "metadata": {},
   "outputs": [],
   "source": [
    "def datingClassTest(X, y, test_size=0.1, k=4):\n",
    "    \"\"\"\n",
    "    函数说明：测试kNN分类器\n",
    "    parameters:\n",
    "        X - 所有归一化后数据集\n",
    "        y - 所有标签集\n",
    "        test_size - 训练集与测试集划分比例\n",
    "        k - kNN算法参数，选择距离最小的k个点\n",
    "    return:\n",
    "        accurancy - 准确率\n",
    "    \"\"\"\n",
    "\n",
    "    filename = \"./work/kNN_Dating/datingTestSet.txt\"\n",
    "    datingDataMat, datingLabels = file2matrix(filename)\n",
    "    hoRatio = 0.10\n",
    "    normMat, ranges, minVals = autoNorm(datingDataMat)\n",
    "    m = normMat.shape[0]\n",
    "    numTestVecs = int(m * hoRatio)\n",
    "    errorCount = 0.0\n",
    "\n",
    "    for i in range(numTestVecs):\n",
    "        classifierResult = kNNClassify(normMat[i,:], normMat[numTestVecs:m,:], \n",
    "            datingLabels[numTestVecs:m], 4)\n",
    "        # print(\"分类结果:%s\\t真实类别:%d\" % (classifierResult, datingLabels[i]))\n",
    "        if classifierResult != datingLabels[i]:\n",
    "            errorCount += 1.0\n",
    "    accurancy = (1 - errorCount/float(numTestVecs))*100\n",
    "    return accurancy"
   ]
  },
  {
   "cell_type": "code",
   "execution_count": 8,
   "metadata": {},
   "outputs": [
    {
     "name": "stdout",
     "output_type": "stream",
     "text": [
      "精确率:96.000000%\n"
     ]
    }
   ],
   "source": [
    "if __name__ == '__main__':\n",
    "    filename = './work/kNN_Dating/datingTestSet.txt'\n",
    "    featureMat, classLabelVector = file2matrix(filename)\n",
    "    normDataset, ranges, minVals = autoNorm(featureMat)\n",
    "    accurancy = datingClassTest(normDataset, classLabelVector, test_size=0.2)\n",
    "    print(\"精确率:%f%%\" %(accurancy))"
   ]
  },
  {
   "cell_type": "markdown",
   "metadata": {},
   "source": [
    "## 【手写体数字识别】"
   ]
  },
  {
   "cell_type": "markdown",
   "metadata": {},
   "source": [
    "## 实验步骤：【手写体数字识别】- 概述"
   ]
  },
  {
   "cell_type": "markdown",
   "metadata": {},
   "source": [
    "本实验要求构造kNN分类器，实现对手写体数字0到9的识别。\n",
    "\n",
    "### 数据介绍\n",
    "数据集目录下有两个子目录：trainingDigits和testDigits  \n",
    "\n",
    "* trainingDigits为训练数据集的文件，文件数量为1935；\n",
    "* testDigits为测试数据集的文件，文件数量为947。\n",
    "\n",
    "每个文件的命名格式都为“真实数字_编号.txt”。为了简便处理，实验中，用txt文本文件表示图片。原图片中像素值为黑色（0,0,0）的像素点在txt中对应的用0表示，像素值为白色（255,255,255）的像素点用1表示。所以，只需要处理这些文本文件即可，不用再去解析图片格式。每个txt文件中，数据共有32行和32列，这是由于原图片的大小为32X32。"
   ]
  },
  {
   "cell_type": "markdown",
   "metadata": {},
   "source": [
    "## 实验步骤：【手写体数字识别】- 加载手写字训练集数据"
   ]
  },
  {
   "cell_type": "markdown",
   "metadata": {},
   "source": [
    "由于kNN算法中，每个点都是用向量表示的。手写体数字数据为32X32的二维数据格式，首先需要将其转换为一维数组，即表示成一个向量。函数img2vector用于将表示32X32的二维数组的txt文件转换为一维数组，该函数传入参数文件名，返回转换后的一维数组。函数loadTrainData用于加载全部训练数据。"
   ]
  },
  {
   "cell_type": "code",
   "execution_count": 9,
   "metadata": {},
   "outputs": [],
   "source": [
    "def img2vector(fileName):\n",
    "    \"\"\"\n",
    "    函数说明：将手写体数字文本转化为一维数组\n",
    "    parameters:\n",
    "        fileName - 手写体数字文本文件路径\n",
    "    return:\n",
    "        returnVect - 1x1024向量\n",
    "    \"\"\"\n",
    "    returnVect=np.zeros((1,1024))\n",
    "    fr=open(fileName)\n",
    "    for i in range(32):\n",
    "        lineStr=fr.readline()\n",
    "        for j in range(32):\n",
    "            returnVect[0,32*i+j]=int(lineStr[j])\n",
    "    return  returnVect\n",
    "\n",
    "def loadTrainData(path):\n",
    "    \"\"\"\n",
    "    函数说明：加载目录下所有手写体数字文本文件\n",
    "    parameters:\n",
    "        path - 手写体数字文本文件路径\n",
    "    return:\n",
    "        hwMat - 训练集数据\n",
    "        hwLabels - 训练集标签\n",
    "    \"\"\"\n",
    "    hwLabels = []\n",
    "    hwMat = np.empty(shape=[1, 1024])\n",
    "    files = os.listdir(path)\n",
    "    for file in files:\n",
    "        num = int(file.split('_')[0])\n",
    "        hwLabels.append(num)\n",
    "        hwMat = np.concatenate((hwMat, img2vector(path+file)), axis=0)\n",
    "    hwLabels = np.array(hwLabels).reshape(-1, 1)\n",
    "    hwMat = hwMat[1:,:]\n",
    "    return hwMat, hwLabels"
   ]
  },
  {
   "cell_type": "markdown",
   "metadata": {},
   "source": [
    "## 实验步骤：【手写体数字识别】- 使用测试数据集验证分类算法 "
   ]
  },
  {
   "cell_type": "markdown",
   "metadata": {},
   "source": [
    "验证kNN手写体识别算法的准确性。测试使用的数据集位于目录testDigits下。测试的流程为：依次读取testDigits目录下的每个文件，根据文件中的数据，重用分类函数kNNClassify确定其类别，并和其真实分类进行对比，如果一致，表示分类正确，如果不一致，表示分类错误。统计错误的数量，计算错误率，错误率为分类出错的数量除以测试集中测试数据总量。编写handwritingClassTest函数测试基于kNN算法实现的手写字识别系统准确性。（输出每个测试样本的预测类别及测试集的错误率，k取3）"
   ]
  },
  {
   "cell_type": "code",
   "execution_count": 12,
   "metadata": {},
   "outputs": [],
   "source": [
    "def handwritingClassTest():\n",
    "    \"\"\"\n",
    "    函数说明：测试kNN手写体识别算法\n",
    "    \n",
    "    \"\"\"\n",
    "    hwLabels = []\n",
    "    trainingFileList = os.listdir('./work/kNN_hand_writing/trainingDigits')\n",
    "    m = len(trainingFileList)\n",
    "    trainingMat = np.zeros((m, 1024))\n",
    "    for i in range(m):\n",
    "        fileNameStr = trainingFileList[i]\n",
    "        classNumber = int(fileNameStr.split('_')[0])\n",
    "        hwLabels.append(classNumber)\n",
    "        trainingMat[i,:] = img2vector('./work/kNN_hand_writing/trainingDigits/'+ fileNameStr)\n",
    "    testFileList = os.listdir('./work/kNN_hand_writing/testDigits')\n",
    "    errorCount = 0.0\n",
    "    mTest = len(testFileList)\n",
    "    for i in range(mTest):\n",
    "        fileNameStr = testFileList[i]\n",
    "        #获得分类的数字\n",
    "        classNumber = int(fileNameStr.split('_')[0])\n",
    "        #获得测试集的1x1024向量,用于训练\n",
    "        vectorUnderTest = img2vector('./work/kNN_hand_writing/testDigits/'+ fileNameStr)\n",
    "        #获得预测结果\n",
    "        classifierResult = kNNClassify(vectorUnderTest, trainingMat, hwLabels, 3)\n",
    "        # print(\"分类返回结果为%d\\t真实结果为%d\" % (classifierResult, classNumber))\n",
    "        if(classifierResult != classNumber):\n",
    "            errorCount += 1.0\n",
    "    acc = 1 - errorCount/mTest\n",
    "    print(\"总共错了%d个数据\\n精确率为%f%%\" % (errorCount, acc))"
   ]
  },
  {
   "cell_type": "code",
   "execution_count": 13,
   "metadata": {},
   "outputs": [
    {
     "name": "stdout",
     "output_type": "stream",
     "text": [
      "总共错了11个数据\n",
      "精确率为0.988372%\n"
     ]
    }
   ],
   "source": [
    "if __name__ == '__main__':\n",
    "    handwritingClassTest()"
   ]
  },
  {
   "cell_type": "markdown",
   "metadata": {},
   "source": [
    "## 实验步骤：【手写体数字识别】- 基于Sklearn实现"
   ]
  },
  {
   "cell_type": "code",
   "execution_count": 16,
   "metadata": {},
   "outputs": [],
   "source": [
    "from sklearn.neighbors import KNeighborsClassifier"
   ]
  },
  {
   "cell_type": "code",
   "execution_count": 19,
   "metadata": {},
   "outputs": [
    {
     "name": "stdout",
     "output_type": "stream",
     "text": [
      "总共错了10个数据\n",
      "精确率为0.989429%\n"
     ]
    }
   ],
   "source": [
    "# 创建 KNN 模型\n",
    "knn = KNeighborsClassifier(n_neighbors=3)\n",
    "\n",
    "\n",
    "\n",
    "hwLabels = []\n",
    "trainingFileList = os.listdir('./work/kNN_hand_writing/trainingDigits')\n",
    "m = len(trainingFileList)\n",
    "trainingMat = np.zeros((m, 1024))\n",
    "for i in range(m):\n",
    "    fileNameStr = trainingFileList[i]\n",
    "    classNumber = int(fileNameStr.split('_')[0])\n",
    "    hwLabels.append(classNumber)\n",
    "    trainingMat[i,:] = img2vector('./work/kNN_hand_writing/trainingDigits/'+ fileNameStr)\n",
    "testFileList = os.listdir('./work/kNN_hand_writing/testDigits')\n",
    "errorCount = 0.0\n",
    "mTest = len(testFileList)\n",
    "\n",
    "# 训练模型\n",
    "knn.fit(trainingMat, hwLabels)\n",
    "\n",
    "for i in range(mTest):\n",
    "    fileNameStr = testFileList[i]\n",
    "    #获得分类的数字\n",
    "    classNumber = int(fileNameStr.split('_')[0])\n",
    "    #获得测试集的1x1024向量,用于训练\n",
    "    vectorUnderTest = img2vector('./work/kNN_hand_writing/testDigits/'+ fileNameStr)\n",
    "\n",
    "    # 预测测试数据\n",
    "    classifierResult = knn.predict(vectorUnderTest)\n",
    "\n",
    "    if(classifierResult != classNumber):\n",
    "        errorCount += 1.0\n",
    "acc = 1 - errorCount/mTest\n",
    "print(\"总共错了%d个数据\\n精确率为%f%%\" % (errorCount, acc))"
   ]
  }
 ],
 "metadata": {
  "anaconda-cloud": {},
  "kernelspec": {
   "display_name": "Python 3",
   "language": "python",
   "name": "python3"
  },
  "language_info": {
   "codemirror_mode": {
    "name": "ipython",
    "version": 3
   },
   "file_extension": ".py",
   "mimetype": "text/x-python",
   "name": "python",
   "nbconvert_exporter": "python",
   "pygments_lexer": "ipython3",
   "version": "3.7.6"
  }
 },
 "nbformat": 4,
 "nbformat_minor": 4
}
