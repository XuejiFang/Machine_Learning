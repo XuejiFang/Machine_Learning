{
 "cells": [
  {
   "cell_type": "markdown",
   "metadata": {
    "collapsed": true
   },
   "source": [
    "## 实验介绍"
   ]
  },
  {
   "cell_type": "markdown",
   "metadata": {},
   "source": [
    "## 0.Introduction"
   ]
  },
  {
   "cell_type": "markdown",
   "metadata": {},
   "source": [
    "**优点**：容易实现\n",
    "\n",
    "**缺点**：可能收敛到局部最小值，在大规模数据集上收敛较慢\n",
    "\n",
    "**适用范围**：数值型数据"
   ]
  },
  {
   "cell_type": "markdown",
   "metadata": {},
   "source": [
    "### 1.实验内容"
   ]
  },
  {
   "cell_type": "markdown",
   "metadata": {},
   "source": [
    "* 通过对给定数据进行聚类分析来了解K-means算法。"
   ]
  },
  {
   "cell_type": "markdown",
   "metadata": {},
   "source": [
    "### 2.实验目标"
   ]
  },
  {
   "cell_type": "markdown",
   "metadata": {},
   "source": [
    "* 通过本实验掌握K-means聚类算法"
   ]
  },
  {
   "cell_type": "markdown",
   "metadata": {},
   "source": [
    "### 3.实验知识点"
   ]
  },
  {
   "cell_type": "markdown",
   "metadata": {},
   "source": [
    "* K-means算法原理\n",
    "* K-means算法流程\n",
    "* K-means算法应用"
   ]
  },
  {
   "cell_type": "markdown",
   "metadata": {},
   "source": [
    "### 4.实验环境"
   ]
  },
  {
   "cell_type": "markdown",
   "metadata": {},
   "source": [
    "> 本地环境\n",
    "* python 3.8.4\n",
    "* numpy 1.22.4\n",
    "* matplotlib 3.5.2"
   ]
  },
  {
   "cell_type": "code",
   "execution_count": 1,
   "metadata": {},
   "outputs": [],
   "source": [
    "# !pip list --version"
   ]
  },
  {
   "cell_type": "code",
   "execution_count": 2,
   "metadata": {},
   "outputs": [],
   "source": [
    "# !python --version"
   ]
  },
  {
   "cell_type": "markdown",
   "metadata": {},
   "source": [
    "## 实验准备"
   ]
  },
  {
   "cell_type": "markdown",
   "metadata": {},
   "source": [
    "点击屏幕右上方的下载实验数据模块，选择下载KmeansData.txt到指定目录下，然后再依次选择点击上方的File->Open->Upload,上传刚才下载的数据集"
   ]
  },
  {
   "cell_type": "markdown",
   "metadata": {},
   "source": [
    "## 数据介绍"
   ]
  },
  {
   "cell_type": "markdown",
   "metadata": {},
   "source": [
    "本数据是随机生成的符合高斯分布的二维样本点"
   ]
  },
  {
   "cell_type": "markdown",
   "metadata": {},
   "source": [
    "## [K-means] 实验流程"
   ]
  },
  {
   "cell_type": "code",
   "execution_count": 27,
   "metadata": {},
   "outputs": [],
   "source": [
    "import numpy as np\n",
    "import matplotlib.pyplot as plt\n",
    "import pandas as pd\n",
    "import warnings\n",
    "\n",
    "warnings.filterwarnings(\"ignore\")"
   ]
  },
  {
   "cell_type": "markdown",
   "metadata": {},
   "source": [
    "## 1. 数据的读取与处理"
   ]
  },
  {
   "cell_type": "code",
   "execution_count": 4,
   "metadata": {},
   "outputs": [],
   "source": [
    "def loadDataSet(fileName):\n",
    "    \"\"\"\n",
    "    函数说明:加载数据集\n",
    "    parameters:\n",
    "        fileName - 文件名  \n",
    "    return：\n",
    "        DataMat - 数据集，DataFrame数据格式\n",
    "    \"\"\"\n",
    "    data = pd.read_table(fileName,header=None)\n",
    "    data = data.values#.tolist()\n",
    "    \n",
    "    return data"
   ]
  },
  {
   "cell_type": "markdown",
   "metadata": {},
   "source": [
    "## 2. 样本点间的距离计算"
   ]
  },
  {
   "cell_type": "markdown",
   "metadata": {},
   "source": [
    "### 2.1 欧氏距离\n",
    "$$\n",
    "dist = \\sqrt{(\\sum_{k=1}^n (p_k-q_k)^2)}\n",
    "$$"
   ]
  },
  {
   "cell_type": "code",
   "execution_count": 5,
   "metadata": {},
   "outputs": [],
   "source": [
    "def distEclud(vecA, vecB, **kwargs):\n",
    "    \"\"\"\n",
    "    函数说明:利用欧式距离来计算每个样本点之间的距离\n",
    "    parameters:\n",
    "        vecA - A样本的特征向量（本数据中指它的二维坐标值）\n",
    "        vecB - B样本的特征向量（本数据中指它的二维坐标值）  \n",
    "    return：\n",
    "        Dist - 样本点间的欧式距离\n",
    "    \"\"\" \n",
    "    \n",
    "    \n",
    "    # 基于Numpy利用广播机制可以提高运算效率——Andrew Ng\n",
    "    \n",
    "    diff = np.array(np.array(vecA) - np.array(vecB))\n",
    "    Dist = np.sqrt(np.sum(diff*diff))\n",
    "    \"\"\"\n",
    "    # 自己实现\n",
    "    Dist = 0\n",
    "    acc = 0\n",
    "    for i in range(size(vecA)):\n",
    "        acc = acc + (vecA[i] - vecB[i])**2\n",
    "    Dist = acc**0.5\n",
    "    \"\"\"\n",
    "\n",
    "    return Dist"
   ]
  },
  {
   "cell_type": "markdown",
   "metadata": {},
   "source": [
    "### 2.2 闵可夫斯基距离\n",
    "$$\n",
    "dist = (\\sum_{k=1}^n|p_k-q_k|^r)^{\\frac{1}{r}}\n",
    "$$\n",
    "\n",
    "> r=1时为Hamming Distance，r=2时为Euclidean Distance"
   ]
  },
  {
   "cell_type": "code",
   "execution_count": 6,
   "metadata": {},
   "outputs": [],
   "source": [
    "# 基于Numpy实现\n",
    "def distMink(vecA, vecB, **kwargs):\n",
    "    \"\"\"\n",
    "    函数说明:利用闵可夫斯基距离来计算每个样本点之间的距离\n",
    "    parameters:\n",
    "        vecA - A样本的特征向量（本数据中指它的二维坐标值）\n",
    "        vecB - B样本的特征向量（本数据中指它的二维坐标值） \n",
    "        r - 参数\n",
    "    return：\n",
    "        Dist - 样本点间的闵可夫斯基距离\n",
    "    \"\"\" \n",
    "    r = kwargs['r']\n",
    "    Dist = np.power(np.sum(np.power(np.abs(np.array(vecA) - np.array(vecB)), r)), 1/r)\n",
    "    return Dist"
   ]
  },
  {
   "cell_type": "markdown",
   "metadata": {},
   "source": [
    "### 2.3 马氏距离\n",
    "\n",
    "$$\n",
    "dist(p,q)=(p-q)^T\\Sigma^{-1}(p-q)\n",
    "$$\n",
    "\n",
    "其中，$\\Sigma$ 是输入数据协方差矩阵，即\n",
    "\n",
    "$$\n",
    "\\Sigma=\\frac{1}{n-1}\\sum_{k=1}^n(x_{k,i}-\\overline{x_i})(x_{k,j}-\\overline{k_j})\n",
    "$$\n",
    "\n",
    "> 要求总样本数大于样本的维数"
   ]
  },
  {
   "cell_type": "code",
   "execution_count": 7,
   "metadata": {},
   "outputs": [],
   "source": [
    "def distMahal(vecA, vecB, **kwargs):\n",
    "    \"\"\"\n",
    "    函数说明:利用闵可夫斯基距离来计算每个样本点之间的距离\n",
    "    parameters:\n",
    "        vecA - A样本的特征向量（注意，只能是列向量）\n",
    "        vecB - B样本的特征向量（注意，只能是列向量） \n",
    "        Mat - 所有输入数据组成的矩阵，m行n列，m代表维度\n",
    "    return：\n",
    "        Dist - 样本点间的闵可夫斯基距离\n",
    "    \"\"\"\n",
    "\n",
    "    p = np.array(vecA)\n",
    "    q = np.array(vecB)\n",
    "\n",
    "    Mat = np.array(kwargs['Mat']) \n",
    "    if np.shape(Mat)[0] > np.shape(Mat)[1]:\n",
    "        Mat = np.array(Mat).T       \n",
    "    \n",
    "    S = np.cov(Mat)\n",
    "    invS = np.linalg.inv(S)\n",
    "    if np.shape(vecA)[0] == 1:\n",
    "        Dist = np.sqrt(np.dot(np.dot((p-q),invS),(p-q).T))\n",
    "    else:\n",
    "        Dist = np.sqrt(np.dot(np.dot((p-q).T,invS),(p-q)))\n",
    "   \n",
    "    return Dist"
   ]
  },
  {
   "cell_type": "code",
   "execution_count": 8,
   "metadata": {},
   "outputs": [],
   "source": [
    "M=np.array([[0.5, 0.5],\n",
    "  [0, 1],\n",
    "  [1.5, 1.5]])"
   ]
  },
  {
   "cell_type": "code",
   "execution_count": 9,
   "metadata": {},
   "outputs": [],
   "source": [
    "M=np.random.rand(3,2)"
   ]
  },
  {
   "cell_type": "code",
   "execution_count": 10,
   "metadata": {},
   "outputs": [
    {
     "data": {
      "text/plain": [
       "1.9999999999999998"
      ]
     },
     "execution_count": 10,
     "metadata": {},
     "output_type": "execute_result"
    }
   ],
   "source": [
    "distMahal(M[1],M[0],Mat=M)"
   ]
  },
  {
   "cell_type": "code",
   "execution_count": 11,
   "metadata": {},
   "outputs": [
    {
     "data": {
      "text/plain": [
       "0.6780851787950231"
      ]
     },
     "execution_count": 11,
     "metadata": {},
     "output_type": "execute_result"
    }
   ],
   "source": [
    "distMink(M[0].reshape(-1,1),M[1].reshape(-1,1),r=2)"
   ]
  },
  {
   "cell_type": "code",
   "execution_count": 12,
   "metadata": {},
   "outputs": [
    {
     "data": {
      "text/plain": [
       "0.7071067811865476"
      ]
     },
     "execution_count": 12,
     "metadata": {},
     "output_type": "execute_result"
    }
   ],
   "source": [
    "distMink([0.5, 0.5],[0, 1],r=2)"
   ]
  },
  {
   "cell_type": "code",
   "execution_count": 13,
   "metadata": {},
   "outputs": [
    {
     "data": {
      "text/plain": [
       "0.6780851787950231"
      ]
     },
     "execution_count": 13,
     "metadata": {},
     "output_type": "execute_result"
    }
   ],
   "source": [
    "distEclud(M[0].reshape(-1,1),M[1].reshape(-1,1))"
   ]
  },
  {
   "cell_type": "code",
   "execution_count": 14,
   "metadata": {},
   "outputs": [
    {
     "data": {
      "text/plain": [
       "0.7071067811865476"
      ]
     },
     "execution_count": 14,
     "metadata": {},
     "output_type": "execute_result"
    }
   ],
   "source": [
    "distEclud([0.5, 0.5],[0, 1])"
   ]
  },
  {
   "cell_type": "markdown",
   "metadata": {},
   "source": [
    "## 3. 簇中心的初始化"
   ]
  },
  {
   "cell_type": "code",
   "execution_count": 15,
   "metadata": {},
   "outputs": [],
   "source": [
    "def randCent(DataMat, k):\n",
    "    \"\"\"\n",
    "    函数说明:从当前样本点中随机选取k个初始簇中心\n",
    "    parameters:\n",
    "         DataMat - 数据集\n",
    "         k - 聚类后簇的数量\n",
    "    return：\n",
    "        centroids - 簇中心列表\n",
    "    \"\"\"    \n",
    "    n = np.shape(DataMat)[1]\n",
    "    centroids = np.mat(np.zeros((k, n)))\n",
    "    for j in range(n):\n",
    "        minJ = min(DataMat[:, j])\n",
    "        rangeJ = float(max(DataMat[:, j]) - minJ)\n",
    "        centroids[:, j] = minJ + rangeJ * np.random.rand(k, 1)\n",
    "        \n",
    "    return centroids   "
   ]
  },
  {
   "cell_type": "markdown",
   "metadata": {},
   "source": [
    "## 4. K-means的中心思想实现---即通过不断更新簇中心，把与各个簇中心距离相近的样本点归为一类"
   ]
  },
  {
   "cell_type": "code",
   "execution_count": 16,
   "metadata": {},
   "outputs": [],
   "source": [
    "def kMeans(dataSet, k, distMeas=distEclud, createCent=randCent, r=None, Mat=None):\n",
    "    \"\"\"\n",
    "    函数说明：K-均值算法\n",
    "    parameters:\n",
    "         dataSet -数据集\n",
    "         k -簇个数\n",
    "         distMeas -距离计算函数\n",
    "         createCent -创建初始质心函数\n",
    "    return：\n",
    "         centroids -质心列表\n",
    "         clusterAssment -簇分配结果矩阵\n",
    "    \"\"\" \n",
    "    m = np.shape(dataSet)[0]\n",
    "    clusterAssement = np.mat(np.zeros((m, 2)))\n",
    "    centroids = createCent(dataSet, k)\n",
    "    clusterChanged = True\n",
    "    while clusterChanged:\n",
    "        clusterChanged = False\n",
    "        for i in range(m):\n",
    "            minDist = np.inf; minIndex = -1;\n",
    "            for j in range(k):\n",
    "                distJI = distMeas(centroids[j, :], dataSet[i, :], Mat=Mat, r=r)\n",
    "                if distJI < minDist:\n",
    "                    minDist = distJI;\n",
    "                    minIndex = j;\n",
    "            \n",
    "            if clusterAssement[i, 0] != minIndex:\n",
    "                clusterChanged = True\n",
    "            clusterAssement[i, :] = minIndex, minDist**2\n",
    "        print(centroids)\n",
    "        for cent in range(k):\n",
    "            ptsInClust = dataSet[np.nonzero(clusterAssement[:, 0].A==cent)[0]]\n",
    "            centroids[cent, :] = np.mean(ptsInClust, axis = 0)\n",
    "        return centroids, clusterAssement"
   ]
  },
  {
   "cell_type": "markdown",
   "metadata": {},
   "source": [
    "## 5. 实验结果的可视化"
   ]
  },
  {
   "cell_type": "code",
   "execution_count": 38,
   "metadata": {},
   "outputs": [],
   "source": [
    "def drawDataSet(dataMat,centList,clusterAssment,k,ax=None):\n",
    "    \"\"\"\n",
    "    函数说明：将聚类结果可视化\n",
    "    parameters：\n",
    "         centList -质心列表\n",
    "         clusterAssment -簇列表\n",
    "         dataMat -数据集\n",
    "         k -簇个数\n",
    "    return:\n",
    "         A picture\n",
    "    \"\"\"\n",
    "    import seaborn as sns\n",
    "    #fig = plt.figure(figsize=[6, 6])\n",
    "    #ax=fig.add_subplot(111)\n",
    "    if not ax: ax = plt.gca()\n",
    "    sns.scatterplot(x=0, y=1, data = pd.DataFrame(centList), ax = ax, label='Cent', marker='^')\n",
    "    sns.scatterplot(x=0, y=1, data = pd.DataFrame(dataMat), hue= np.array(clusterAssment)[:,0], ax= ax)\n",
    "    "
   ]
  },
  {
   "cell_type": "markdown",
   "metadata": {},
   "source": [
    "## 6. 主函数调用上述函数"
   ]
  },
  {
   "cell_type": "code",
   "execution_count": 41,
   "metadata": {},
   "outputs": [
    {
     "name": "stdout",
     "output_type": "stream",
     "text": [
      "[[-2.47592792 -2.92451853]\n",
      " [ 1.1598726   1.90932976]\n",
      " [ 0.86708591  5.12775348]\n",
      " [-2.71789488 -1.93844793]]\n",
      "[[-2.49621165  0.17710847]\n",
      " [-4.80957087 -3.32065331]\n",
      " [ 0.85736611  3.52372751]\n",
      " [-2.04001806  0.52516748]]\n",
      "[[ 3.96854315  0.78383883]\n",
      " [ 0.26616376  2.49299848]\n",
      " [-4.28878596 -2.20861144]\n",
      " [ 3.25893444  3.91839008]]\n",
      "[[-1.99123658  0.204244  ]\n",
      " [ 4.45069231  2.99531732]\n",
      " [-4.69935685 -3.43230317]\n",
      " [ 3.27406351  0.39075561]]\n"
     ]
    },
    {
     "data": {
      "image/png": "[encoded data removed]",
      "text/plain": [
       "<Figure size 864x864 with 4 Axes>"
      ]
     },
     "metadata": {
      "needs_background": "light"
     },
     "output_type": "display_data"
    }
   ],
   "source": [
    "if __name__ =='__main__':\n",
    "    \"\"\"\n",
    "    按照Kmeans原理来调用上述函数\n",
    "    \"\"\"\n",
    "    fileName = './work/KmeansData.txt'\n",
    "    dataMat = loadDataSet(fileName)\n",
    "    k = 4\n",
    "    \n",
    "    fig = plt.figure(figsize=[12,12])\n",
    "    ax1 = fig.add_subplot(221)\n",
    "    centList,clusterAssment = kMeans(dataMat, k, distMeas=distMink, r=2, createCent=randCent)\n",
    "    drawDataSet(dataMat, centList,clusterAssment, k, ax=ax1)\n",
    "    ax1.set(title='Mink, r=2')\n",
    "    ax2 = fig.add_subplot(222)\n",
    "    centList,clusterAssment = kMeans(dataMat, k, distMeas=distEclud,createCent=randCent)\n",
    "    drawDataSet(dataMat, centList,clusterAssment, k, ax=ax2)\n",
    "    ax2.set(title='Eclud')\n",
    "    ax3 = fig.add_subplot(223)\n",
    "    centList,clusterAssment = kMeans(dataMat, k, distMeas=distMink, r=3, createCent=randCent)\n",
    "    drawDataSet(dataMat, centList,clusterAssment, k, ax=ax3)\n",
    "    ax3.set(title='Mink, r=3')\n",
    "    ax4 = fig.add_subplot(224)\n",
    "    centList,clusterAssment = kMeans(dataMat, k, distMeas=distMahal, Mat=np.array(dataMat).T, createCent=randCent)\n",
    "    drawDataSet(dataMat, centList,clusterAssment, k, ax=ax4)\n",
    "    ax4.set(title='Mahal')"
   ]
  },
  {
   "cell_type": "code",
   "execution_count": null,
   "metadata": {},
   "outputs": [],
   "source": []
  }
 ],
 "metadata": {
  "kernelspec": {
   "display_name": "Python 3 (ipykernel)",
   "language": "python",
   "name": "python3"
  },
  "language_info": {
   "codemirror_mode": {
    "name": "ipython",
    "version": 3
   },
   "file_extension": ".py",
   "mimetype": "text/x-python",
   "name": "python",
   "nbconvert_exporter": "python",
   "pygments_lexer": "ipython3",
   "version": "3.8.4"
  }
 },
 "nbformat": 4,
 "nbformat_minor": 1
}
