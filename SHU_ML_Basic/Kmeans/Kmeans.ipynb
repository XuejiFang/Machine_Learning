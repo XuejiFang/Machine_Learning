{
 "cells": [
  {
   "cell_type": "markdown",
   "metadata": {
    "collapsed": true
   },
   "source": [
    "## 实验介绍"
   ]
  },
  {
   "cell_type": "markdown",
   "metadata": {},
   "source": [
    "## 0.Introduction"
   ]
  },
  {
   "cell_type": "markdown",
   "metadata": {},
   "source": [
    "**优点**：容易实现\n",
    "\n",
    "**缺点**：可能收敛到局部最小值，在大规模数据集上收敛较慢\n",
    "\n",
    "**适用范围**：数值型数据"
   ]
  },
  {
   "cell_type": "markdown",
   "metadata": {},
   "source": [
    "### 1.实验内容"
   ]
  },
  {
   "cell_type": "markdown",
   "metadata": {},
   "source": [
    "* 通过对给定数据进行聚类分析来了解K-means算法。"
   ]
  },
  {
   "cell_type": "markdown",
   "metadata": {},
   "source": [
    "### 2.实验目标"
   ]
  },
  {
   "cell_type": "markdown",
   "metadata": {},
   "source": [
    "* 通过本实验掌握K-means聚类算法"
   ]
  },
  {
   "cell_type": "markdown",
   "metadata": {},
   "source": [
    "### 3.实验知识点"
   ]
  },
  {
   "cell_type": "markdown",
   "metadata": {},
   "source": [
    "* K-means算法原理\n",
    "* K-means算法流程\n",
    "* K-means算法应用"
   ]
  },
  {
   "cell_type": "markdown",
   "metadata": {},
   "source": [
    "### 4.实验环境"
   ]
  },
  {
   "cell_type": "markdown",
   "metadata": {},
   "source": [
    "> 本地环境\n",
    "* python 3.8.4\n",
    "* numpy 1.22.4\n",
    "* matplotlib 3.5.2"
   ]
  },
  {
   "cell_type": "code",
   "execution_count": 1,
   "metadata": {},
   "outputs": [],
   "source": [
    "# !pip list --version"
   ]
  },
  {
   "cell_type": "code",
   "execution_count": 2,
   "metadata": {},
   "outputs": [],
   "source": [
    "# !python --version"
   ]
  },
  {
   "cell_type": "markdown",
   "metadata": {},
   "source": [
    "## 实验准备"
   ]
  },
  {
   "cell_type": "markdown",
   "metadata": {},
   "source": [
    "点击屏幕右上方的下载实验数据模块，选择下载KmeansData.txt到指定目录下，然后再依次选择点击上方的File->Open->Upload,上传刚才下载的数据集"
   ]
  },
  {
   "cell_type": "markdown",
   "metadata": {},
   "source": [
    "## 数据介绍"
   ]
  },
  {
   "cell_type": "markdown",
   "metadata": {},
   "source": [
    "本数据是随机生成的符合高斯分布的二维样本点"
   ]
  },
  {
   "cell_type": "markdown",
   "metadata": {},
   "source": [
    "## [K-means] 实验流程"
   ]
  },
  {
   "cell_type": "code",
   "execution_count": 3,
   "metadata": {},
   "outputs": [],
   "source": [
    "import numpy as np\n",
    "import matplotlib.pyplot as plt\n",
    "import pandas as pd\n",
    "import warnings\n",
    "\n",
    "warnings.filterwarnings(\"ignore\")"
   ]
  },
  {
   "cell_type": "markdown",
   "metadata": {},
   "source": [
    "## 1. 数据的读取与处理"
   ]
  },
  {
   "cell_type": "code",
   "execution_count": 4,
   "metadata": {},
   "outputs": [],
   "source": [
    "def loadDataSet(fileName):\n",
    "    \"\"\"\n",
    "    函数说明:加载数据集\n",
    "    parameters:\n",
    "        fileName - 文件名  \n",
    "    return：\n",
    "        DataMat - 数据集，DataFrame数据格式\n",
    "    \"\"\"\n",
    "    data = pd.read_table(fileName,header=None)\n",
    "    data = data.values#.tolist()\n",
    "    \n",
    "    return data"
   ]
  },
  {
   "cell_type": "markdown",
   "metadata": {},
   "source": [
    "## 2. 样本点间的距离计算"
   ]
  },
  {
   "cell_type": "markdown",
   "metadata": {},
   "source": [
    "### 2.1 欧氏距离\n",
    "$$\n",
    "dist = \\sqrt{(\\sum_{k=1}^n (p_k-q_k)^2)}\n",
    "$$"
   ]
  },
  {
   "cell_type": "code",
   "execution_count": 5,
   "metadata": {},
   "outputs": [],
   "source": [
    "def distEclud(vecA, vecB, **kwargs):\n",
    "    \"\"\"\n",
    "    函数说明:利用欧式距离来计算每个样本点之间的距离\n",
    "    parameters:\n",
    "        vecA - A样本的特征向量（本数据中指它的二维坐标值）\n",
    "        vecB - B样本的特征向量（本数据中指它的二维坐标值）  \n",
    "    return：\n",
    "        Dist - 样本点间的欧式距离\n",
    "    \"\"\" \n",
    "    \n",
    "    \n",
    "    # 基于Numpy利用广播机制可以提高运算效率——Andrew Ng\n",
    "    \n",
    "    diff = np.array(np.array(vecA) - np.array(vecB))\n",
    "    Dist = np.sqrt(np.sum(diff*diff))\n",
    "    \"\"\"\n",
    "    # 自己实现\n",
    "    Dist = 0\n",
    "    acc = 0\n",
    "    for i in range(size(vecA)):\n",
    "        acc = acc + (vecA[i] - vecB[i])**2\n",
    "    Dist = acc**0.5\n",
    "    \"\"\"\n",
    "\n",
    "    return Dist"
   ]
  },
  {
   "cell_type": "markdown",
   "metadata": {},
   "source": [
    "### 2.2 闵可夫斯基距离\n",
    "$$\n",
    "dist = (\\sum_{k=1}^n|p_k-q_k|^r)^{\\frac{1}{r}}\n",
    "$$\n",
    "\n",
    "> r=1时为Hamming Distance，r=2时为Euclidean Distance"
   ]
  },
  {
   "cell_type": "code",
   "execution_count": 6,
   "metadata": {},
   "outputs": [],
   "source": [
    "# 基于Numpy实现\n",
    "def distMink(vecA, vecB, **kwargs):\n",
    "    \"\"\"\n",
    "    函数说明:利用闵可夫斯基距离来计算每个样本点之间的距离\n",
    "    parameters:\n",
    "        vecA - A样本的特征向量（本数据中指它的二维坐标值）\n",
    "        vecB - B样本的特征向量（本数据中指它的二维坐标值） \n",
    "        r - 参数\n",
    "    return：\n",
    "        Dist - 样本点间的闵可夫斯基距离\n",
    "    \"\"\" \n",
    "    r = kwargs['r']\n",
    "    Dist = np.power(np.sum(np.power(np.abs(np.array(vecA) - np.array(vecB)), r)), 1/r)\n",
    "    return Dist"
   ]
  },
  {
   "cell_type": "markdown",
   "metadata": {},
   "source": [
    "### 2.3 马氏距离\n",
    "\n",
    "$$\n",
    "dist(p,q)=(p-q)^T\\Sigma^{-1}(p-q)\n",
    "$$\n",
    "\n",
    "其中，$\\Sigma$ 是输入数据协方差矩阵，即\n",
    "\n",
    "$$\n",
    "\\Sigma=\\frac{1}{n-1}\\sum_{k=1}^n(x_{k,i}-\\overline{x_i})(x_{k,j}-\\overline{k_j})\n",
    "$$\n",
    "\n",
    "> 要求总样本数大于样本的维数"
   ]
  },
  {
   "cell_type": "code",
   "execution_count": 7,
   "metadata": {},
   "outputs": [],
   "source": [
    "def distMahal(vecA, vecB, **kwargs):\n",
    "    \"\"\"\n",
    "    函数说明:利用闵可夫斯基距离来计算每个样本点之间的距离\n",
    "    parameters:\n",
    "        vecA - A样本的特征向量（注意，只能是列向量）\n",
    "        vecB - B样本的特征向量（注意，只能是列向量） \n",
    "        Mat - 所有输入数据组成的矩阵，m行n列，m代表维度\n",
    "    return：\n",
    "        Dist - 样本点间的闵可夫斯基距离\n",
    "    \"\"\"\n",
    "\n",
    "    p = np.array(vecA)\n",
    "    q = np.array(vecB)\n",
    "\n",
    "    Mat = np.array(kwargs['Mat']) \n",
    "    if np.shape(Mat)[0] > np.shape(Mat)[1]:\n",
    "        Mat = np.array(Mat).T       \n",
    "    \n",
    "    S = np.cov(Mat)\n",
    "    invS = np.linalg.inv(S)\n",
    "    if np.shape(vecA)[0] == 1:\n",
    "        Dist = np.sqrt(np.dot(np.dot((p-q),invS),(p-q).T))\n",
    "    else:\n",
    "        Dist = np.sqrt(np.dot(np.dot((p-q).T,invS),(p-q)))\n",
    "   \n",
    "    return Dist"
   ]
  },
  {
   "cell_type": "code",
   "execution_count": 8,
   "metadata": {},
   "outputs": [],
   "source": [
    "M=np.array([[0.5, 0.5],\n",
    "  [0, 1],\n",
    "  [1.5, 1.5]])"
   ]
  },
  {
   "cell_type": "code",
   "execution_count": 9,
   "metadata": {},
   "outputs": [],
   "source": [
    "M=np.random.rand(3,2)"
   ]
  },
  {
   "cell_type": "code",
   "execution_count": 10,
   "metadata": {},
   "outputs": [
    {
     "data": {
      "text/plain": [
       "1.9999999999999998"
      ]
     },
     "execution_count": 10,
     "metadata": {},
     "output_type": "execute_result"
    }
   ],
   "source": [
    "distMahal(M[1],M[0],Mat=M)"
   ]
  },
  {
   "cell_type": "code",
   "execution_count": 11,
   "metadata": {},
   "outputs": [
    {
     "data": {
      "text/plain": [
       "0.07954682209605357"
      ]
     },
     "execution_count": 11,
     "metadata": {},
     "output_type": "execute_result"
    }
   ],
   "source": [
    "distMink(M[0].reshape(-1,1),M[1].reshape(-1,1),r=2)"
   ]
  },
  {
   "cell_type": "code",
   "execution_count": 12,
   "metadata": {},
   "outputs": [
    {
     "data": {
      "text/plain": [
       "0.7071067811865476"
      ]
     },
     "execution_count": 12,
     "metadata": {},
     "output_type": "execute_result"
    }
   ],
   "source": [
    "distMink([0.5, 0.5],[0, 1],r=2)"
   ]
  },
  {
   "cell_type": "code",
   "execution_count": 13,
   "metadata": {},
   "outputs": [
    {
     "data": {
      "text/plain": [
       "0.07954682209605357"
      ]
     },
     "execution_count": 13,
     "metadata": {},
     "output_type": "execute_result"
    }
   ],
   "source": [
    "distEclud(M[0].reshape(-1,1),M[1].reshape(-1,1))"
   ]
  },
  {
   "cell_type": "code",
   "execution_count": 14,
   "metadata": {},
   "outputs": [
    {
     "data": {
      "text/plain": [
       "0.7071067811865476"
      ]
     },
     "execution_count": 14,
     "metadata": {},
     "output_type": "execute_result"
    }
   ],
   "source": [
    "distEclud([0.5, 0.5],[0, 1])"
   ]
  },
  {
   "cell_type": "markdown",
   "metadata": {},
   "source": [
    "## 3. 簇中心的初始化"
   ]
  },
  {
   "cell_type": "code",
   "execution_count": 15,
   "metadata": {},
   "outputs": [],
   "source": [
    "def randCent(DataMat, k):\n",
    "    \"\"\"\n",
    "    函数说明:从当前样本点中随机选取k个初始簇中心\n",
    "    parameters:\n",
    "         DataMat - 数据集\n",
    "         k - 聚类后簇的数量\n",
    "    return：\n",
    "        centroids - 簇中心列表\n",
    "    \"\"\"    \n",
    "    n = np.shape(DataMat)[1]\n",
    "    centroids = np.mat(np.zeros((k, n)))\n",
    "    for j in range(n):\n",
    "        minJ = min(DataMat[:, j])\n",
    "        rangeJ = float(max(DataMat[:, j]) - minJ)\n",
    "        centroids[:, j] = minJ + rangeJ * np.random.rand(k, 1)\n",
    "        \n",
    "    return centroids   "
   ]
  },
  {
   "cell_type": "markdown",
   "metadata": {},
   "source": [
    "## 4. K-means的中心思想实现---即通过不断更新簇中心，把与各个簇中心距离相近的样本点归为一类"
   ]
  },
  {
   "cell_type": "code",
   "execution_count": 16,
   "metadata": {},
   "outputs": [],
   "source": [
    "def kMeans(dataSet, k, distMeas=distEclud, createCent=randCent, r=None, Mat=None):\n",
    "    \"\"\"\n",
    "    函数说明：K-均值算法\n",
    "    parameters:\n",
    "         dataSet -数据集\n",
    "         k -簇个数\n",
    "         distMeas -距离计算函数\n",
    "         createCent -创建初始质心函数\n",
    "    return：\n",
    "         centroids -质心列表\n",
    "         clusterAssment -簇分配结果矩阵\n",
    "    \"\"\" \n",
    "    m = np.shape(dataSet)[0]\n",
    "    clusterAssement = np.mat(np.zeros((m, 2)))\n",
    "    centroids = createCent(dataSet, k)\n",
    "    clusterChanged = True\n",
    "    while clusterChanged:\n",
    "        clusterChanged = False\n",
    "        for i in range(m):\n",
    "            minDist = np.inf; minIndex = -1;\n",
    "            for j in range(k):\n",
    "                distJI = distMeas(centroids[j, :], dataSet[i, :], Mat=Mat, r=r)\n",
    "                if distJI < minDist:\n",
    "                    minDist = distJI;\n",
    "                    minIndex = j;\n",
    "            \n",
    "            if clusterAssement[i, 0] != minIndex:\n",
    "                clusterChanged = True\n",
    "            clusterAssement[i, :] = minIndex, minDist**2\n",
    "        print(centroids)\n",
    "        for cent in range(k):\n",
    "            ptsInClust = dataSet[np.nonzero(clusterAssement[:, 0].A==cent)[0]]\n",
    "            centroids[cent, :] = np.mean(ptsInClust, axis = 0)\n",
    "        return centroids, clusterAssement"
   ]
  },
  {
   "cell_type": "markdown",
   "metadata": {},
   "source": [
    "## 5. 实验结果的可视化"
   ]
  },
  {
   "cell_type": "code",
   "execution_count": 17,
   "metadata": {},
   "outputs": [],
   "source": [
    "def drawDataSet(dataMat,centList,clusterAssment,k,ax=None):\n",
    "    \"\"\"\n",
    "    函数说明：将聚类结果可视化\n",
    "    parameters：\n",
    "         centList -质心列表\n",
    "         clusterAssment -簇列表\n",
    "         dataMat -数据集\n",
    "         k -簇个数\n",
    "    return:\n",
    "         A picture\n",
    "    \"\"\"\n",
    "    import seaborn as sns\n",
    "    #fig = plt.figure(figsize=[6, 6])\n",
    "    #ax=fig.add_subplot(111)\n",
    "    if not ax: ax = plt.gca()\n",
    "    sns.scatterplot(x=0, y=1, data = pd.DataFrame(centList), ax = ax, label='Cent', marker='^')\n",
    "    sns.scatterplot(x=0, y=1, data = pd.DataFrame(dataMat), hue= np.array(clusterAssment)[:,0], ax= ax)\n",
    "    "
   ]
  },
  {
   "cell_type": "markdown",
   "metadata": {},
   "source": [
    "## 6. 主函数调用上述函数"
   ]
  },
  {
   "cell_type": "code",
   "execution_count": 18,
   "metadata": {},
   "outputs": [
    {
     "name": "stdout",
     "output_type": "stream",
     "text": [
      "[[ 0.75111453  2.32564969]\n",
      " [ 2.35720985 -3.68276229]\n",
      " [ 2.54386524 -1.31910668]\n",
      " [ 2.26056592 -0.33445097]]\n",
      "[[-1.99616793  2.98419725]\n",
      " [-1.85209319 -1.32543237]\n",
      " [ 3.97626469  2.01891161]\n",
      " [-4.12128075  4.62308964]]\n",
      "[[-3.44135377  1.2581272 ]\n",
      " [-3.55627502  4.0738678 ]\n",
      " [-5.13675635 -0.53924713]\n",
      " [-4.45101128  0.97026131]]\n",
      "[[ 0.22581642  1.97504114]\n",
      " [-0.4927001   0.32029387]\n",
      " [ 0.7279335   3.9460054 ]\n",
      " [ 4.69590512 -3.07705362]]\n"
     ]
    },
    {
     "data": {
      "image/png": "[encoded data removed]",
      "text/plain": [
       "<Figure size 864x864 with 4 Axes>"
      ]
     },
     "metadata": {
      "needs_background": "light"
     },
     "output_type": "display_data"
    }
   ],
   "source": [
    "if __name__ =='__main__':\n",
    "    \"\"\"\n",
    "    按照Kmeans原理来调用上述函数\n",
    "    \"\"\"\n",
    "    fileName = './work/KmeansData.txt'\n",
    "    dataMat = loadDataSet(fileName)\n",
    "    k = 4\n",
    "    \n",
    "    fig = plt.figure(figsize=[12,12])\n",
    "    ax1 = fig.add_subplot(221)\n",
    "    centList,clusterAssment = kMeans(dataMat, k, distMeas=distMink, r=2, createCent=randCent)\n",
    "    drawDataSet(dataMat, centList,clusterAssment, k, ax=ax1)\n",
    "    ax1.set(title='Mink, r=2')\n",
    "    ax2 = fig.add_subplot(222)\n",
    "    centList,clusterAssment = kMeans(dataMat, k, distMeas=distEclud,createCent=randCent)\n",
    "    drawDataSet(dataMat, centList,clusterAssment, k, ax=ax2)\n",
    "    ax2.set(title='Eclud')\n",
    "    ax3 = fig.add_subplot(223)\n",
    "    centList,clusterAssment = kMeans(dataMat, k, distMeas=distMink, r=3, createCent=randCent)\n",
    "    drawDataSet(dataMat, centList,clusterAssment, k, ax=ax3)\n",
    "    ax3.set(title='Mink, r=3')\n",
    "    ax4 = fig.add_subplot(224)\n",
    "    centList,clusterAssment = kMeans(dataMat, k, distMeas=distMahal, Mat=np.array(dataMat).T, createCent=randCent)\n",
    "    drawDataSet(dataMat, centList,clusterAssment, k, ax=ax4)\n",
    "    ax4.set(title='Mahal')"
   ]
  },
  {
   "cell_type": "markdown",
   "metadata": {},
   "source": [
    "## 7. 基于sklearn验证"
   ]
  },
  {
   "cell_type": "code",
   "execution_count": 21,
   "metadata": {},
   "outputs": [],
   "source": [
    "from sklearn.cluster import KMeans"
   ]
  },
  {
   "cell_type": "code",
   "execution_count": 30,
   "metadata": {},
   "outputs": [
    {
     "data": {
      "text/html": [
       "<style>#sk-container-id-1 {color: black;background-color: white;}#sk-container-id-1 pre{padding: 0;}#sk-container-id-1 div.sk-toggleable {background-color: white;}#sk-container-id-1 label.sk-toggleable__label {cursor: pointer;display: block;width: 100%;margin-bottom: 0;padding: 0.3em;box-sizing: border-box;text-align: center;}#sk-container-id-1 label.sk-toggleable__label-arrow:before {content: \"▸\";float: left;margin-right: 0.25em;color: #696969;}#sk-container-id-1 label.sk-toggleable__label-arrow:hover:before {color: black;}#sk-container-id-1 div.sk-estimator:hover label.sk-toggleable__label-arrow:before {color: black;}#sk-container-id-1 div.sk-toggleable__content {max-height: 0;max-width: 0;overflow: hidden;text-align: left;background-color: #f0f8ff;}#sk-container-id-1 div.sk-toggleable__content pre {margin: 0.2em;color: black;border-radius: 0.25em;background-color: #f0f8ff;}#sk-container-id-1 input.sk-toggleable__control:checked~div.sk-toggleable__content {max-height: 200px;max-width: 100%;overflow: auto;}#sk-container-id-1 input.sk-toggleable__control:checked~label.sk-toggleable__label-arrow:before {content: \"▾\";}#sk-container-id-1 div.sk-estimator input.sk-toggleable__control:checked~label.sk-toggleable__label {background-color: #d4ebff;}#sk-container-id-1 div.sk-label input.sk-toggleable__control:checked~label.sk-toggleable__label {background-color: #d4ebff;}#sk-container-id-1 input.sk-hidden--visually {border: 0;clip: rect(1px 1px 1px 1px);clip: rect(1px, 1px, 1px, 1px);height: 1px;margin: -1px;overflow: hidden;padding: 0;position: absolute;width: 1px;}#sk-container-id-1 div.sk-estimator {font-family: monospace;background-color: #f0f8ff;border: 1px dotted black;border-radius: 0.25em;box-sizing: border-box;margin-bottom: 0.5em;}#sk-container-id-1 div.sk-estimator:hover {background-color: #d4ebff;}#sk-container-id-1 div.sk-parallel-item::after {content: \"\";width: 100%;border-bottom: 1px solid gray;flex-grow: 1;}#sk-container-id-1 div.sk-label:hover label.sk-toggleable__label {background-color: #d4ebff;}#sk-container-id-1 div.sk-serial::before {content: \"\";position: absolute;border-left: 1px solid gray;box-sizing: border-box;top: 0;bottom: 0;left: 50%;z-index: 0;}#sk-container-id-1 div.sk-serial {display: flex;flex-direction: column;align-items: center;background-color: white;padding-right: 0.2em;padding-left: 0.2em;position: relative;}#sk-container-id-1 div.sk-item {position: relative;z-index: 1;}#sk-container-id-1 div.sk-parallel {display: flex;align-items: stretch;justify-content: center;background-color: white;position: relative;}#sk-container-id-1 div.sk-item::before, #sk-container-id-1 div.sk-parallel-item::before {content: \"\";position: absolute;border-left: 1px solid gray;box-sizing: border-box;top: 0;bottom: 0;left: 50%;z-index: -1;}#sk-container-id-1 div.sk-parallel-item {display: flex;flex-direction: column;z-index: 1;position: relative;background-color: white;}#sk-container-id-1 div.sk-parallel-item:first-child::after {align-self: flex-end;width: 50%;}#sk-container-id-1 div.sk-parallel-item:last-child::after {align-self: flex-start;width: 50%;}#sk-container-id-1 div.sk-parallel-item:only-child::after {width: 0;}#sk-container-id-1 div.sk-dashed-wrapped {border: 1px dashed gray;margin: 0 0.4em 0.5em 0.4em;box-sizing: border-box;padding-bottom: 0.4em;background-color: white;}#sk-container-id-1 div.sk-label label {font-family: monospace;font-weight: bold;display: inline-block;line-height: 1.2em;}#sk-container-id-1 div.sk-label-container {text-align: center;}#sk-container-id-1 div.sk-container {/* jupyter's `normalize.less` sets `[hidden] { display: none; }` but bootstrap.min.css set `[hidden] { display: none !important; }` so we also need the `!important` here to be able to override the default hidden behavior on the sphinx rendered scikit-learn.org. See: https://github.com/scikit-learn/scikit-learn/issues/21755 */display: inline-block !important;position: relative;}#sk-container-id-1 div.sk-text-repr-fallback {display: none;}</style><div id=\"sk-container-id-1\" class=\"sk-top-container\"><div class=\"sk-text-repr-fallback\"><pre>KMeans(n_clusters=4)</pre><b>In a Jupyter environment, please rerun this cell to show the HTML representation or trust the notebook. <br />On GitHub, the HTML representation is unable to render, please try loading this page with nbviewer.org.</b></div><div class=\"sk-container\" hidden><div class=\"sk-item\"><div class=\"sk-estimator sk-toggleable\"><input class=\"sk-toggleable__control sk-hidden--visually\" id=\"sk-estimator-id-1\" type=\"checkbox\" checked><label for=\"sk-estimator-id-1\" class=\"sk-toggleable__label sk-toggleable__label-arrow\">KMeans</label><div class=\"sk-toggleable__content\"><pre>KMeans(n_clusters=4)</pre></div></div></div></div></div>"
      ],
      "text/plain": [
       "KMeans(n_clusters=4)"
      ]
     },
     "execution_count": 30,
     "metadata": {},
     "output_type": "execute_result"
    }
   ],
   "source": [
    "kmeans = KMeans(n_clusters=k)\n",
    "kmeans.fit(dataMat)"
   ]
  },
  {
   "cell_type": "code",
   "execution_count": 36,
   "metadata": {},
   "outputs": [
    {
     "data": {
      "text/plain": [
       "array([3, 1, 0, 2, 3, 1, 0, 2, 3, 1, 0, 2, 3, 1, 0, 2, 3, 1, 0, 2, 3, 1,\n",
       "       0, 2, 3, 1, 0, 2, 3, 1, 0, 2, 3, 1, 0, 2, 3, 1, 0, 2, 3, 1, 0, 2,\n",
       "       3, 1, 0, 2, 3, 1, 0, 2, 3, 1, 0, 2, 3, 1, 0, 2, 3, 1, 0, 2, 3, 1,\n",
       "       0, 2, 3, 1, 0, 2, 3, 1, 0, 2, 3, 1, 0, 2])"
      ]
     },
     "execution_count": 36,
     "metadata": {},
     "output_type": "execute_result"
    }
   ],
   "source": [
    "kmeans.fit_predict(dataMat)"
   ]
  },
  {
   "cell_type": "code",
   "execution_count": 37,
   "metadata": {},
   "outputs": [],
   "source": [
    "import seaborn as sns"
   ]
  },
  {
   "cell_type": "code",
   "execution_count": 39,
   "metadata": {},
   "outputs": [
    {
     "data": {
      "text/plain": [
       "<AxesSubplot:>"
      ]
     },
     "execution_count": 39,
     "metadata": {},
     "output_type": "execute_result"
    },
    {
     "data": {
      "image/png": "[encoded data removed]",
      "text/plain": [
       "<Figure size 432x288 with 1 Axes>"
      ]
     },
     "metadata": {
      "needs_background": "light"
     },
     "output_type": "display_data"
    }
   ],
   "source": [
    "sns.scatterplot(dataMat[:,0],dataMat[:,1],hue=kmeans.fit_predict(dataMat))"
   ]
  },
  {
   "cell_type": "code",
   "execution_count": null,
   "metadata": {},
   "outputs": [],
   "source": []
  }
 ],
 "metadata": {
  "kernelspec": {
   "display_name": "Python 3 (ipykernel)",
   "language": "python",
   "name": "python3"
  },
  "language_info": {
   "codemirror_mode": {
    "name": "ipython",
    "version": 3
   },
   "file_extension": ".py",
   "mimetype": "text/x-python",
   "name": "python",
   "nbconvert_exporter": "python",
   "pygments_lexer": "ipython3",
   "version": "3.8.4"
  }
 },
 "nbformat": 4,
 "nbformat_minor": 1
}
