{
 "cells": [
  {
   "cell_type": "markdown",
   "metadata": {},
   "source": [
    "## 实验介绍"
   ]
  },
  {
   "cell_type": "markdown",
   "metadata": {},
   "source": [
    "### 1.实验内容"
   ]
  },
  {
   "cell_type": "markdown",
   "metadata": {},
   "source": [
    "本实验介绍线性回归算法,并通过小实验简单认识一下线性回归算法 。\n",
    "\n",
    "实验1：用线性回归找到最佳拟合直线\n",
    "\n",
    "实验2：局部加权线性回归找到最佳拟合直线\n",
    "\n",
    "实验3：使用scikit-learn实现线性回归算法"
   ]
  },
  {
   "cell_type": "markdown",
   "metadata": {},
   "source": [
    "### 2.实验目标"
   ]
  },
  {
   "cell_type": "markdown",
   "metadata": {},
   "source": [
    "通过本实验掌握线性回归算法找到最佳拟合直线的方法。"
   ]
  },
  {
   "cell_type": "markdown",
   "metadata": {},
   "source": [
    "### 3.实验知识点"
   ]
  },
  {
   "cell_type": "markdown",
   "metadata": {},
   "source": [
    "* 线性回归"
   ]
  },
  {
   "cell_type": "markdown",
   "metadata": {},
   "source": [
    "### 4.实验环境"
   ]
  },
  {
   "cell_type": "markdown",
   "metadata": {},
   "source": [
    "* python 3.6.5  "
   ]
  },
  {
   "cell_type": "markdown",
   "metadata": {},
   "source": [
    "### 5.预备知识"
   ]
  },
  {
   "cell_type": "markdown",
   "metadata": {},
   "source": [
    "* 概率论与数理统计\n",
    "* Linux命令基本操作\n",
    "* Python编程基础"
   ]
  },
  {
   "cell_type": "markdown",
   "metadata": {},
   "source": [
    "## 准备工作"
   ]
  },
  {
   "cell_type": "markdown",
   "metadata": {},
   "source": [
    "点击屏幕右上方的下载实验数据模块，选择下载multiple_linear_regression.tgz到指定目录下，然后再依次选择点击上方的File->Open->Upload,上传刚才下载的数据集压缩包，再使用如下命令解压："
   ]
  },
  {
   "cell_type": "code",
   "execution_count": 1,
   "metadata": {},
   "outputs": [],
   "source": [
    "# !tar -zxvf ./work/multiple_linear_regression.tgz -C ./work/"
   ]
  },
  {
   "cell_type": "markdown",
   "metadata": {},
   "source": [
    "## 【实验】用线性回归找到最佳拟合直线 \n",
    "\n",
    "接下来，我们使用普通最小二乘法线性回归来依据给定数据找到最佳拟合直线。\n",
    "### 1.数据样例\n",
    "数据样例为数据集目录下的ex0.txt文件，我们先来看下我们的数据及其分布："
   ]
  },
  {
   "cell_type": "code",
   "execution_count": 2,
   "metadata": {},
   "outputs": [
    {
     "name": "stdout",
     "output_type": "stream",
     "text": [
      "1.000000\t0.067732\t3.176513\n",
      "1.000000\t0.427810\t3.816464\n",
      "1.000000\t0.995731\t4.550095\n",
      "1.000000\t0.738336\t4.256571\n",
      "1.000000\t0.981083\t4.560815\n",
      "1.000000\t0.526171\t3.929515\n",
      "1.000000\t0.378887\t3.526170\n",
      "1.000000\t0.033859\t3.156393\n",
      "1.000000\t0.132791\t3.110301\n",
      "1.000000\t0.138306\t3.149813\n",
      "1.000000\t0.247809\t3.476346\n",
      "1.000000\t0.648270\t4.119688\n",
      "1.000000\t0.731209\t4.282233\n",
      "1.000000\t0.236833\t3.486582\n",
      "1.000000\t0.969788\t4.655492\n",
      "1.000000\t0.607492\t3.965162\n",
      "1.000000\t0.358622\t3.514900\n",
      "1.000000\t0.147846\t3.125947\n",
      "1.000000\t0.637820\t4.094115\n",
      "1.000000\t0.230372\t3.476039\n",
      "1.000000\t0.070237\t3.210610\n",
      "1.000000\t0.067154\t3.190612\n",
      "1.000000\t0.925577\t4.631504\n",
      "1.000000\t0.717733\t4.295890\n",
      "1.000000\t0.015371\t3.085028\n",
      "1.000000\t0.335070\t3.448080\n",
      "1.000000\t0.040486\t3.167440\n",
      "1.000000\t0.212575\t3.364266\n",
      "1.000000\t0.617218\t3.993482\n",
      "1.000000\t0.541196\t3.891471\n",
      "1.000000\t0.045353\t3.143259\n",
      "1.000000\t0.126762\t3.114204\n",
      "1.000000\t0.556486\t3.851484\n",
      "1.000000\t0.901144\t4.621899\n",
      "1.000000\t0.958476\t4.580768\n",
      "1.000000\t0.274561\t3.620992\n",
      "1.000000\t0.394396\t3.580501\n",
      "1.000000\t0.872480\t4.618706\n",
      "1.000000\t0.409932\t3.676867\n",
      "1.000000\t0.908969\t4.641845\n",
      "1.000000\t0.166819\t3.175939\n",
      "1.000000\t0.665016\t4.264980\n",
      "1.000000\t0.263727\t3.558448\n",
      "1.000000\t0.231214\t3.436632\n",
      "1.000000\t0.552928\t3.831052\n",
      "1.000000\t0.047744\t3.182853\n",
      "1.000000\t0.365746\t3.498906\n",
      "1.000000\t0.495002\t3.946833\n",
      "1.000000\t0.493466\t3.900583\n",
      "1.000000\t0.792101\t4.238522\n",
      "1.000000\t0.769660\t4.233080\n",
      "1.000000\t0.251821\t3.521557\n",
      "1.000000\t0.181951\t3.203344\n",
      "1.000000\t0.808177\t4.278105\n",
      "1.000000\t0.334116\t3.555705\n",
      "1.000000\t0.338630\t3.502661\n",
      "1.000000\t0.452584\t3.859776\n",
      "1.000000\t0.694770\t4.275956\n",
      "1.000000\t0.590902\t3.916191\n",
      "1.000000\t0.307928\t3.587961\n",
      "1.000000\t0.148364\t3.183004\n",
      "1.000000\t0.702180\t4.225236\n",
      "1.000000\t0.721544\t4.231083\n",
      "1.000000\t0.666886\t4.240544\n",
      "1.000000\t0.124931\t3.222372\n",
      "1.000000\t0.618286\t4.021445\n",
      "1.000000\t0.381086\t3.567479\n",
      "1.000000\t0.385643\t3.562580\n",
      "1.000000\t0.777175\t4.262059\n",
      "1.000000\t0.116089\t3.208813\n",
      "1.000000\t0.115487\t3.169825\n",
      "1.000000\t0.663510\t4.193949\n",
      "1.000000\t0.254884\t3.491678\n",
      "1.000000\t0.993888\t4.533306\n",
      "1.000000\t0.295434\t3.550108\n",
      "1.000000\t0.952523\t4.636427\n",
      "1.000000\t0.307047\t3.557078\n",
      "1.000000\t0.277261\t3.552874\n",
      "1.000000\t0.279101\t3.494159\n",
      "1.000000\t0.175724\t3.206828\n",
      "1.000000\t0.156383\t3.195266\n",
      "1.000000\t0.733165\t4.221292\n",
      "1.000000\t0.848142\t4.413372\n",
      "1.000000\t0.771184\t4.184347\n",
      "1.000000\t0.429492\t3.742878\n",
      "1.000000\t0.162176\t3.201878\n",
      "1.000000\t0.917064\t4.648964\n",
      "1.000000\t0.315044\t3.510117\n",
      "1.000000\t0.201473\t3.274434\n",
      "1.000000\t0.297038\t3.579622\n",
      "1.000000\t0.336647\t3.489244\n",
      "1.000000\t0.666109\t4.237386\n",
      "1.000000\t0.583888\t3.913749\n",
      "1.000000\t0.085031\t3.228990\n",
      "1.000000\t0.687006\t4.286286\n",
      "1.000000\t0.949655\t4.628614\n",
      "1.000000\t0.189912\t3.239536\n",
      "1.000000\t0.844027\t4.457997\n",
      "1.000000\t0.333288\t3.513384\n",
      "1.000000\t0.427035\t3.729674\n",
      "1.000000\t0.466369\t3.834274\n",
      "1.000000\t0.550659\t3.811155\n",
      "1.000000\t0.278213\t3.598316\n",
      "1.000000\t0.918769\t4.692514\n",
      "1.000000\t0.886555\t4.604859\n",
      "1.000000\t0.569488\t3.864912\n",
      "1.000000\t0.066379\t3.184236\n",
      "1.000000\t0.335751\t3.500796\n",
      "1.000000\t0.426863\t3.743365\n",
      "1.000000\t0.395746\t3.622905\n",
      "1.000000\t0.694221\t4.310796\n",
      "1.000000\t0.272760\t3.583357\n",
      "1.000000\t0.503495\t3.901852\n",
      "1.000000\t0.067119\t3.233521\n",
      "1.000000\t0.038326\t3.105266\n",
      "1.000000\t0.599122\t3.865544\n",
      "1.000000\t0.947054\t4.628625\n",
      "1.000000\t0.671279\t4.231213\n",
      "1.000000\t0.434811\t3.791149\n",
      "1.000000\t0.509381\t3.968271\n",
      "1.000000\t0.749442\t4.253910\n",
      "1.000000\t0.058014\t3.194710\n",
      "1.000000\t0.482978\t3.996503\n",
      "1.000000\t0.466776\t3.904358\n",
      "1.000000\t0.357767\t3.503976\n",
      "1.000000\t0.949123\t4.557545\n",
      "1.000000\t0.417320\t3.699876\n",
      "1.000000\t0.920461\t4.613614\n",
      "1.000000\t0.156433\t3.140401\n",
      "1.000000\t0.656662\t4.206717\n",
      "1.000000\t0.616418\t3.969524\n",
      "1.000000\t0.853428\t4.476096\n",
      "1.000000\t0.133295\t3.136528\n",
      "1.000000\t0.693007\t4.279071\n",
      "1.000000\t0.178449\t3.200603\n",
      "1.000000\t0.199526\t3.299012\n",
      "1.000000\t0.073224\t3.209873\n",
      "1.000000\t0.286515\t3.632942\n",
      "1.000000\t0.182026\t3.248361\n",
      "1.000000\t0.621523\t3.995783\n",
      "1.000000\t0.344584\t3.563262\n",
      "1.000000\t0.398556\t3.649712\n",
      "1.000000\t0.480369\t3.951845\n",
      "1.000000\t0.153350\t3.145031\n",
      "1.000000\t0.171846\t3.181577\n",
      "1.000000\t0.867082\t4.637087\n",
      "1.000000\t0.223855\t3.404964\n",
      "1.000000\t0.528301\t3.873188\n",
      "1.000000\t0.890192\t4.633648\n",
      "1.000000\t0.106352\t3.154768\n",
      "1.000000\t0.917886\t4.623637\n",
      "1.000000\t0.014855\t3.078132\n",
      "1.000000\t0.567682\t3.913596\n",
      "1.000000\t0.068854\t3.221817\n",
      "1.000000\t0.603535\t3.938071\n",
      "1.000000\t0.532050\t3.880822\n",
      "1.000000\t0.651362\t4.176436\n",
      "1.000000\t0.901225\t4.648161\n",
      "1.000000\t0.204337\t3.332312\n",
      "1.000000\t0.696081\t4.240614\n",
      "1.000000\t0.963924\t4.532224\n",
      "1.000000\t0.981390\t4.557105\n",
      "1.000000\t0.987911\t4.610072\n",
      "1.000000\t0.990947\t4.636569\n",
      "1.000000\t0.736021\t4.229813\n",
      "1.000000\t0.253574\t3.500860\n",
      "1.000000\t0.674722\t4.245514\n",
      "1.000000\t0.939368\t4.605182\n",
      "1.000000\t0.235419\t3.454340\n",
      "1.000000\t0.110521\t3.180775\n",
      "1.000000\t0.218023\t3.380820\n",
      "1.000000\t0.869778\t4.565020\n",
      "1.000000\t0.196830\t3.279973\n",
      "1.000000\t0.958178\t4.554241\n",
      "1.000000\t0.972673\t4.633520\n",
      "1.000000\t0.745797\t4.281037\n",
      "1.000000\t0.445674\t3.844426\n",
      "1.000000\t0.470557\t3.891601\n",
      "1.000000\t0.549236\t3.849728\n",
      "1.000000\t0.335691\t3.492215\n",
      "1.000000\t0.884739\t4.592374\n",
      "1.000000\t0.918916\t4.632025\n",
      "1.000000\t0.441815\t3.756750\n",
      "1.000000\t0.116598\t3.133555\n",
      "1.000000\t0.359274\t3.567919\n",
      "1.000000\t0.814811\t4.363382\n",
      "1.000000\t0.387125\t3.560165\n",
      "1.000000\t0.982243\t4.564305\n",
      "1.000000\t0.780880\t4.215055\n",
      "1.000000\t0.652565\t4.174999\n",
      "1.000000\t0.870030\t4.586640\n",
      "1.000000\t0.604755\t3.960008\n",
      "1.000000\t0.255212\t3.529963\n",
      "1.000000\t0.730546\t4.213412\n",
      "1.000000\t0.493829\t3.908685\n",
      "1.000000\t0.257017\t3.585821\n",
      "1.000000\t0.833735\t4.374394\n",
      "1.000000\t0.070095\t3.213817\n",
      "1.000000\t0.527070\t3.952681\n",
      "1.000000\t0.116163\t3.129283\n"
     ]
    }
   ],
   "source": [
    "!cat ./work/multiple_linear_regression/ex0.txt"
   ]
  },
  {
   "cell_type": "markdown",
   "metadata": {},
   "source": [
    "其中第一个值总是等于1.0，即x0。我们假定偏移量就是一个常数，第二个值X1，也就是横坐标值，最后一列为Y值，即目标值。"
   ]
  },
  {
   "cell_type": "markdown",
   "metadata": {},
   "source": [
    "### 2.数据加载及可视化"
   ]
  },
  {
   "cell_type": "code",
   "execution_count": 3,
   "metadata": {},
   "outputs": [
    {
     "data": {
      "image/png": "[encoded data removed]",
      "text/plain": [
       "<Figure size 432x288 with 1 Axes>"
      ]
     },
     "metadata": {
      "needs_background": "light"
     },
     "output_type": "display_data"
    }
   ],
   "source": [
    "import matplotlib.pyplot as plt\n",
    "import numpy as np\n",
    "import pandas as pd\n",
    "\n",
    "def loadDataSet(fileName):\n",
    "\n",
    "    \"\"\"\n",
    "    函数说明:加载数据\n",
    "    Parameters:\n",
    "        fileName - 文件名\n",
    "    Returns:\n",
    "        xArr - x数据集\n",
    "        yArr - y数据集\n",
    "    \"\"\"\n",
    "    numFeat = len(open(fileName).readline().split('\\t')) - 1\n",
    "    dataMat = []; labelMat = []\n",
    "    fr = open(fileName)\n",
    "    for line in fr.readlines():\n",
    "        lineArr = []\n",
    "        curLine = line.strip().split('\\t')\n",
    "        for i in range(numFeat):\n",
    "            lineArr.append(float(curLine[i]))\n",
    "        dataMat.append(lineArr)\n",
    "        labelMat.append(float(curLine[-1]))\n",
    "    return dataMat, labelMat\n",
    "\n",
    "def plotDataSet():\n",
    "    \"\"\"\n",
    "    函数说明:绘制数据集\n",
    "    Parameters:\n",
    "        无\n",
    "    Returns:\n",
    "        无\n",
    "    \"\"\"\n",
    "    fileName = './work/multiple_linear_regression/ex0.txt'\n",
    "    xArr, yArr = loadDataSet(fileName)\n",
    "    xArr = np.mat(xArr); yArr = np.mat(yArr)\n",
    "    plt.scatter(xArr[:, 1].flatten().A[0], yArr.T[:, 0].flatten().A[0], alpha=0.6, c='green')\n",
    "\n",
    "if __name__ == '__main__':\n",
    "    plotDataSet()"
   ]
  },
  {
   "cell_type": "markdown",
   "metadata": {},
   "source": [
    "### 3.代码实现"
   ]
  },
  {
   "cell_type": "code",
   "execution_count": 4,
   "metadata": {},
   "outputs": [],
   "source": [
    "from numpy import *\n",
    "import matplotlib.pyplot as plt"
   ]
  },
  {
   "cell_type": "code",
   "execution_count": 5,
   "metadata": {},
   "outputs": [
    {
     "data": {
      "image/png": "[encoded data removed]",
      "text/plain": [
       "<Figure size 432x288 with 1 Axes>"
      ]
     },
     "metadata": {
      "needs_background": "light"
     },
     "output_type": "display_data"
    }
   ],
   "source": [
    "def standRegres(xArr,yArr):\n",
    "    \"\"\"\n",
    "    计算最佳拟合直线\n",
    "    parameters:\n",
    "        xArr -给定的输入值\n",
    "        yArr -给定的输出值\n",
    "    return:\n",
    "        ws -回归系数\n",
    "    \"\"\"\n",
    "    xMat = mat(xArr); yMat = mat(yArr).T\n",
    "    xTx = xMat.T * xMat\n",
    "    if linalg.det(xTx) == 0.0:\n",
    "        print('This matrix is singular, cannot do inverse')\n",
    "        return\n",
    "    ws = xTx.I * (xMat.T * yMat)\n",
    "    \n",
    "    return ws\n",
    "    \n",
    "\n",
    "def showLinerRegre():\n",
    "    \"\"\"\n",
    "    绘制最佳拟合直线\n",
    "    parameters:\n",
    "        null\n",
    "    return:\n",
    "        null\n",
    "    \"\"\"\n",
    "    xArr ,yArr = loadDataSet('./work/multiple_linear_regression/ex0.txt') #加载数据集\n",
    "    ws = standRegres(xArr,yArr)         #得到回归系数\n",
    "    xMat = mat(xArr); yMat = mat(yArr)\n",
    "    # yHat = xMat * ws\n",
    "    fig = plt.figure()\n",
    "    ax = fig.add_subplot(111)\n",
    "    ax.scatter(xMat[:, 1].flatten().A[0], yMat.T[:, 0].flatten().A[0], s=20, alpha=0.6, c='green')\n",
    "    xCopy = xMat.copy()\n",
    "    xCopy.sort(0)\n",
    "    yHat = xCopy * ws\n",
    "    ax.plot(xCopy[:, 1], yHat)\n",
    "    plt.show()\n",
    "    \n",
    "if __name__ =='__main__':\n",
    "    showLinerRegre()"
   ]
  },
  {
   "cell_type": "markdown",
   "metadata": {},
   "source": [
    "几乎任一数据集都可以用上述方法建立模型，那么，如何判断这些模型的好坏呢？\n",
    "\n",
    "显然我们看到有些数据是没有正确的拟合的，这被称为欠拟合。最佳拟合直线将数据视为直线进行建模，具有十分不错的表现。\n",
    "\n",
    "但图中的数据似乎还存在其他的潜在模式，下一节我们介绍如何根据数据来局部调整预测。"
   ]
  },
  {
   "cell_type": "markdown",
   "metadata": {},
   "source": [
    "## 【实验】局部加权线性回归找到最佳拟合直线 \n",
    "### 1.局部线性回归\n",
    "线性回归的一个问题是有可能出现欠拟合现象，因为它求的是具有小均方误差的无偏估 计。显而易见，如果模型欠拟合将不能取得好的预测效果。所以有些方法允许在估计中引入一 些偏差，从而降低预测的均方误差。\n",
    "\n",
    "其中的一个方法是局部加权线性回归（Locally Weighted Linear Regression，LWLR）。在该方法中，我们给待预测点附近的每个点赋予一定的权重。与kNN一样，这种算法每次预测均需要事先选取出对应的数据子集。该算法解除回归系数W的形式如下：\n",
    "$$\n",
    "\\hat{w}=(X^TWX)^{-1}X^TWy\n",
    "$$\n",
    "其中W是一个矩阵，这个公式跟我们上面推导的公式的区别就在于W，它用来给每个点赋予权重。\n",
    "\n",
    "LWLR使用\"核\"（与支持向量机中的核类似）来对附近的点赋予更高的权重。核的类型可以自由选择，最常用的核就是高斯核，高斯核对应的权重如下：\n",
    "$$\n",
    "w(i, i)=\\exp{(\\frac{|x^{(i)}-x|}{-2k^2})}\n",
    "$$\n",
    "这样我们就可以根据上述公式，编写局部加权线性回归，我们通过改变k的值，可以调节回归效果\n",
    "### 2.代码实现\n",
    "\n",
    "在当前工作目录下新建文件partialLinerRegre.py，添加如下代码："
   ]
  },
  {
   "cell_type": "code",
   "execution_count": 6,
   "metadata": {},
   "outputs": [
    {
     "data": {
      "image/png": "[encoded data removed]",
      "text/plain": [
       "<Figure size 720x576 with 3 Axes>"
      ]
     },
     "metadata": {
      "needs_background": "light"
     },
     "output_type": "display_data"
    }
   ],
   "source": [
    "\n",
    "def lwlr(testPoint, xArr, yArr, k=1.0):\n",
    "    \"\"\"\n",
    "    计算回归系数\n",
    "    parameters:\n",
    "        testPoint -待预测数据\n",
    "        xArr -给定输入值\n",
    "        yArr -给定输出值\n",
    "        k -高斯核的k值，决定对附近的点赋予多大的权重\n",
    "    return:\n",
    "        testPoint * ws -回归系数的估计值\n",
    "    \"\"\"\n",
    "    xMat = mat(xArr); yMat = mat(yArr).T\n",
    "    m = shape(xMat)[0]\n",
    "    weights = mat(eye((m)))\n",
    "    for j in range(m):\n",
    "        diffMat = testPoint - xMat[j, :]\n",
    "        weights[j, j] = exp(diffMat*diffMat.T/(-2.0*k**2))\n",
    "    xTx = xMat.T*(weights*xMat)\n",
    "    if linalg.det(xTx) == 0.0:\n",
    "        print('This matrix is singular, cannot do inverse')\n",
    "        return\n",
    "    ws = xTx.I * (xMat.T * (weights * yMat)) \n",
    "    return testPoint*ws\n",
    "\n",
    "\n",
    "def lwlrTest(testArr, xArr, yArr,k=1.0):\n",
    "    \"\"\"\n",
    "    测试函数\n",
    "    parameters:\n",
    "        testArr -测试数据集\n",
    "        xArr -给定输入值\n",
    "        yArr -给定输出值\n",
    "        k -高斯核的k值\n",
    "    return:\n",
    "        yHat -预测值\n",
    "    \"\"\"\n",
    "    m = shape(testArr)[0]\n",
    "    yHat = zeros(m)\n",
    "    for i in range(m):\n",
    "        yHat[i] = lwlr(testArr[i], xArr, yArr, k)\n",
    "    return yHat\n",
    "\n",
    "\n",
    "def plotlwlrRegression():\n",
    "    \"\"\"\n",
    "    绘制多条局部加权回归曲线\n",
    "    parameters:\n",
    "            无\n",
    "    returns:\n",
    "            无\n",
    "     \"\"\"\n",
    "    xArr, yArr = loadDataSet('./work/multiple_linear_regression/ex0.txt')                                    #加载数据集\n",
    "    yHat_1 = lwlrTest(xArr, xArr, yArr, 1.0)                            #根据局部加权线性回归计算yHat\n",
    "    yHat_2 = lwlrTest(xArr, xArr, yArr, 0.01)                            #根据局部加权线性回归计算yHat\n",
    "    yHat_3 = lwlrTest(xArr, xArr, yArr, 0.003)                            #根据局部加权线性回归计算yHat\n",
    "    xMat = mat(xArr)                                                    #创建xMat矩阵\n",
    "    yMat = mat(yArr)                                                    #创建yMat矩阵\n",
    "    srtInd = xMat[:, 1].argsort(0)                                        #排序，返回索引值\n",
    "    xSort = xMat[srtInd][:,0,:]\n",
    "    fig, axs = plt.subplots(nrows=3, ncols=1,sharex=False, sharey=False, figsize=(10,8))                                        \n",
    "    axs[0].plot(xSort[:, 1], yHat_1[srtInd], c = 'red')                        #绘制回归曲线\n",
    "    axs[1].plot(xSort[:, 1], yHat_2[srtInd], c = 'red')                        #绘制回归曲线\n",
    "    axs[2].plot(xSort[:, 1], yHat_3[srtInd], c = 'red')                        #绘制回归曲线\n",
    "    axs[0].scatter(xMat[:,1].flatten().A[0], yMat.flatten().A[0], s = 20, c = 'green', alpha = .5)                #绘制样本点\n",
    "    axs[1].scatter(xMat[:,1].flatten().A[0], yMat.flatten().A[0], s = 20, c = 'green', alpha = .5)                #绘制样本点\n",
    "    axs[2].scatter(xMat[:,1].flatten().A[0], yMat.flatten().A[0], s = 20, c = 'green', alpha = .5)                #绘制样本点\n",
    "    #设置标题,x轴label,y轴label\n",
    "    axs0_title_text = axs[0].set_title(u'lwlr,k=1.0')\n",
    "    axs1_title_text = axs[1].set_title(u'lwlr,k=0.01')\n",
    "    axs2_title_text = axs[2].set_title(u'lwlr,k=0.003')\n",
    "    plt.setp(axs0_title_text, size=8, weight='bold', color='red')  \n",
    "    plt.setp(axs1_title_text, size=8, weight='bold', color='red')  \n",
    "    plt.setp(axs2_title_text, size=8, weight='bold', color='red')  \n",
    "    plt.xlabel('X')\n",
    "    plt.show()\n",
    "\n",
    "if __name__ == '__main__':\n",
    "    plotlwlrRegression()"
   ]
  },
  {
   "cell_type": "markdown",
   "metadata": {},
   "source": [
    "可以看到，当k越小，拟合效果越好。但是当k过小，会出现过拟合的情况，例如k等于0.003的时候\n",
    "\n",
    "在算法实现的过程中，我们可以体会到局部加权线性回归也存在一个问题，它对每个点做预测时都必须使用整个数据集，大大的增加了计算量。"
   ]
  },
  {
   "cell_type": "markdown",
   "metadata": {},
   "source": [
    "##  【实验】使用scikit-learn实现线性回归算法"
   ]
  },
  {
   "cell_type": "markdown",
   "metadata": {},
   "source": [
    "sklearn.linear_model模块提供了很多集成操作，线性回归、岭回归、贝叶斯回归等。本文使用的是LinearRegression。\n",
    "\n",
    "让我们先看下LinearRegression这个函数，一共有4个参数：`fit_intercept`、`normalize`、`copy_x`、`n_jobs`\n",
    "\n",
    "参数说明如下：\n",
    "\n",
    "    fit_intercept：可选参数，布尔值，默认为True。是否对数据进行中心化。如果该变量为false，则表明数据已经进行了中心化，在下面的过程中不进行中心化处理，否则对输入数据进行中心化处理。\n",
    "\n",
    "    normalize：可选参数，布尔值，默认为False。是否对数据进行标准化处理。当fit_intercept设置为false时，该参数会被忽略。如果该变量为true，则对数据进行标准化处理。需要在使用normalize=False的estimator调用fit之前使用sklearn.preprocessing.StandardScaler。\n",
    "\n",
    "    copy_X:可选参数，布尔值，默认为True。该值为true，复制X；否则，重写X。\n",
    "\n",
    "    n_jobs:可选参数，整型，默认为1。计算时设置的任务个数(number of jobs)。如果选择-1则代表使用所有的CPU。这一参数的对于目标个数>1（n_targets>1）且足够大规模的问题有加速作用。\n",
    "\n",
    "返回值：\n",
    "\n",
    "    coef_ :数组型变量，shape为（n_feature）或者(n_targets,n_features)。线性回归问题中的回归系数。如果输入为多目标问题，即fit二维数据，则返回一个二维数组，shape为（n_targets,n_features）；如果输入为单目标问题，返回一个一维数组。\n",
    "\n",
    "    intercept_：数组型变量。线性模型中的独立项。\n",
    "\n",
    "\n",
    "方法：\n",
    "\n",
    "    decision_function(X)  对训练数据X进行预测\n",
    "\n",
    "    fit(X, y[, n_jobs])                     对训练集X, y进行训练。是对scipy.linalg.lstsq的封装\n",
    "\n",
    "    get_params([deep]) 得到该估计器(estimator)的参数。\n",
    "\n",
    "    predict(X) 使用训练得到的估计器对输入为X的集合进行预测（X可以是测试集，也可以是需要预测的数据）。\n",
    "\n",
    "    score(X, y[,]sample_weight)   返回对于以X为samples，以y为target的预测效果评分。\n",
    "\n",
    "    set_params(**params)            设置估计器的参数\n",
    "\n",
    "\n",
    "了解了这些，接下来，我们使用sklearn库来实现我们第一个实验中的线性回归模型。添加如下代码："
   ]
  },
  {
   "cell_type": "code",
   "execution_count": 7,
   "metadata": {},
   "outputs": [
    {
     "data": {
      "image/png": "[encoded data removed]",
      "text/plain": [
       "<Figure size 432x288 with 1 Axes>"
      ]
     },
     "metadata": {},
     "output_type": "display_data"
    }
   ],
   "source": [
    "#!/usr/bin/env python\n",
    "#-*- coding:utf-8 -*-\n",
    "import matplotlib.pyplot as plt\n",
    "from numpy import *\n",
    "from sklearn import datasets, linear_model\n",
    "from sklearn.metrics import mean_squared_error, r2_score\n",
    "import pandas as pd\n",
    "\n",
    "\n",
    "def loadDataSet(fileName):      \n",
    "    \"\"\"\n",
    "    打开一个用tab键分隔的文本文件\n",
    "    parameters:\n",
    "        fileName -文件名\n",
    "    return:\n",
    "        dataMat -数据矩阵\n",
    "        labelMat -目标值向量\n",
    "    \"\"\"\n",
    "    df = pd.read_csv(fileName, sep='\\t', header=None)\n",
    "    dataMat = df.iloc[:, :-1]\n",
    "    labelMat = df.iloc[:, -1]\n",
    "    dataMat = np.array(dataMat).tolist()\n",
    "    labelMat = np.array(labelMat).tolist()\n",
    "    \n",
    "    return dataMat,labelMat\n",
    "\n",
    "if __name__ =='__main__':\n",
    "    dataX, dataY =loadDataSet('./work/multiple_linear_regression/ex0.txt')\n",
    "    matX=mat(dataX);matY=mat(dataY).T #将数据保存到矩阵中\n",
    "    regr = linear_model.LinearRegression()  #生成线性回归模型\n",
    "    #填充训练数据 matX(n_samples,n_features);matY(n_samples,n_targets)\n",
    "    regr.fit(np.array(matX), np.array(matY))\n",
    "    xCopy = matX.copy()\n",
    "    xCopy.sort(0)\n",
    "    predictY = regr.predict(np.array(xCopy)) #得到模型预测值\n",
    "\n",
    "    plt.scatter(matX[:,1].flatten().A[0],matY[:,0].flatten().A[0],s=20,color='green',alpha=.5) #绘制散点图\n",
    "    plt.plot(xCopy[:,1],predictY,color='red',linewidth=1) #绘制最佳拟合直线\n",
    " \n",
    "    plt.xticks(())\n",
    "    plt.yticks(())\n",
    "\n",
    "    plt.show()"
   ]
  },
  {
   "cell_type": "markdown",
   "metadata": {},
   "source": [
    "## 实验总结"
   ]
  },
  {
   "cell_type": "markdown",
   "metadata": {},
   "source": [
    "### 1. 掌握内容\n",
    "本节我们介绍了找出最佳拟合直线的两种方法，您应该能达到以下两个目标：\n",
    "\n",
    "1. 实现最小二乘法线性回归算法。\n",
    "\n",
    "2. 实现局部加权线性回归算法。"
   ]
  },
  {
   "cell_type": "markdown",
   "metadata": {},
   "source": [
    "## 参考文献与延伸阅读"
   ]
  },
  {
   "cell_type": "markdown",
   "metadata": {},
   "source": [
    "### 参考资料:"
   ]
  },
  {
   "cell_type": "markdown",
   "metadata": {},
   "source": [
    "1.哈林顿，李锐. 机器学习实战 : Machine learning in action[M]. 人民邮电出版社, 2013.  \n",
    "2.周志华. 机器学习:Machine learning[M]. 清华大学出版社, 2016."
   ]
  },
  {
   "cell_type": "markdown",
   "metadata": {},
   "source": [
    "### 延伸阅读"
   ]
  },
  {
   "cell_type": "markdown",
   "metadata": {},
   "source": [
    "1.李航. 统计学习方法[M]. 清华大学出版社, 2012."
   ]
  }
 ],
 "metadata": {
  "kernelspec": {
   "display_name": "Python 3",
   "language": "python",
   "name": "python3"
  },
  "language_info": {
   "codemirror_mode": {
    "name": "ipython",
    "version": 3
   },
   "file_extension": ".py",
   "mimetype": "text/x-python",
   "name": "python",
   "nbconvert_exporter": "python",
   "pygments_lexer": "ipython3",
   "version": "3.7.6"
  },
  "vscode": {
   "interpreter": {
    "hash": "c55e9d796d921fb146b10323731b2f7df76c41c7c7d9d40465948f697d4aaa4b"
   }
  }
 },
 "nbformat": 4,
 "nbformat_minor": 4
}
