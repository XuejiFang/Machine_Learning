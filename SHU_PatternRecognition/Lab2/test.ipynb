{
 "cells": [
  {
   "cell_type": "code",
   "execution_count": 1,
   "id": "5c98c342",
   "metadata": {},
   "outputs": [],
   "source": [
    "import numpy as np\n",
    "import seaborn as sns\n",
    "import matplotlib.pyplot as plt\n",
    "import matplotlib\n",
    "import pandas as pd\n",
    "import math\n",
    "#matplotlib.use('TkAgg')\n"
   ]
  },
  {
   "cell_type": "code",
   "execution_count": 2,
   "id": "30a46c76",
   "metadata": {},
   "outputs": [],
   "source": [
    "def load_data(fileName):\n",
    "    data = pd.read_excel(fileName,index_col=0)\n",
    "    data = data.dropna(axis=1)\n",
    "    data['性别'] = data['性别'].map({'男':0,'女':1})\n",
    "    # sns.pairplot(data)\n",
    "    return data"
   ]
  },
  {
   "cell_type": "code",
   "execution_count": 3,
   "id": "a6685fbe",
   "metadata": {},
   "outputs": [],
   "source": [
    "fileName = './work/2021冬模式识别数据收集.xlsx'\n",
    "data = load_data(fileName)"
   ]
  },
  {
   "cell_type": "code",
   "execution_count": 5,
   "id": "d98cecc8",
   "metadata": {},
   "outputs": [],
   "source": [
    "height=data['身高(cm)']\n",
    "weight=data['体重(kg)']\n",
    "r=data[['身高(cm)', '体重(kg)']].corr(method='pearson')"
   ]
  },
  {
   "cell_type": "code",
   "execution_count": 39,
   "id": "c976ed5c",
   "metadata": {},
   "outputs": [
    {
     "data": {
      "text/plain": [
       "158"
      ]
     },
     "execution_count": 39,
     "metadata": {},
     "output_type": "execute_result"
    }
   ],
   "source": [
    "height.min()"
   ]
  },
  {
   "cell_type": "code",
   "execution_count": 40,
   "id": "7816505b",
   "metadata": {},
   "outputs": [
    {
     "data": {
      "text/plain": [
       "190"
      ]
     },
     "execution_count": 40,
     "metadata": {},
     "output_type": "execute_result"
    }
   ],
   "source": [
    "height.max()"
   ]
  },
  {
   "cell_type": "code",
   "execution_count": 6,
   "id": "fc6dcab7",
   "metadata": {},
   "outputs": [
    {
     "data": {
      "text/html": [
       "<div>\n",
       "<style scoped>\n",
       "    .dataframe tbody tr th:only-of-type {\n",
       "        vertical-align: middle;\n",
       "    }\n",
       "\n",
       "    .dataframe tbody tr th {\n",
       "        vertical-align: top;\n",
       "    }\n",
       "\n",
       "    .dataframe thead th {\n",
       "        text-align: right;\n",
       "    }\n",
       "</style>\n",
       "<table border=\"1\" class=\"dataframe\">\n",
       "  <thead>\n",
       "    <tr style=\"text-align: right;\">\n",
       "      <th></th>\n",
       "      <th>身高(cm)</th>\n",
       "      <th>体重(kg)</th>\n",
       "    </tr>\n",
       "  </thead>\n",
       "  <tbody>\n",
       "    <tr>\n",
       "      <th>身高(cm)</th>\n",
       "      <td>1.000000</td>\n",
       "      <td>0.658102</td>\n",
       "    </tr>\n",
       "    <tr>\n",
       "      <th>体重(kg)</th>\n",
       "      <td>0.658102</td>\n",
       "      <td>1.000000</td>\n",
       "    </tr>\n",
       "  </tbody>\n",
       "</table>\n",
       "</div>"
      ],
      "text/plain": [
       "          身高(cm)    体重(kg)\n",
       "身高(cm)  1.000000  0.658102\n",
       "体重(kg)  0.658102  1.000000"
      ]
     },
     "execution_count": 6,
     "metadata": {},
     "output_type": "execute_result"
    }
   ],
   "source": [
    "r"
   ]
  },
  {
   "cell_type": "code",
   "execution_count": 21,
   "id": "e4d0e500",
   "metadata": {},
   "outputs": [
    {
     "data": {
      "text/plain": [
       "0.43309788108146896"
      ]
     },
     "execution_count": 21,
     "metadata": {},
     "output_type": "execute_result"
    }
   ],
   "source": [
    "r.iloc[0][1]**2"
   ]
  },
  {
   "cell_type": "code",
   "execution_count": 8,
   "id": "10c067b6",
   "metadata": {},
   "outputs": [
    {
     "data": {
      "text/plain": [
       "174.13725490196077"
      ]
     },
     "execution_count": 8,
     "metadata": {},
     "output_type": "execute_result"
    }
   ],
   "source": [
    "meanx=np.mean(height)\n",
    "meanx"
   ]
  },
  {
   "cell_type": "code",
   "execution_count": 9,
   "id": "2fa1eba5",
   "metadata": {},
   "outputs": [
    {
     "data": {
      "text/plain": [
       "62.400784313725495"
      ]
     },
     "execution_count": 9,
     "metadata": {},
     "output_type": "execute_result"
    }
   ],
   "source": [
    "varx=np.var(height)*len(height)/(len(height)-1)\n",
    "varx"
   ]
  },
  {
   "cell_type": "code",
   "execution_count": 10,
   "id": "969955f5",
   "metadata": {},
   "outputs": [
    {
     "data": {
      "text/plain": [
       "7.899416707183227"
      ]
     },
     "execution_count": 10,
     "metadata": {},
     "output_type": "execute_result"
    }
   ],
   "source": [
    "sigmax=np.sqrt(varx)\n",
    "sigmax"
   ]
  },
  {
   "cell_type": "code",
   "execution_count": 11,
   "id": "b591ebf4",
   "metadata": {},
   "outputs": [],
   "source": [
    "meany=np.mean(weight)\n",
    "vary=np.var(weight)*len(weight)/(len(weight)-1)\n",
    "sigmay=np.sqrt(vary)\n",
    "pi=math.pi"
   ]
  },
  {
   "cell_type": "code",
   "execution_count": 45,
   "id": "5bd01c47",
   "metadata": {},
   "outputs": [],
   "source": [
    "x = np.arange(start=height.min(), stop=height.max(), step=0.1)\n",
    "y = np.arange(start=weight.min(), stop=weight.max(), step=0.1)\n",
    "X, Y = np.meshgrid(x, y)"
   ]
  },
  {
   "cell_type": "code",
   "execution_count": 62,
   "id": "b984a986",
   "metadata": {},
   "outputs": [],
   "source": [
    "z=1/(2*pi*sigmax*sigmay*np.sqrt(1-r.iloc[0][1]**2))*np.exp(((X-meanx)**2/varx+(Y-meany)**2/vary-2*r.iloc[0][1]*(X-meanx)*(Y-meany)/sigmax/sigmay)/(-2*(1-r.iloc[0][1])**2))"
   ]
  },
  {
   "cell_type": "code",
   "execution_count": 64,
   "id": "8e2c8474",
   "metadata": {},
   "outputs": [],
   "source": [
    "z=(z-z.min())/(z.max()-z.min())"
   ]
  },
  {
   "cell_type": "code",
   "execution_count": 65,
   "id": "5fd6219e",
   "metadata": {},
   "outputs": [
    {
     "data": {
      "image/png": "[encoded data removed]",
      "text/plain": [
       "<Figure size 432x288 with 1 Axes>"
      ]
     },
     "metadata": {
      "needs_background": "light"
     },
     "output_type": "display_data"
    }
   ],
   "source": [
    "fig=plt.figure()\n",
    "ax=plt.axes(projection='3d')\n",
    "ax.plot_surface(X,Y,z,alpha=0.9, cstride=1, rstride = 1, cmap='rainbow')\n",
    "ax.set_zlim(0,1)\n",
    "plt.show()"
   ]
  }
 ],
 "metadata": {
  "kernelspec": {
   "display_name": "Python 3 (ipykernel)",
   "language": "python",
   "name": "python3"
  },
  "language_info": {
   "codemirror_mode": {
    "name": "ipython",
    "version": 3
   },
   "file_extension": ".py",
   "mimetype": "text/x-python",
   "name": "python",
   "nbconvert_exporter": "python",
   "pygments_lexer": "ipython3",
   "version": "3.8.4"
  }
 },
 "nbformat": 4,
 "nbformat_minor": 5
}
