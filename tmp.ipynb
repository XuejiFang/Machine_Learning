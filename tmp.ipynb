{
 "cells": [
  {
   "cell_type": "code",
   "execution_count": 1,
   "id": "7cb0f3d3",
   "metadata": {},
   "outputs": [],
   "source": [
    "import sys"
   ]
  },
  {
   "cell_type": "code",
   "execution_count": 2,
   "id": "3b534d70",
   "metadata": {},
   "outputs": [
    {
     "name": "stdout",
     "output_type": "stream",
     "text": [
      "['E:\\\\project\\\\python\\\\MachineLearning', 'd:\\\\newprogramfile\\\\python\\\\python38.zip', 'd:\\\\newprogramfile\\\\python\\\\DLLs', 'd:\\\\newprogramfile\\\\python\\\\lib', 'd:\\\\newprogramfile\\\\python', '', 'C:\\\\Users\\\\hp\\\\AppData\\\\Roaming\\\\Python\\\\Python38\\\\site-packages', 'd:\\\\newprogramfile\\\\python\\\\lib\\\\site-packages', 'd:\\\\newprogramfile\\\\python\\\\lib\\\\site-packages\\\\win32', 'd:\\\\newprogramfile\\\\python\\\\lib\\\\site-packages\\\\win32\\\\lib', 'd:\\\\newprogramfile\\\\python\\\\lib\\\\site-packages\\\\Pythonwin', 'd:\\\\newprogramfile\\\\python\\\\lib\\\\site-packages\\\\IPython\\\\extensions', 'C:\\\\Users\\\\hp\\\\.ipython']\n"
     ]
    }
   ],
   "source": [
    "print(sys.path)"
   ]
  },
  {
   "cell_type": "code",
   "execution_count": 9,
   "id": "aa0d44ef",
   "metadata": {},
   "outputs": [
    {
     "name": "stdout",
     "output_type": "stream",
     "text": [
      "['E:\\\\project\\\\python', 'E:\\\\project\\\\python\\\\MachineLearning', 'd:\\\\newprogramfile\\\\python\\\\python38.zip', 'd:\\\\newprogramfile\\\\python\\\\DLLs', 'd:\\\\newprogramfile\\\\python\\\\lib', 'd:\\\\newprogramfile\\\\python', '', 'C:\\\\Users\\\\hp\\\\AppData\\\\Roaming\\\\Python\\\\Python38\\\\site-packages', 'd:\\\\newprogramfile\\\\python\\\\lib\\\\site-packages', 'd:\\\\newprogramfile\\\\python\\\\lib\\\\site-packages\\\\win32', 'd:\\\\newprogramfile\\\\python\\\\lib\\\\site-packages\\\\win32\\\\lib', 'd:\\\\newprogramfile\\\\python\\\\lib\\\\site-packages\\\\Pythonwin', 'd:\\\\newprogramfile\\\\python\\\\lib\\\\site-packages\\\\IPython\\\\extensions', 'C:\\\\Users\\\\hp\\\\.ipython']\n"
     ]
    }
   ],
   "source": [
    "print(sys.path)"
   ]
  },
  {
   "cell_type": "code",
   "execution_count": 4,
   "id": "25295137",
   "metadata": {},
   "outputs": [],
   "source": [
    "sys.path.insert(0,'E:\\\\project\\python')"
   ]
  },
  {
   "cell_type": "code",
   "execution_count": 5,
   "id": "ef9fdefa",
   "metadata": {},
   "outputs": [],
   "source": [
    "from funclib import *"
   ]
  },
  {
   "cell_type": "code",
   "execution_count": 6,
   "id": "fc25459f",
   "metadata": {},
   "outputs": [],
   "source": [
    "import numpy as np"
   ]
  },
  {
   "cell_type": "code",
   "execution_count": 7,
   "id": "166a4626",
   "metadata": {
    "scrolled": true
   },
   "outputs": [
    {
     "name": "stdout",
     "output_type": "stream",
     "text": [
      "Help on function mscatter in module funclib:\n",
      "\n",
      "mscatter(x, y, ax=None, m=None, **kw)\n",
      "    函数说明：自定义绘制散点图，可实现不同类别的形状不同\n",
      "    parameters:\n",
      "        x, y - 作为一组坐标\n",
      "        ax - 表示需要绘制在指定的axes中\n",
      "        m - 表示各类别对应的形状\n",
      "            - map_marker = {0: 'o', 1: 's', 2: '*'}\n",
      "                markers = list(map(lambda x: map_marker[x], datingLabels))\n",
      "        **kw - 可以传入大小、颜色等属性\n",
      "    return:\n",
      "        sc - `~matplotlib.collections.PathCollection`\n",
      "\n"
     ]
    }
   ],
   "source": [
    "help(mscatter)"
   ]
  },
  {
   "cell_type": "code",
   "execution_count": 8,
   "id": "0fc87ac8",
   "metadata": {},
   "outputs": [
    {
     "data": {
      "text/plain": [
       "<matplotlib.collections.PathCollection at 0x16fde890e20>"
      ]
     },
     "execution_count": 8,
     "metadata": {},
     "output_type": "execute_result"
    },
    {
     "data": {
      "image/png": "[encoded data removed]",
      "text/plain": [
       "<Figure size 432x288 with 1 Axes>"
      ]
     },
     "metadata": {
      "needs_background": "light"
     },
     "output_type": "display_data"
    }
   ],
   "source": [
    "a=np.array([1,2,3])\n",
    "b=np.array([3,4,5])\n",
    "labels=[0,1,2]\n",
    "map_marker = {0: 'o', 1: 's', 2: '*'}\n",
    "markers = list(map(lambda x: map_marker[x], labels))\n",
    "\n",
    "mscatter(a,b,m=markers)"
   ]
  },
  {
   "cell_type": "code",
   "execution_count": null,
   "id": "ac093182",
   "metadata": {},
   "outputs": [],
   "source": []
  }
 ],
 "metadata": {
  "kernelspec": {
   "display_name": "Python 3 (ipykernel)",
   "language": "python",
   "name": "python3"
  },
  "language_info": {
   "codemirror_mode": {
    "name": "ipython",
    "version": 3
   },
   "file_extension": ".py",
   "mimetype": "text/x-python",
   "name": "python",
   "nbconvert_exporter": "python",
   "pygments_lexer": "ipython3",
   "version": "3.8.4"
  }
 },
 "nbformat": 4,
 "nbformat_minor": 5
}
